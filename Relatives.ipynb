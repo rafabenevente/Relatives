{
 "nbformat": 4,
 "nbformat_minor": 0,
 "metadata": {
  "colab": {
   "name": "Relatives.ipynb",
   "provenance": []
  },
  "kernelspec": {
   "name": "python3",
   "display_name": "Python 3"
  },
  "language_info": {
   "name": "python"
  }
 },
 "cells": [
  {
   "cell_type": "markdown",
   "source": [],
   "metadata": {
    "collapsed": false
   }
  },
  {
   "cell_type": "code",
   "metadata": {
    "id": "64Wb8LPSXvd4"
   },
   "source": [
    "import pandas as pd\n",
    "import numpy as np\n",
    "\n",
    "gen_study = pd.read_excel(\"https://github.com/rafabenevente/Relatives/blob/main/gen_study.xlsx?raw=true\")"
   ],
   "execution_count": 2,
   "outputs": []
  },
  {
   "cell_type": "code",
   "metadata": {
    "id": "jB5AqGV9ysyV",
    "outputId": "fe23d027-6281-490c-cdbe-c4d164124f1f",
    "colab": {
     "base_uri": "https://localhost:8080/",
     "height": 287
    }
   },
   "source": [
    "df = gen_study.T\n",
    "df.drop(df.columns[0], axis=1, inplace=True)\n",
    "new_header = df.iloc[0] #grab the first row for the header\n",
    "df = df[1:] #take the data less the header row\n",
    "df.columns = new_header #set the header row as the df header\n",
    "print(df.shape)\n",
    "df.head() # check the df"
   ],
   "execution_count": 3,
   "outputs": [
    {
     "name": "stdout",
     "output_type": "stream",
     "text": [
      "(48, 65214)\n"
     ]
    },
    {
     "data": {
      "text/plain": "Unnamed: 0 ENSG00000000005 ENSG00000000419 ENSG00000000457 ENSG00000000460  \\\nH223                     0            1216             189              74   \nH224                     0            1228             114              38   \nH225                     0            1022             110              55   \nH226                     0             912             289             127   \nH227                     0             491             186              30   \n\nUnnamed: 0 ENSG00000000938 ENSG00000000971 ENSG00000001036 ENSG00000001084  \\\nH223                 31895               2             763            8963   \nH224                 23361               3             712           26794   \nH225                 27944               0             956            8027   \nH226                 41846               6            1104             716   \nH227                 11929              14             136             745   \n\nUnnamed: 0 ENSG00000001167 ENSG00000001460  ... ENSG00000281913  \\\nH223                  1589               8  ...               0   \nH224                  1734              11  ...               0   \nH225                  1341               9  ...               0   \nH226                  1053              22  ...               0   \nH227                   730              11  ...               0   \n\nUnnamed: 0 ENSG00000281914 ENSG00000281915 ENSG00000281916 ENSG00000281917  \\\nH223                     0               0               0               0   \nH224                     0               0               0               0   \nH225                     0               0               0               0   \nH226                     0               0               0               0   \nH227                     0               0               0               0   \n\nUnnamed: 0 ENSG00000281918 ENSG00000281919 ENSG00000281920 ENSG00000281921  \\\nH223                     0               0               0               0   \nH224                     0               0               0               0   \nH225                     0               0               0               0   \nH226                     0               0               0               0   \nH227                     0               0               0               0   \n\nUnnamed: 0 ENSG00000281922  \nH223                     0  \nH224                     0  \nH225                     0  \nH226                     0  \nH227                     0  \n\n[5 rows x 65214 columns]",
      "text/html": "<div>\n<style scoped>\n    .dataframe tbody tr th:only-of-type {\n        vertical-align: middle;\n    }\n\n    .dataframe tbody tr th {\n        vertical-align: top;\n    }\n\n    .dataframe thead th {\n        text-align: right;\n    }\n</style>\n<table border=\"1\" class=\"dataframe\">\n  <thead>\n    <tr style=\"text-align: right;\">\n      <th>Unnamed: 0</th>\n      <th>ENSG00000000005</th>\n      <th>ENSG00000000419</th>\n      <th>ENSG00000000457</th>\n      <th>ENSG00000000460</th>\n      <th>ENSG00000000938</th>\n      <th>ENSG00000000971</th>\n      <th>ENSG00000001036</th>\n      <th>ENSG00000001084</th>\n      <th>ENSG00000001167</th>\n      <th>ENSG00000001460</th>\n      <th>...</th>\n      <th>ENSG00000281913</th>\n      <th>ENSG00000281914</th>\n      <th>ENSG00000281915</th>\n      <th>ENSG00000281916</th>\n      <th>ENSG00000281917</th>\n      <th>ENSG00000281918</th>\n      <th>ENSG00000281919</th>\n      <th>ENSG00000281920</th>\n      <th>ENSG00000281921</th>\n      <th>ENSG00000281922</th>\n    </tr>\n  </thead>\n  <tbody>\n    <tr>\n      <th>H223</th>\n      <td>0</td>\n      <td>1216</td>\n      <td>189</td>\n      <td>74</td>\n      <td>31895</td>\n      <td>2</td>\n      <td>763</td>\n      <td>8963</td>\n      <td>1589</td>\n      <td>8</td>\n      <td>...</td>\n      <td>0</td>\n      <td>0</td>\n      <td>0</td>\n      <td>0</td>\n      <td>0</td>\n      <td>0</td>\n      <td>0</td>\n      <td>0</td>\n      <td>0</td>\n      <td>0</td>\n    </tr>\n    <tr>\n      <th>H224</th>\n      <td>0</td>\n      <td>1228</td>\n      <td>114</td>\n      <td>38</td>\n      <td>23361</td>\n      <td>3</td>\n      <td>712</td>\n      <td>26794</td>\n      <td>1734</td>\n      <td>11</td>\n      <td>...</td>\n      <td>0</td>\n      <td>0</td>\n      <td>0</td>\n      <td>0</td>\n      <td>0</td>\n      <td>0</td>\n      <td>0</td>\n      <td>0</td>\n      <td>0</td>\n      <td>0</td>\n    </tr>\n    <tr>\n      <th>H225</th>\n      <td>0</td>\n      <td>1022</td>\n      <td>110</td>\n      <td>55</td>\n      <td>27944</td>\n      <td>0</td>\n      <td>956</td>\n      <td>8027</td>\n      <td>1341</td>\n      <td>9</td>\n      <td>...</td>\n      <td>0</td>\n      <td>0</td>\n      <td>0</td>\n      <td>0</td>\n      <td>0</td>\n      <td>0</td>\n      <td>0</td>\n      <td>0</td>\n      <td>0</td>\n      <td>0</td>\n    </tr>\n    <tr>\n      <th>H226</th>\n      <td>0</td>\n      <td>912</td>\n      <td>289</td>\n      <td>127</td>\n      <td>41846</td>\n      <td>6</td>\n      <td>1104</td>\n      <td>716</td>\n      <td>1053</td>\n      <td>22</td>\n      <td>...</td>\n      <td>0</td>\n      <td>0</td>\n      <td>0</td>\n      <td>0</td>\n      <td>0</td>\n      <td>0</td>\n      <td>0</td>\n      <td>0</td>\n      <td>0</td>\n      <td>0</td>\n    </tr>\n    <tr>\n      <th>H227</th>\n      <td>0</td>\n      <td>491</td>\n      <td>186</td>\n      <td>30</td>\n      <td>11929</td>\n      <td>14</td>\n      <td>136</td>\n      <td>745</td>\n      <td>730</td>\n      <td>11</td>\n      <td>...</td>\n      <td>0</td>\n      <td>0</td>\n      <td>0</td>\n      <td>0</td>\n      <td>0</td>\n      <td>0</td>\n      <td>0</td>\n      <td>0</td>\n      <td>0</td>\n      <td>0</td>\n    </tr>\n  </tbody>\n</table>\n<p>5 rows × 65214 columns</p>\n</div>"
     },
     "execution_count": 3,
     "metadata": {},
     "output_type": "execute_result"
    }
   ]
  },
  {
   "cell_type": "code",
   "metadata": {
    "id": "o5PyZppD4UP3",
    "outputId": "4ac1cbb2-65c4-46d7-ac82-41024abbe1f8",
    "colab": {
     "base_uri": "https://localhost:8080/"
    }
   },
   "source": [
    "# Save for later use\n",
    "indexes = df.index"
   ],
   "execution_count": 4,
   "outputs": []
  },
  {
   "cell_type": "code",
   "metadata": {
    "id": "EZ_5M5-H48QY"
   },
   "source": [
    "# convert all columns to numeric\n",
    "df = df.apply(pd.to_numeric)"
   ],
   "execution_count": 5,
   "outputs": []
  },
  {
   "cell_type": "code",
   "metadata": {
    "id": "cnXFpGTq3b1G",
    "outputId": "61c41351-bb49-4d6a-ff33-8a716f1b3666",
    "colab": {
     "base_uri": "https://localhost:8080/",
     "height": 238
    }
   },
   "source": [
    "# check datatypes\n",
    "from IPython.core.display import display\n",
    "display(df.dtypes)"
   ],
   "execution_count": 6,
   "outputs": [
    {
     "data": {
      "text/plain": "Unnamed: 0\nENSG00000000005    int64\nENSG00000000419    int64\nENSG00000000457    int64\nENSG00000000460    int64\nENSG00000000938    int64\n                   ...  \nENSG00000281918    int64\nENSG00000281919    int64\nENSG00000281920    int64\nENSG00000281921    int64\nENSG00000281922    int64\nLength: 65214, dtype: object"
     },
     "metadata": {},
     "output_type": "display_data"
    }
   ]
  },
  {
   "cell_type": "code",
   "execution_count": 7,
   "outputs": [
    {
     "name": "stdout",
     "output_type": "stream",
     "text": [
      "Min value in dataframe: 0\n",
      "Max value in dataframe: 944074\n"
     ]
    }
   ],
   "source": [
    "print(f\"Min value in dataframe: {np.min(df.to_numpy())}\")\n",
    "print(f\"Max value in dataframe: {np.max(df.to_numpy())}\")"
   ],
   "metadata": {
    "collapsed": false,
    "pycharm": {
     "name": "#%%\n"
    }
   }
  },
  {
   "cell_type": "code",
   "execution_count": 8,
   "outputs": [
    {
     "data": {
      "text/plain": "0"
     },
     "execution_count": 8,
     "metadata": {},
     "output_type": "execute_result"
    }
   ],
   "source": [
    "# Check for duplicated rows\n",
    "df.duplicated().sum()"
   ],
   "metadata": {
    "collapsed": false,
    "pycharm": {
     "name": "#%%\n"
    }
   }
  },
  {
   "cell_type": "code",
   "execution_count": 9,
   "outputs": [
    {
     "data": {
      "text/plain": "(48, 44677)"
     },
     "execution_count": 9,
     "metadata": {},
     "output_type": "execute_result"
    }
   ],
   "source": [
    "# Removing columns with only one value\n",
    "for col in df.columns:\n",
    "    if len(df[col].unique()) == 1:\n",
    "        df = df.drop(col,axis=1)\n",
    "\n",
    "# check dataframe shape\n",
    "df.shape"
   ],
   "metadata": {
    "collapsed": false,
    "pycharm": {
     "name": "#%%\n"
    }
   }
  },
  {
   "cell_type": "code",
   "execution_count": 10,
   "outputs": [
    {
     "data": {
      "text/plain": "Unnamed: 0\nENSG00000000005    0\nENSG00000000419    0\nENSG00000000457    0\nENSG00000000460    0\nENSG00000000938    0\n                  ..\nENSG00000281904    0\nENSG00000281909    0\nENSG00000281912    0\nENSG00000281918    0\nENSG00000281920    0\nLength: 44677, dtype: int64"
     },
     "execution_count": 10,
     "metadata": {},
     "output_type": "execute_result"
    }
   ],
   "source": [
    "# Check for null data in columns\n",
    "df.isnull().sum(axis = 0)"
   ],
   "metadata": {
    "collapsed": false,
    "pycharm": {
     "name": "#%%\n"
    }
   }
  },
  {
   "cell_type": "code",
   "metadata": {
    "id": "eEcwy3Zn2DEc"
   },
   "source": [
    "# Check for null data in columns\n",
    "df.isnull().sum(axis = 1)"
   ],
   "execution_count": 11,
   "outputs": [
    {
     "data": {
      "text/plain": "H223    0\nH224    0\nH225    0\nH226    0\nH227    0\nH228    0\nH229    0\nH230    0\nH231    0\nH232    0\nH233    0\nH234    0\nH235    0\nH236    0\nH237    0\nH238    0\nH239    0\nH240    0\nH241    0\nH242    0\nH243    0\nH244    0\nH245    0\nH246    0\nH247    0\nH248    0\nH249    0\nH250    0\nH251    0\nH252    0\nH253    0\nH254    0\nH255    0\nH256    0\nH257    0\nH258    0\nH259    0\nH260    0\nH261    0\nH262    0\nH263    0\nH264    0\nH265    0\nH266    0\nH267    0\nH268    0\nH269    0\nH270    0\ndtype: int64"
     },
     "execution_count": 11,
     "metadata": {},
     "output_type": "execute_result"
    }
   ]
  },
  {
   "cell_type": "code",
   "metadata": {
    "id": "_YN8CyVFxtZw",
    "outputId": "f037cd33-2c96-4251-d812-6521e70c26e4",
    "colab": {
     "base_uri": "https://localhost:8080/"
    }
   },
   "source": [
    "from sklearn.preprocessing import StandardScaler\n",
    "from sklearn.preprocessing import MinMaxScaler\n",
    "\n",
    "# Standardizing the features\n",
    "df = StandardScaler().fit_transform(df)\n",
    "print(f\"Min value in dataframe: {np.min(df)}\")\n",
    "print(f\"Max value in dataframe: {np.max(df)}\")"
   ],
   "execution_count": 12,
   "outputs": [
    {
     "name": "stdout",
     "output_type": "stream",
     "text": [
      "Min value in dataframe: -2.7419202288276208\n",
      "Max value in dataframe: 6.855654600401045\n"
     ]
    }
   ]
  },
  {
   "cell_type": "code",
   "metadata": {
    "id": "rIIzdzAO0hB_",
    "outputId": "6aa988c9-a0da-4c8c-a602-77f66a75d37d",
    "colab": {
     "base_uri": "https://localhost:8080/",
     "height": 842
    }
   },
   "source": [
    "import matplotlib.pyplot as plt\n",
    "from sklearn.decomposition import PCA\n",
    "\n",
    "pca = PCA()\n",
    "pca.fit(df)\n",
    "print(pca.explained_variance_ratio_)\n",
    "\n",
    "plt.figure(figsize = (25,10))\n",
    "plt.plot(range(df.shape[0]), pca.explained_variance_ratio_.cumsum(), marker='o', linestyle = '--')\n",
    "plt.xlabel('Number of components')\n",
    "plt.ylabel('Accumulated variance')\n",
    "plt.title('Accumulated variance by components')"
   ],
   "execution_count": 13,
   "outputs": [
    {
     "name": "stdout",
     "output_type": "stream",
     "text": [
      "[2.04339380e-01 7.21039375e-02 4.21702488e-02 3.76996639e-02\n",
      " 3.34946274e-02 3.18662374e-02 2.93339644e-02 2.52550488e-02\n",
      " 2.42291998e-02 2.05980727e-02 1.95701190e-02 1.89534703e-02\n",
      " 1.84409894e-02 1.78016098e-02 1.66910070e-02 1.62340401e-02\n",
      " 1.60097481e-02 1.55014355e-02 1.52693589e-02 1.49629188e-02\n",
      " 1.41880098e-02 1.40188865e-02 1.37117286e-02 1.36369206e-02\n",
      " 1.34844556e-02 1.32332326e-02 1.29072603e-02 1.27631297e-02\n",
      " 1.25144956e-02 1.22963000e-02 1.22411012e-02 1.20435904e-02\n",
      " 1.18208301e-02 1.14879056e-02 1.13499286e-02 1.10734346e-02\n",
      " 1.09412985e-02 1.05485910e-02 1.03083227e-02 1.01453778e-02\n",
      " 9.94399449e-03 9.67460295e-03 9.36811971e-03 9.23105490e-03\n",
      " 9.05817663e-03 8.91579655e-03 8.56837680e-03 1.73376361e-29]\n"
     ]
    },
    {
     "data": {
      "text/plain": "Text(0.5, 1.0, 'Accumulated variance by components')"
     },
     "execution_count": 13,
     "metadata": {},
     "output_type": "execute_result"
    },
    {
     "data": {
      "text/plain": "<Figure size 1800x720 with 1 Axes>",
      "image/png": "[encoded data removed]"
     },
     "metadata": {
      "needs_background": "light"
     },
     "output_type": "display_data"
    }
   ]
  },
  {
   "cell_type": "code",
   "execution_count": 25,
   "outputs": [
    {
     "name": "stdout",
     "output_type": "stream",
     "text": [
      "(48, 25)\n"
     ]
    }
   ],
   "source": [
    "pca = PCA(0.75)\n",
    "# 100% - 47 Components\n",
    "# 75% - 25 Components\n",
    "# 50% - 9 Components\n",
    "# 25% - 2 Components\n",
    "np_pca = pca.fit_transform(df)\n",
    "print(np_pca.shape)"
   ],
   "metadata": {
    "collapsed": false,
    "pycharm": {
     "name": "#%%\n"
    }
   }
  },
  {
   "cell_type": "code",
   "execution_count": 26,
   "outputs": [
    {
     "data": {
      "text/plain": "             PC0         PC1         PC2        PC3         PC4         PC5  \\\nH223   68.195396   86.751499  -70.668891  69.384746  -55.068531  -36.250057   \nH224   43.359412  106.815725  -43.170183  19.607002  -47.524965    3.644159   \nH225   27.179067   82.835109   -9.129869  20.254504  -57.545107  -19.833407   \nH226  141.701480  -64.255470  -85.331769  41.170221  -39.658965  -66.870292   \nH227  -92.459789  -38.536572  -42.267405 -13.769492  -27.230692  -30.765006   \nH228  -96.234665  -29.812934  -52.738251 -65.725836  -43.879200   -9.699033   \nH229  -94.295358  -35.091207  -50.728376 -63.946268  -49.851276  -11.818621   \nH230   94.817830  -59.114651  -36.109496  -6.547982  -33.795645    1.886844   \nH231  -71.445034  -32.199669  -23.082266  69.420658    3.432083   13.998282   \nH232 -110.403159  -31.400601   -6.742810  18.470705   -2.775360    9.741128   \nH233 -103.455344  -40.519873  -12.838564  30.054525   -6.324923   20.611296   \nH234  167.987006  -27.407827  -19.543279  19.456920  -97.345354   33.277103   \nH235    5.461771   43.255769   63.248824  37.298840   -7.204998  -44.674575   \nH236    8.558120   71.552787   69.221171  13.643191   -7.288780  -12.036447   \nH237  -23.410707   44.662620   53.528716   5.505641  -27.965835  -32.312559   \nH238   79.007631  -57.036773   38.373525  28.836658   -7.839792  -78.609841   \nH239  -91.153291  -29.507352   26.013402   4.635792    2.705302  -34.722508   \nH240  -95.146593  -17.579015   22.414328 -37.056404   -8.273791  -19.946946   \nH241 -103.445428  -28.106673   34.880108 -30.516318   -8.706251  -28.312659   \nH242   98.460228  -39.465230   81.864050  -5.577077   15.586881    1.902774   \nH243  -64.522764  -31.051724   23.957192  88.452848   31.725756   30.294846   \nH244  -81.015177   -7.820902   17.539320  57.162181   26.739933   46.547026   \nH245  -73.850553  -24.270008   22.002092  64.635230   19.909614   45.735028   \nH246  130.915063  -32.707162  120.575126   0.867027  -24.018724  -12.354965   \nH247   43.410081   84.663167   -1.142345  27.737860    7.179123  -19.728854   \nH248   19.937521   99.889849   -0.811815 -15.372152   -8.864381   18.923681   \nH249   37.377258  109.191633   24.877364 -34.652505    6.930583   36.714878   \nH250  155.753168  -87.097546   -8.747012  -8.559230    7.342481  -38.037894   \nH251  -67.388167  -16.990836  -39.860493 -23.338417    0.602101    6.258782   \nH252  -67.227393   -1.304922  -45.896715 -59.552517  -21.573894   38.124520   \nH253  -66.734346   -3.074470  -37.336849 -79.856124  -12.900595   50.470831   \nH254   53.950435  -69.508850   59.616594 -36.012866   10.100867   -6.651156   \nH255  -41.163500  -12.890431  -11.543088  74.806021   31.800090   50.452515   \nH256  -75.465075   -0.239331  -23.519565  34.321553    9.843240   55.276594   \nH257  -73.419689  -18.072727  -19.917609  38.735816    3.395703   47.988945   \nH258  246.624979  -64.930468   29.846330 -25.117145  -65.651175  120.295912   \nH259   61.026318  104.098503  -38.161737  14.885874   38.795706  -37.091502   \nH260   20.630611  112.954210   17.189409 -41.833923   38.269684    0.405631   \nH261   59.921071  138.912772    4.302286 -48.461278   37.458772   19.917398   \nH262  200.911222  -47.267837  -92.373340   0.163081  121.685157  -57.656049   \nH263  -83.800506  -23.962042    8.825800 -30.562650   13.079449  -43.264570   \nH264  -76.596153   -1.638404    9.608324 -50.130392   11.814021  -21.952997   \nH265  -77.018766  -11.398277   11.009521 -56.063231    7.365503  -22.100210   \nH266  176.157970  -24.688586  -40.084993 -50.287976  113.387953   60.761194   \nH267  -63.717905  -11.729990  -13.210092  35.681788   37.468844   -2.009667   \nH268 -104.473872  -13.337888   16.856068  -5.748934   20.456987  -15.267542   \nH269  -89.324048  -17.048897    1.891244  -0.091726   31.808047    1.549722   \nH270   45.823641  -34.518500   67.316018 -26.408241   12.404352  -12.811731   \n\n             PC6         PC7        PC8        PC9  ...        PC15  \\\nH223    4.871482  -17.007716  13.476000  54.803407  ...   31.388289   \nH224   48.404680    9.523104  24.644849  -5.525649  ...   32.527836   \nH225   24.033153   -2.243335 -17.552042  -3.586604  ...   48.518954   \nH226    3.279608    7.018794  10.592044 -42.726899  ...    2.576186   \nH227   -6.790261   -6.358053  -5.067790  23.775030  ...  -20.524204   \nH228   12.686824  -17.889652  17.713253  12.751587  ...  -40.687006   \nH229   -9.934986  -28.522855  -7.874381   4.831687  ...  -19.416141   \nH230   72.611979   -3.352335  33.461945  -5.076865  ...   -9.932277   \nH231   -0.308742    0.286617  -9.207788   3.188707  ...   -5.196682   \nH232   28.387657   12.004565 -23.881599 -11.426495  ...  -15.832214   \nH233   17.383164    5.912583 -16.570050 -10.733284  ...   -5.012464   \nH234   35.564481  -64.457328 -63.252148 -54.529439  ...  -41.763468   \nH235  -22.930776  -23.630724  21.821884  30.746811  ...   16.082251   \nH236    0.371172  -19.377850  38.015723  -3.243645  ...   18.744935   \nH237   21.683453    2.211117 -15.826691  -4.124027  ...   31.235755   \nH238  -11.581054    2.174232  15.334070 -19.398521  ...   26.991058   \nH239  -18.307831   -7.015207   3.778901  22.993528  ...    3.443660   \nH240   -4.980804  -11.542935  18.059232   7.123842  ...    0.060513   \nH241   -9.336305   -2.232959  -5.606258   2.687286  ...   16.002704   \nH242   29.769235  -40.877756  79.638638 -10.328610  ...  -28.540512   \nH243  -34.884226  -24.334878  23.770304   3.316494  ...    3.357873   \nH244  -12.859051  -18.612498   3.323653 -18.790228  ...  -30.459636   \nH245  -19.556355  -23.059401   6.196235 -17.286208  ...    7.418210   \nH246  -31.997913  -69.850586 -32.481239 -23.561497  ...  -20.199376   \nH247  -43.832819   16.743851  40.762935  40.884484  ...  -25.171575   \nH248   32.567352   59.463008  46.037635 -23.322203  ...   -9.361898   \nH249  -45.898010   35.920018  16.226575 -57.422654  ...  -40.084192   \nH250  -46.874378  122.852619  45.407424 -34.729387  ...   -3.792493   \nH251  -71.473137  -24.184221  28.605803  26.158154  ...  -38.305181   \nH252  -15.831086  -17.983743  51.094405  -9.582344  ...  -25.688261   \nH253  -94.403172  -43.345683  29.240494 -35.794623  ...  101.497793   \nH254   43.489518   45.379108  28.887881  20.778388  ...  -15.327437   \nH255  -24.033496    5.334978  20.068027  -0.099901  ...   -1.501812   \nH256   30.066644   31.294012  -8.633397 -27.088955  ...   -1.908240   \nH257   19.030830   28.836465  -7.955738 -17.190459  ...   15.004879   \nH258  -57.163652   61.537452 -54.682564  91.927956  ...   18.410600   \nH259  -29.599376  -15.255271 -35.727353  77.180832  ...  -56.661647   \nH260   21.695552   23.762057  -4.834200 -14.686269  ...  -12.559227   \nH261  -14.242992   -8.335608 -68.903264 -48.513099  ...  -11.395856   \nH262  -53.207306  -21.321906 -44.053442 -37.425853  ...   11.005133   \nH263    0.774723   12.116901 -23.925389  27.297345  ...    1.001067   \nH264   21.788777   12.967062 -10.877985   8.156340  ...    2.271840   \nH265    4.625499    1.322818 -32.740747   7.935479  ...   19.199462   \nH266  100.058833  -64.852431  42.489031  46.791468  ...   31.137906   \nH267   14.603219   17.152855 -37.081679  18.208132  ...    5.494146   \nH268   42.806440   36.864390 -41.200985  -0.369586  ...    9.469789   \nH269   28.596999   29.422194 -47.535041   0.293089  ...   14.061073   \nH270   20.876456   -4.455867 -43.175172   4.733258  ...   12.419887   \n\n           PC16       PC17       PC18       PC19       PC20       PC21  \\\nH223  15.595003  10.043756  -3.713434   3.272136  37.662803 -12.391559   \nH224  -0.995725   6.200965  18.544573  25.659981 -42.213797 -52.954999   \nH225   6.444499  -3.327292 -11.333439   3.602436  19.890535 -12.895100   \nH226 -53.551982 -16.754768 -62.742675  42.756008 -12.099150   8.067788   \nH227   1.188248   2.828017  11.388386  10.369140  14.431959  -8.916964   \nH228 -18.427262  -2.808485   9.570609  19.057514 -17.686015  20.018635   \nH229 -19.157284  32.317713  15.267837  19.738661  -3.225357  61.965530   \nH230  52.280982  38.004074 -19.770947  -9.973528  20.936358 -20.427600   \nH231  16.020985   7.801568  23.755719  28.339483  -7.322662  -5.633245   \nH232  -9.983473  12.540125 -12.757364  14.984335  24.809061   1.395929   \nH233  -5.957711  16.686179   2.191167  15.261213   9.004279   6.465906   \nH234   7.687763 -13.978183  11.488712 -70.576315   3.685993  17.194563   \nH235   5.747573 -18.962732 -31.175804  -1.868445  15.078573  16.543934   \nH236  -4.535108 -13.186662 -15.080212   9.206966  -7.674600  -0.240701   \nH237  -3.089247 -12.956957   1.137123  -1.816229  -7.001117  -8.509856   \nH238 -22.469799 -11.555149  91.508995 -77.778373  11.423870   8.707228   \nH239  -4.553505 -13.237137  -4.510299 -21.910880  -1.920546 -11.247954   \nH240 -13.925814 -21.786085 -15.578903 -31.474336 -11.607618 -14.930277   \nH241  -6.803681  -4.469269 -14.019955 -19.686826 -12.808033  -3.019116   \nH242  58.133786  49.329143  -9.492954  -8.834403 -17.355212 -11.518652   \nH243  -1.414739  -9.036096   4.236385 -16.558270 -35.446615  15.750531   \nH244 -48.457091  20.819487 -66.547760 -32.544169  42.408737 -19.391963   \nH245 -24.048426  15.399036 -14.269102 -18.837426 -13.882511   5.509940   \nH246 -24.536274  -0.169486  41.595109  97.364791  -9.200904 -14.298446   \nH247   4.113546 -34.543114 -16.830613   4.937265  37.335421  93.875767   \nH248  -4.887494 -22.922099  11.143166  -6.055281 -39.630759  22.359437   \nH249 -54.810079  10.179471 -16.456139 -10.864744   8.719582 -45.036817   \nH250 -11.732294   1.868376   6.639888   4.889893 -11.458132 -10.570073   \nH251  30.463409 -52.422821  25.752955  12.101294  64.767387 -78.272490   \nH252  14.748365 -46.598134   9.454999  -8.278518 -37.900465   4.466625   \nH253  13.859104  60.770951 -12.119710  -3.484185   2.824109  12.701737   \nH254  51.624488  25.436383 -30.807920   4.952798  21.014693  11.529421   \nH255  36.117762  -7.991474  37.301764  27.773224 -22.769125  15.433261   \nH256  12.151708  -9.816272  12.864358  11.886442  21.788148  10.164980   \nH257  13.645726  -2.306152  19.316237   7.181243  -8.449542  12.139589   \nH258 -11.355116  -4.412196  -2.834314 -10.519122  -1.785989  -3.278056   \nH259 -10.448225  73.258769  -2.755627 -23.460951 -68.351429 -14.742881   \nH260 -28.413560  63.607380  62.056404   9.033554  68.863519  22.301549   \nH261  68.076962 -46.477261 -22.331542  -2.467142  -5.153801  12.281532   \nH262  31.118093   3.514930  -5.967004  -1.688363   1.868376   0.996686   \nH263   6.113027  -9.492738  -3.360475  -5.432369   1.987386 -11.446415   \nH264  -0.898833 -14.577305  -2.531665  -4.751280 -16.198566  -8.787899   \nH265  -4.344754  -5.360612  -6.538156 -10.111286 -14.648288  -4.810380   \nH266 -62.849042 -39.457916   9.739388   1.353153   9.000664  -0.434450   \nH267   5.553977  -5.894362  12.428502   3.428845 -13.174213 -11.946031   \nH268  -2.627967  -1.457585  -3.220026  -6.837051   5.711213  -4.607350   \nH269  -1.737684   5.835012  -0.874775   1.384684  -3.927055  -6.699591   \nH270   5.327159 -10.482990 -29.761463  27.274433  -0.321162  17.138296   \n\n           PC22       PC23       PC24  \nH223 -58.601307  59.560483 -34.299020  \nH224  42.693760  -0.833595  46.318511  \nH225 -23.275718 -26.789300 -19.974927  \nH226 -23.222778  -9.251307  12.905719  \nH227   0.348418  34.092994  24.919375  \nH228  -4.484300  -8.041145 -17.259424  \nH229   1.918269 -43.078628  37.722289  \nH230  71.979165 -30.152337 -66.781661  \nH231  -4.262863  26.210910  12.586933  \nH232   4.817368   8.178716  14.542923  \nH233  12.854420  10.466381   5.100456  \nH234  -6.896067  -1.564199  19.211656  \nH235  -8.169960 -34.554065   2.198304  \nH236  13.261827 -62.811191  10.307915  \nH237   7.338347 -21.498458  -4.388567  \nH238  20.154640   3.107348  -0.441161  \nH239   0.581229  12.506668   6.997289  \nH240  -4.603659  -2.749545 -19.537010  \nH241   3.298979  -2.353672  -0.103365  \nH242 -67.459489   5.175971  72.293819  \nH243 -14.954632  23.448683 -14.761650  \nH244  29.246833  26.738160   5.946882  \nH245  18.426641   3.230543 -30.397042  \nH246  29.336052  35.372069 -30.339777  \nH247  39.815486   2.438877  15.721941  \nH248  42.868123  69.460308  24.175141  \nH249 -30.691915 -23.773285 -16.016564  \nH250  -8.245932  -2.307114  -1.306152  \nH251  23.576559 -17.038647  31.970363  \nH252 -43.782019  16.511253 -65.887738  \nH253  19.597782  22.822033  12.831839  \nH254  13.324652  20.016318 -23.576214  \nH255 -13.192396 -55.106623 -21.290060  \nH256 -20.516605 -24.094369  14.474570  \nH257  -2.756263 -17.292546 -11.709317  \nH258  -6.029130  -6.882884  12.659825  \nH259  17.259987 -15.503510 -10.128145  \nH260 -31.441216   1.196992 -22.032799  \nH261   6.939692  16.095494   5.906349  \nH262   5.339155  -4.907792  -3.046033  \nH263  -1.724461   5.493698   5.662985  \nH264  -5.278862   3.614746 -10.223499  \nH265 -11.693880  -2.281893  -9.272918  \nH266   0.602155  -1.863193   8.962322  \nH267  -6.199076  -0.482650  13.501455  \nH268  -5.631874   3.439817  10.263655  \nH269  -4.792908  -8.049167  12.939652  \nH270 -17.672228  14.082653  -7.349126  \n\n[48 rows x 25 columns]",
      "text/html": "<div>\n<style scoped>\n    .dataframe tbody tr th:only-of-type {\n        vertical-align: middle;\n    }\n\n    .dataframe tbody tr th {\n        vertical-align: top;\n    }\n\n    .dataframe thead th {\n        text-align: right;\n    }\n</style>\n<table border=\"1\" class=\"dataframe\">\n  <thead>\n    <tr style=\"text-align: right;\">\n      <th></th>\n      <th>PC0</th>\n      <th>PC1</th>\n      <th>PC2</th>\n      <th>PC3</th>\n      <th>PC4</th>\n      <th>PC5</th>\n      <th>PC6</th>\n      <th>PC7</th>\n      <th>PC8</th>\n      <th>PC9</th>\n      <th>...</th>\n      <th>PC15</th>\n      <th>PC16</th>\n      <th>PC17</th>\n      <th>PC18</th>\n      <th>PC19</th>\n      <th>PC20</th>\n      <th>PC21</th>\n      <th>PC22</th>\n      <th>PC23</th>\n      <th>PC24</th>\n    </tr>\n  </thead>\n  <tbody>\n    <tr>\n      <th>H223</th>\n      <td>68.195396</td>\n      <td>86.751499</td>\n      <td>-70.668891</td>\n      <td>69.384746</td>\n      <td>-55.068531</td>\n      <td>-36.250057</td>\n      <td>4.871482</td>\n      <td>-17.007716</td>\n      <td>13.476000</td>\n      <td>54.803407</td>\n      <td>...</td>\n      <td>31.388289</td>\n      <td>15.595003</td>\n      <td>10.043756</td>\n      <td>-3.713434</td>\n      <td>3.272136</td>\n      <td>37.662803</td>\n      <td>-12.391559</td>\n      <td>-58.601307</td>\n      <td>59.560483</td>\n      <td>-34.299020</td>\n    </tr>\n    <tr>\n      <th>H224</th>\n      <td>43.359412</td>\n      <td>106.815725</td>\n      <td>-43.170183</td>\n      <td>19.607002</td>\n      <td>-47.524965</td>\n      <td>3.644159</td>\n      <td>48.404680</td>\n      <td>9.523104</td>\n      <td>24.644849</td>\n      <td>-5.525649</td>\n      <td>...</td>\n      <td>32.527836</td>\n      <td>-0.995725</td>\n      <td>6.200965</td>\n      <td>18.544573</td>\n      <td>25.659981</td>\n      <td>-42.213797</td>\n      <td>-52.954999</td>\n      <td>42.693760</td>\n      <td>-0.833595</td>\n      <td>46.318511</td>\n    </tr>\n    <tr>\n      <th>H225</th>\n      <td>27.179067</td>\n      <td>82.835109</td>\n      <td>-9.129869</td>\n      <td>20.254504</td>\n      <td>-57.545107</td>\n      <td>-19.833407</td>\n      <td>24.033153</td>\n      <td>-2.243335</td>\n      <td>-17.552042</td>\n      <td>-3.586604</td>\n      <td>...</td>\n      <td>48.518954</td>\n      <td>6.444499</td>\n      <td>-3.327292</td>\n      <td>-11.333439</td>\n      <td>3.602436</td>\n      <td>19.890535</td>\n      <td>-12.895100</td>\n      <td>-23.275718</td>\n      <td>-26.789300</td>\n      <td>-19.974927</td>\n    </tr>\n    <tr>\n      <th>H226</th>\n      <td>141.701480</td>\n      <td>-64.255470</td>\n      <td>-85.331769</td>\n      <td>41.170221</td>\n      <td>-39.658965</td>\n      <td>-66.870292</td>\n      <td>3.279608</td>\n      <td>7.018794</td>\n      <td>10.592044</td>\n      <td>-42.726899</td>\n      <td>...</td>\n      <td>2.576186</td>\n      <td>-53.551982</td>\n      <td>-16.754768</td>\n      <td>-62.742675</td>\n      <td>42.756008</td>\n      <td>-12.099150</td>\n      <td>8.067788</td>\n      <td>-23.222778</td>\n      <td>-9.251307</td>\n      <td>12.905719</td>\n    </tr>\n    <tr>\n      <th>H227</th>\n      <td>-92.459789</td>\n      <td>-38.536572</td>\n      <td>-42.267405</td>\n      <td>-13.769492</td>\n      <td>-27.230692</td>\n      <td>-30.765006</td>\n      <td>-6.790261</td>\n      <td>-6.358053</td>\n      <td>-5.067790</td>\n      <td>23.775030</td>\n      <td>...</td>\n      <td>-20.524204</td>\n      <td>1.188248</td>\n      <td>2.828017</td>\n      <td>11.388386</td>\n      <td>10.369140</td>\n      <td>14.431959</td>\n      <td>-8.916964</td>\n      <td>0.348418</td>\n      <td>34.092994</td>\n      <td>24.919375</td>\n    </tr>\n    <tr>\n      <th>H228</th>\n      <td>-96.234665</td>\n      <td>-29.812934</td>\n      <td>-52.738251</td>\n      <td>-65.725836</td>\n      <td>-43.879200</td>\n      <td>-9.699033</td>\n      <td>12.686824</td>\n      <td>-17.889652</td>\n      <td>17.713253</td>\n      <td>12.751587</td>\n      <td>...</td>\n      <td>-40.687006</td>\n      <td>-18.427262</td>\n      <td>-2.808485</td>\n      <td>9.570609</td>\n      <td>19.057514</td>\n      <td>-17.686015</td>\n      <td>20.018635</td>\n      <td>-4.484300</td>\n      <td>-8.041145</td>\n      <td>-17.259424</td>\n    </tr>\n    <tr>\n      <th>H229</th>\n      <td>-94.295358</td>\n      <td>-35.091207</td>\n      <td>-50.728376</td>\n      <td>-63.946268</td>\n      <td>-49.851276</td>\n      <td>-11.818621</td>\n      <td>-9.934986</td>\n      <td>-28.522855</td>\n      <td>-7.874381</td>\n      <td>4.831687</td>\n      <td>...</td>\n      <td>-19.416141</td>\n      <td>-19.157284</td>\n      <td>32.317713</td>\n      <td>15.267837</td>\n      <td>19.738661</td>\n      <td>-3.225357</td>\n      <td>61.965530</td>\n      <td>1.918269</td>\n      <td>-43.078628</td>\n      <td>37.722289</td>\n    </tr>\n    <tr>\n      <th>H230</th>\n      <td>94.817830</td>\n      <td>-59.114651</td>\n      <td>-36.109496</td>\n      <td>-6.547982</td>\n      <td>-33.795645</td>\n      <td>1.886844</td>\n      <td>72.611979</td>\n      <td>-3.352335</td>\n      <td>33.461945</td>\n      <td>-5.076865</td>\n      <td>...</td>\n      <td>-9.932277</td>\n      <td>52.280982</td>\n      <td>38.004074</td>\n      <td>-19.770947</td>\n      <td>-9.973528</td>\n      <td>20.936358</td>\n      <td>-20.427600</td>\n      <td>71.979165</td>\n      <td>-30.152337</td>\n      <td>-66.781661</td>\n    </tr>\n    <tr>\n      <th>H231</th>\n      <td>-71.445034</td>\n      <td>-32.199669</td>\n      <td>-23.082266</td>\n      <td>69.420658</td>\n      <td>3.432083</td>\n      <td>13.998282</td>\n      <td>-0.308742</td>\n      <td>0.286617</td>\n      <td>-9.207788</td>\n      <td>3.188707</td>\n      <td>...</td>\n      <td>-5.196682</td>\n      <td>16.020985</td>\n      <td>7.801568</td>\n      <td>23.755719</td>\n      <td>28.339483</td>\n      <td>-7.322662</td>\n      <td>-5.633245</td>\n      <td>-4.262863</td>\n      <td>26.210910</td>\n      <td>12.586933</td>\n    </tr>\n    <tr>\n      <th>H232</th>\n      <td>-110.403159</td>\n      <td>-31.400601</td>\n      <td>-6.742810</td>\n      <td>18.470705</td>\n      <td>-2.775360</td>\n      <td>9.741128</td>\n      <td>28.387657</td>\n      <td>12.004565</td>\n      <td>-23.881599</td>\n      <td>-11.426495</td>\n      <td>...</td>\n      <td>-15.832214</td>\n      <td>-9.983473</td>\n      <td>12.540125</td>\n      <td>-12.757364</td>\n      <td>14.984335</td>\n      <td>24.809061</td>\n      <td>1.395929</td>\n      <td>4.817368</td>\n      <td>8.178716</td>\n      <td>14.542923</td>\n    </tr>\n    <tr>\n      <th>H233</th>\n      <td>-103.455344</td>\n      <td>-40.519873</td>\n      <td>-12.838564</td>\n      <td>30.054525</td>\n      <td>-6.324923</td>\n      <td>20.611296</td>\n      <td>17.383164</td>\n      <td>5.912583</td>\n      <td>-16.570050</td>\n      <td>-10.733284</td>\n      <td>...</td>\n      <td>-5.012464</td>\n      <td>-5.957711</td>\n      <td>16.686179</td>\n      <td>2.191167</td>\n      <td>15.261213</td>\n      <td>9.004279</td>\n      <td>6.465906</td>\n      <td>12.854420</td>\n      <td>10.466381</td>\n      <td>5.100456</td>\n    </tr>\n    <tr>\n      <th>H234</th>\n      <td>167.987006</td>\n      <td>-27.407827</td>\n      <td>-19.543279</td>\n      <td>19.456920</td>\n      <td>-97.345354</td>\n      <td>33.277103</td>\n      <td>35.564481</td>\n      <td>-64.457328</td>\n      <td>-63.252148</td>\n      <td>-54.529439</td>\n      <td>...</td>\n      <td>-41.763468</td>\n      <td>7.687763</td>\n      <td>-13.978183</td>\n      <td>11.488712</td>\n      <td>-70.576315</td>\n      <td>3.685993</td>\n      <td>17.194563</td>\n      <td>-6.896067</td>\n      <td>-1.564199</td>\n      <td>19.211656</td>\n    </tr>\n    <tr>\n      <th>H235</th>\n      <td>5.461771</td>\n      <td>43.255769</td>\n      <td>63.248824</td>\n      <td>37.298840</td>\n      <td>-7.204998</td>\n      <td>-44.674575</td>\n      <td>-22.930776</td>\n      <td>-23.630724</td>\n      <td>21.821884</td>\n      <td>30.746811</td>\n      <td>...</td>\n      <td>16.082251</td>\n      <td>5.747573</td>\n      <td>-18.962732</td>\n      <td>-31.175804</td>\n      <td>-1.868445</td>\n      <td>15.078573</td>\n      <td>16.543934</td>\n      <td>-8.169960</td>\n      <td>-34.554065</td>\n      <td>2.198304</td>\n    </tr>\n    <tr>\n      <th>H236</th>\n      <td>8.558120</td>\n      <td>71.552787</td>\n      <td>69.221171</td>\n      <td>13.643191</td>\n      <td>-7.288780</td>\n      <td>-12.036447</td>\n      <td>0.371172</td>\n      <td>-19.377850</td>\n      <td>38.015723</td>\n      <td>-3.243645</td>\n      <td>...</td>\n      <td>18.744935</td>\n      <td>-4.535108</td>\n      <td>-13.186662</td>\n      <td>-15.080212</td>\n      <td>9.206966</td>\n      <td>-7.674600</td>\n      <td>-0.240701</td>\n      <td>13.261827</td>\n      <td>-62.811191</td>\n      <td>10.307915</td>\n    </tr>\n    <tr>\n      <th>H237</th>\n      <td>-23.410707</td>\n      <td>44.662620</td>\n      <td>53.528716</td>\n      <td>5.505641</td>\n      <td>-27.965835</td>\n      <td>-32.312559</td>\n      <td>21.683453</td>\n      <td>2.211117</td>\n      <td>-15.826691</td>\n      <td>-4.124027</td>\n      <td>...</td>\n      <td>31.235755</td>\n      <td>-3.089247</td>\n      <td>-12.956957</td>\n      <td>1.137123</td>\n      <td>-1.816229</td>\n      <td>-7.001117</td>\n      <td>-8.509856</td>\n      <td>7.338347</td>\n      <td>-21.498458</td>\n      <td>-4.388567</td>\n    </tr>\n    <tr>\n      <th>H238</th>\n      <td>79.007631</td>\n      <td>-57.036773</td>\n      <td>38.373525</td>\n      <td>28.836658</td>\n      <td>-7.839792</td>\n      <td>-78.609841</td>\n      <td>-11.581054</td>\n      <td>2.174232</td>\n      <td>15.334070</td>\n      <td>-19.398521</td>\n      <td>...</td>\n      <td>26.991058</td>\n      <td>-22.469799</td>\n      <td>-11.555149</td>\n      <td>91.508995</td>\n      <td>-77.778373</td>\n      <td>11.423870</td>\n      <td>8.707228</td>\n      <td>20.154640</td>\n      <td>3.107348</td>\n      <td>-0.441161</td>\n    </tr>\n    <tr>\n      <th>H239</th>\n      <td>-91.153291</td>\n      <td>-29.507352</td>\n      <td>26.013402</td>\n      <td>4.635792</td>\n      <td>2.705302</td>\n      <td>-34.722508</td>\n      <td>-18.307831</td>\n      <td>-7.015207</td>\n      <td>3.778901</td>\n      <td>22.993528</td>\n      <td>...</td>\n      <td>3.443660</td>\n      <td>-4.553505</td>\n      <td>-13.237137</td>\n      <td>-4.510299</td>\n      <td>-21.910880</td>\n      <td>-1.920546</td>\n      <td>-11.247954</td>\n      <td>0.581229</td>\n      <td>12.506668</td>\n      <td>6.997289</td>\n    </tr>\n    <tr>\n      <th>H240</th>\n      <td>-95.146593</td>\n      <td>-17.579015</td>\n      <td>22.414328</td>\n      <td>-37.056404</td>\n      <td>-8.273791</td>\n      <td>-19.946946</td>\n      <td>-4.980804</td>\n      <td>-11.542935</td>\n      <td>18.059232</td>\n      <td>7.123842</td>\n      <td>...</td>\n      <td>0.060513</td>\n      <td>-13.925814</td>\n      <td>-21.786085</td>\n      <td>-15.578903</td>\n      <td>-31.474336</td>\n      <td>-11.607618</td>\n      <td>-14.930277</td>\n      <td>-4.603659</td>\n      <td>-2.749545</td>\n      <td>-19.537010</td>\n    </tr>\n    <tr>\n      <th>H241</th>\n      <td>-103.445428</td>\n      <td>-28.106673</td>\n      <td>34.880108</td>\n      <td>-30.516318</td>\n      <td>-8.706251</td>\n      <td>-28.312659</td>\n      <td>-9.336305</td>\n      <td>-2.232959</td>\n      <td>-5.606258</td>\n      <td>2.687286</td>\n      <td>...</td>\n      <td>16.002704</td>\n      <td>-6.803681</td>\n      <td>-4.469269</td>\n      <td>-14.019955</td>\n      <td>-19.686826</td>\n      <td>-12.808033</td>\n      <td>-3.019116</td>\n      <td>3.298979</td>\n      <td>-2.353672</td>\n      <td>-0.103365</td>\n    </tr>\n    <tr>\n      <th>H242</th>\n      <td>98.460228</td>\n      <td>-39.465230</td>\n      <td>81.864050</td>\n      <td>-5.577077</td>\n      <td>15.586881</td>\n      <td>1.902774</td>\n      <td>29.769235</td>\n      <td>-40.877756</td>\n      <td>79.638638</td>\n      <td>-10.328610</td>\n      <td>...</td>\n      <td>-28.540512</td>\n      <td>58.133786</td>\n      <td>49.329143</td>\n      <td>-9.492954</td>\n      <td>-8.834403</td>\n      <td>-17.355212</td>\n      <td>-11.518652</td>\n      <td>-67.459489</td>\n      <td>5.175971</td>\n      <td>72.293819</td>\n    </tr>\n    <tr>\n      <th>H243</th>\n      <td>-64.522764</td>\n      <td>-31.051724</td>\n      <td>23.957192</td>\n      <td>88.452848</td>\n      <td>31.725756</td>\n      <td>30.294846</td>\n      <td>-34.884226</td>\n      <td>-24.334878</td>\n      <td>23.770304</td>\n      <td>3.316494</td>\n      <td>...</td>\n      <td>3.357873</td>\n      <td>-1.414739</td>\n      <td>-9.036096</td>\n      <td>4.236385</td>\n      <td>-16.558270</td>\n      <td>-35.446615</td>\n      <td>15.750531</td>\n      <td>-14.954632</td>\n      <td>23.448683</td>\n      <td>-14.761650</td>\n    </tr>\n    <tr>\n      <th>H244</th>\n      <td>-81.015177</td>\n      <td>-7.820902</td>\n      <td>17.539320</td>\n      <td>57.162181</td>\n      <td>26.739933</td>\n      <td>46.547026</td>\n      <td>-12.859051</td>\n      <td>-18.612498</td>\n      <td>3.323653</td>\n      <td>-18.790228</td>\n      <td>...</td>\n      <td>-30.459636</td>\n      <td>-48.457091</td>\n      <td>20.819487</td>\n      <td>-66.547760</td>\n      <td>-32.544169</td>\n      <td>42.408737</td>\n      <td>-19.391963</td>\n      <td>29.246833</td>\n      <td>26.738160</td>\n      <td>5.946882</td>\n    </tr>\n    <tr>\n      <th>H245</th>\n      <td>-73.850553</td>\n      <td>-24.270008</td>\n      <td>22.002092</td>\n      <td>64.635230</td>\n      <td>19.909614</td>\n      <td>45.735028</td>\n      <td>-19.556355</td>\n      <td>-23.059401</td>\n      <td>6.196235</td>\n      <td>-17.286208</td>\n      <td>...</td>\n      <td>7.418210</td>\n      <td>-24.048426</td>\n      <td>15.399036</td>\n      <td>-14.269102</td>\n      <td>-18.837426</td>\n      <td>-13.882511</td>\n      <td>5.509940</td>\n      <td>18.426641</td>\n      <td>3.230543</td>\n      <td>-30.397042</td>\n    </tr>\n    <tr>\n      <th>H246</th>\n      <td>130.915063</td>\n      <td>-32.707162</td>\n      <td>120.575126</td>\n      <td>0.867027</td>\n      <td>-24.018724</td>\n      <td>-12.354965</td>\n      <td>-31.997913</td>\n      <td>-69.850586</td>\n      <td>-32.481239</td>\n      <td>-23.561497</td>\n      <td>...</td>\n      <td>-20.199376</td>\n      <td>-24.536274</td>\n      <td>-0.169486</td>\n      <td>41.595109</td>\n      <td>97.364791</td>\n      <td>-9.200904</td>\n      <td>-14.298446</td>\n      <td>29.336052</td>\n      <td>35.372069</td>\n      <td>-30.339777</td>\n    </tr>\n    <tr>\n      <th>H247</th>\n      <td>43.410081</td>\n      <td>84.663167</td>\n      <td>-1.142345</td>\n      <td>27.737860</td>\n      <td>7.179123</td>\n      <td>-19.728854</td>\n      <td>-43.832819</td>\n      <td>16.743851</td>\n      <td>40.762935</td>\n      <td>40.884484</td>\n      <td>...</td>\n      <td>-25.171575</td>\n      <td>4.113546</td>\n      <td>-34.543114</td>\n      <td>-16.830613</td>\n      <td>4.937265</td>\n      <td>37.335421</td>\n      <td>93.875767</td>\n      <td>39.815486</td>\n      <td>2.438877</td>\n      <td>15.721941</td>\n    </tr>\n    <tr>\n      <th>H248</th>\n      <td>19.937521</td>\n      <td>99.889849</td>\n      <td>-0.811815</td>\n      <td>-15.372152</td>\n      <td>-8.864381</td>\n      <td>18.923681</td>\n      <td>32.567352</td>\n      <td>59.463008</td>\n      <td>46.037635</td>\n      <td>-23.322203</td>\n      <td>...</td>\n      <td>-9.361898</td>\n      <td>-4.887494</td>\n      <td>-22.922099</td>\n      <td>11.143166</td>\n      <td>-6.055281</td>\n      <td>-39.630759</td>\n      <td>22.359437</td>\n      <td>42.868123</td>\n      <td>69.460308</td>\n      <td>24.175141</td>\n    </tr>\n    <tr>\n      <th>H249</th>\n      <td>37.377258</td>\n      <td>109.191633</td>\n      <td>24.877364</td>\n      <td>-34.652505</td>\n      <td>6.930583</td>\n      <td>36.714878</td>\n      <td>-45.898010</td>\n      <td>35.920018</td>\n      <td>16.226575</td>\n      <td>-57.422654</td>\n      <td>...</td>\n      <td>-40.084192</td>\n      <td>-54.810079</td>\n      <td>10.179471</td>\n      <td>-16.456139</td>\n      <td>-10.864744</td>\n      <td>8.719582</td>\n      <td>-45.036817</td>\n      <td>-30.691915</td>\n      <td>-23.773285</td>\n      <td>-16.016564</td>\n    </tr>\n    <tr>\n      <th>H250</th>\n      <td>155.753168</td>\n      <td>-87.097546</td>\n      <td>-8.747012</td>\n      <td>-8.559230</td>\n      <td>7.342481</td>\n      <td>-38.037894</td>\n      <td>-46.874378</td>\n      <td>122.852619</td>\n      <td>45.407424</td>\n      <td>-34.729387</td>\n      <td>...</td>\n      <td>-3.792493</td>\n      <td>-11.732294</td>\n      <td>1.868376</td>\n      <td>6.639888</td>\n      <td>4.889893</td>\n      <td>-11.458132</td>\n      <td>-10.570073</td>\n      <td>-8.245932</td>\n      <td>-2.307114</td>\n      <td>-1.306152</td>\n    </tr>\n    <tr>\n      <th>H251</th>\n      <td>-67.388167</td>\n      <td>-16.990836</td>\n      <td>-39.860493</td>\n      <td>-23.338417</td>\n      <td>0.602101</td>\n      <td>6.258782</td>\n      <td>-71.473137</td>\n      <td>-24.184221</td>\n      <td>28.605803</td>\n      <td>26.158154</td>\n      <td>...</td>\n      <td>-38.305181</td>\n      <td>30.463409</td>\n      <td>-52.422821</td>\n      <td>25.752955</td>\n      <td>12.101294</td>\n      <td>64.767387</td>\n      <td>-78.272490</td>\n      <td>23.576559</td>\n      <td>-17.038647</td>\n      <td>31.970363</td>\n    </tr>\n    <tr>\n      <th>H252</th>\n      <td>-67.227393</td>\n      <td>-1.304922</td>\n      <td>-45.896715</td>\n      <td>-59.552517</td>\n      <td>-21.573894</td>\n      <td>38.124520</td>\n      <td>-15.831086</td>\n      <td>-17.983743</td>\n      <td>51.094405</td>\n      <td>-9.582344</td>\n      <td>...</td>\n      <td>-25.688261</td>\n      <td>14.748365</td>\n      <td>-46.598134</td>\n      <td>9.454999</td>\n      <td>-8.278518</td>\n      <td>-37.900465</td>\n      <td>4.466625</td>\n      <td>-43.782019</td>\n      <td>16.511253</td>\n      <td>-65.887738</td>\n    </tr>\n    <tr>\n      <th>H253</th>\n      <td>-66.734346</td>\n      <td>-3.074470</td>\n      <td>-37.336849</td>\n      <td>-79.856124</td>\n      <td>-12.900595</td>\n      <td>50.470831</td>\n      <td>-94.403172</td>\n      <td>-43.345683</td>\n      <td>29.240494</td>\n      <td>-35.794623</td>\n      <td>...</td>\n      <td>101.497793</td>\n      <td>13.859104</td>\n      <td>60.770951</td>\n      <td>-12.119710</td>\n      <td>-3.484185</td>\n      <td>2.824109</td>\n      <td>12.701737</td>\n      <td>19.597782</td>\n      <td>22.822033</td>\n      <td>12.831839</td>\n    </tr>\n    <tr>\n      <th>H254</th>\n      <td>53.950435</td>\n      <td>-69.508850</td>\n      <td>59.616594</td>\n      <td>-36.012866</td>\n      <td>10.100867</td>\n      <td>-6.651156</td>\n      <td>43.489518</td>\n      <td>45.379108</td>\n      <td>28.887881</td>\n      <td>20.778388</td>\n      <td>...</td>\n      <td>-15.327437</td>\n      <td>51.624488</td>\n      <td>25.436383</td>\n      <td>-30.807920</td>\n      <td>4.952798</td>\n      <td>21.014693</td>\n      <td>11.529421</td>\n      <td>13.324652</td>\n      <td>20.016318</td>\n      <td>-23.576214</td>\n    </tr>\n    <tr>\n      <th>H255</th>\n      <td>-41.163500</td>\n      <td>-12.890431</td>\n      <td>-11.543088</td>\n      <td>74.806021</td>\n      <td>31.800090</td>\n      <td>50.452515</td>\n      <td>-24.033496</td>\n      <td>5.334978</td>\n      <td>20.068027</td>\n      <td>-0.099901</td>\n      <td>...</td>\n      <td>-1.501812</td>\n      <td>36.117762</td>\n      <td>-7.991474</td>\n      <td>37.301764</td>\n      <td>27.773224</td>\n      <td>-22.769125</td>\n      <td>15.433261</td>\n      <td>-13.192396</td>\n      <td>-55.106623</td>\n      <td>-21.290060</td>\n    </tr>\n    <tr>\n      <th>H256</th>\n      <td>-75.465075</td>\n      <td>-0.239331</td>\n      <td>-23.519565</td>\n      <td>34.321553</td>\n      <td>9.843240</td>\n      <td>55.276594</td>\n      <td>30.066644</td>\n      <td>31.294012</td>\n      <td>-8.633397</td>\n      <td>-27.088955</td>\n      <td>...</td>\n      <td>-1.908240</td>\n      <td>12.151708</td>\n      <td>-9.816272</td>\n      <td>12.864358</td>\n      <td>11.886442</td>\n      <td>21.788148</td>\n      <td>10.164980</td>\n      <td>-20.516605</td>\n      <td>-24.094369</td>\n      <td>14.474570</td>\n    </tr>\n    <tr>\n      <th>H257</th>\n      <td>-73.419689</td>\n      <td>-18.072727</td>\n      <td>-19.917609</td>\n      <td>38.735816</td>\n      <td>3.395703</td>\n      <td>47.988945</td>\n      <td>19.030830</td>\n      <td>28.836465</td>\n      <td>-7.955738</td>\n      <td>-17.190459</td>\n      <td>...</td>\n      <td>15.004879</td>\n      <td>13.645726</td>\n      <td>-2.306152</td>\n      <td>19.316237</td>\n      <td>7.181243</td>\n      <td>-8.449542</td>\n      <td>12.139589</td>\n      <td>-2.756263</td>\n      <td>-17.292546</td>\n      <td>-11.709317</td>\n    </tr>\n    <tr>\n      <th>H258</th>\n      <td>246.624979</td>\n      <td>-64.930468</td>\n      <td>29.846330</td>\n      <td>-25.117145</td>\n      <td>-65.651175</td>\n      <td>120.295912</td>\n      <td>-57.163652</td>\n      <td>61.537452</td>\n      <td>-54.682564</td>\n      <td>91.927956</td>\n      <td>...</td>\n      <td>18.410600</td>\n      <td>-11.355116</td>\n      <td>-4.412196</td>\n      <td>-2.834314</td>\n      <td>-10.519122</td>\n      <td>-1.785989</td>\n      <td>-3.278056</td>\n      <td>-6.029130</td>\n      <td>-6.882884</td>\n      <td>12.659825</td>\n    </tr>\n    <tr>\n      <th>H259</th>\n      <td>61.026318</td>\n      <td>104.098503</td>\n      <td>-38.161737</td>\n      <td>14.885874</td>\n      <td>38.795706</td>\n      <td>-37.091502</td>\n      <td>-29.599376</td>\n      <td>-15.255271</td>\n      <td>-35.727353</td>\n      <td>77.180832</td>\n      <td>...</td>\n      <td>-56.661647</td>\n      <td>-10.448225</td>\n      <td>73.258769</td>\n      <td>-2.755627</td>\n      <td>-23.460951</td>\n      <td>-68.351429</td>\n      <td>-14.742881</td>\n      <td>17.259987</td>\n      <td>-15.503510</td>\n      <td>-10.128145</td>\n    </tr>\n    <tr>\n      <th>H260</th>\n      <td>20.630611</td>\n      <td>112.954210</td>\n      <td>17.189409</td>\n      <td>-41.833923</td>\n      <td>38.269684</td>\n      <td>0.405631</td>\n      <td>21.695552</td>\n      <td>23.762057</td>\n      <td>-4.834200</td>\n      <td>-14.686269</td>\n      <td>...</td>\n      <td>-12.559227</td>\n      <td>-28.413560</td>\n      <td>63.607380</td>\n      <td>62.056404</td>\n      <td>9.033554</td>\n      <td>68.863519</td>\n      <td>22.301549</td>\n      <td>-31.441216</td>\n      <td>1.196992</td>\n      <td>-22.032799</td>\n    </tr>\n    <tr>\n      <th>H261</th>\n      <td>59.921071</td>\n      <td>138.912772</td>\n      <td>4.302286</td>\n      <td>-48.461278</td>\n      <td>37.458772</td>\n      <td>19.917398</td>\n      <td>-14.242992</td>\n      <td>-8.335608</td>\n      <td>-68.903264</td>\n      <td>-48.513099</td>\n      <td>...</td>\n      <td>-11.395856</td>\n      <td>68.076962</td>\n      <td>-46.477261</td>\n      <td>-22.331542</td>\n      <td>-2.467142</td>\n      <td>-5.153801</td>\n      <td>12.281532</td>\n      <td>6.939692</td>\n      <td>16.095494</td>\n      <td>5.906349</td>\n    </tr>\n    <tr>\n      <th>H262</th>\n      <td>200.911222</td>\n      <td>-47.267837</td>\n      <td>-92.373340</td>\n      <td>0.163081</td>\n      <td>121.685157</td>\n      <td>-57.656049</td>\n      <td>-53.207306</td>\n      <td>-21.321906</td>\n      <td>-44.053442</td>\n      <td>-37.425853</td>\n      <td>...</td>\n      <td>11.005133</td>\n      <td>31.118093</td>\n      <td>3.514930</td>\n      <td>-5.967004</td>\n      <td>-1.688363</td>\n      <td>1.868376</td>\n      <td>0.996686</td>\n      <td>5.339155</td>\n      <td>-4.907792</td>\n      <td>-3.046033</td>\n    </tr>\n    <tr>\n      <th>H263</th>\n      <td>-83.800506</td>\n      <td>-23.962042</td>\n      <td>8.825800</td>\n      <td>-30.562650</td>\n      <td>13.079449</td>\n      <td>-43.264570</td>\n      <td>0.774723</td>\n      <td>12.116901</td>\n      <td>-23.925389</td>\n      <td>27.297345</td>\n      <td>...</td>\n      <td>1.001067</td>\n      <td>6.113027</td>\n      <td>-9.492738</td>\n      <td>-3.360475</td>\n      <td>-5.432369</td>\n      <td>1.987386</td>\n      <td>-11.446415</td>\n      <td>-1.724461</td>\n      <td>5.493698</td>\n      <td>5.662985</td>\n    </tr>\n    <tr>\n      <th>H264</th>\n      <td>-76.596153</td>\n      <td>-1.638404</td>\n      <td>9.608324</td>\n      <td>-50.130392</td>\n      <td>11.814021</td>\n      <td>-21.952997</td>\n      <td>21.788777</td>\n      <td>12.967062</td>\n      <td>-10.877985</td>\n      <td>8.156340</td>\n      <td>...</td>\n      <td>2.271840</td>\n      <td>-0.898833</td>\n      <td>-14.577305</td>\n      <td>-2.531665</td>\n      <td>-4.751280</td>\n      <td>-16.198566</td>\n      <td>-8.787899</td>\n      <td>-5.278862</td>\n      <td>3.614746</td>\n      <td>-10.223499</td>\n    </tr>\n    <tr>\n      <th>H265</th>\n      <td>-77.018766</td>\n      <td>-11.398277</td>\n      <td>11.009521</td>\n      <td>-56.063231</td>\n      <td>7.365503</td>\n      <td>-22.100210</td>\n      <td>4.625499</td>\n      <td>1.322818</td>\n      <td>-32.740747</td>\n      <td>7.935479</td>\n      <td>...</td>\n      <td>19.199462</td>\n      <td>-4.344754</td>\n      <td>-5.360612</td>\n      <td>-6.538156</td>\n      <td>-10.111286</td>\n      <td>-14.648288</td>\n      <td>-4.810380</td>\n      <td>-11.693880</td>\n      <td>-2.281893</td>\n      <td>-9.272918</td>\n    </tr>\n    <tr>\n      <th>H266</th>\n      <td>176.157970</td>\n      <td>-24.688586</td>\n      <td>-40.084993</td>\n      <td>-50.287976</td>\n      <td>113.387953</td>\n      <td>60.761194</td>\n      <td>100.058833</td>\n      <td>-64.852431</td>\n      <td>42.489031</td>\n      <td>46.791468</td>\n      <td>...</td>\n      <td>31.137906</td>\n      <td>-62.849042</td>\n      <td>-39.457916</td>\n      <td>9.739388</td>\n      <td>1.353153</td>\n      <td>9.000664</td>\n      <td>-0.434450</td>\n      <td>0.602155</td>\n      <td>-1.863193</td>\n      <td>8.962322</td>\n    </tr>\n    <tr>\n      <th>H267</th>\n      <td>-63.717905</td>\n      <td>-11.729990</td>\n      <td>-13.210092</td>\n      <td>35.681788</td>\n      <td>37.468844</td>\n      <td>-2.009667</td>\n      <td>14.603219</td>\n      <td>17.152855</td>\n      <td>-37.081679</td>\n      <td>18.208132</td>\n      <td>...</td>\n      <td>5.494146</td>\n      <td>5.553977</td>\n      <td>-5.894362</td>\n      <td>12.428502</td>\n      <td>3.428845</td>\n      <td>-13.174213</td>\n      <td>-11.946031</td>\n      <td>-6.199076</td>\n      <td>-0.482650</td>\n      <td>13.501455</td>\n    </tr>\n    <tr>\n      <th>H268</th>\n      <td>-104.473872</td>\n      <td>-13.337888</td>\n      <td>16.856068</td>\n      <td>-5.748934</td>\n      <td>20.456987</td>\n      <td>-15.267542</td>\n      <td>42.806440</td>\n      <td>36.864390</td>\n      <td>-41.200985</td>\n      <td>-0.369586</td>\n      <td>...</td>\n      <td>9.469789</td>\n      <td>-2.627967</td>\n      <td>-1.457585</td>\n      <td>-3.220026</td>\n      <td>-6.837051</td>\n      <td>5.711213</td>\n      <td>-4.607350</td>\n      <td>-5.631874</td>\n      <td>3.439817</td>\n      <td>10.263655</td>\n    </tr>\n    <tr>\n      <th>H269</th>\n      <td>-89.324048</td>\n      <td>-17.048897</td>\n      <td>1.891244</td>\n      <td>-0.091726</td>\n      <td>31.808047</td>\n      <td>1.549722</td>\n      <td>28.596999</td>\n      <td>29.422194</td>\n      <td>-47.535041</td>\n      <td>0.293089</td>\n      <td>...</td>\n      <td>14.061073</td>\n      <td>-1.737684</td>\n      <td>5.835012</td>\n      <td>-0.874775</td>\n      <td>1.384684</td>\n      <td>-3.927055</td>\n      <td>-6.699591</td>\n      <td>-4.792908</td>\n      <td>-8.049167</td>\n      <td>12.939652</td>\n    </tr>\n    <tr>\n      <th>H270</th>\n      <td>45.823641</td>\n      <td>-34.518500</td>\n      <td>67.316018</td>\n      <td>-26.408241</td>\n      <td>12.404352</td>\n      <td>-12.811731</td>\n      <td>20.876456</td>\n      <td>-4.455867</td>\n      <td>-43.175172</td>\n      <td>4.733258</td>\n      <td>...</td>\n      <td>12.419887</td>\n      <td>5.327159</td>\n      <td>-10.482990</td>\n      <td>-29.761463</td>\n      <td>27.274433</td>\n      <td>-0.321162</td>\n      <td>17.138296</td>\n      <td>-17.672228</td>\n      <td>14.082653</td>\n      <td>-7.349126</td>\n    </tr>\n  </tbody>\n</table>\n<p>48 rows × 25 columns</p>\n</div>"
     },
     "execution_count": 26,
     "metadata": {},
     "output_type": "execute_result"
    }
   ],
   "source": [
    "df_pca = pd.DataFrame(data= np_pca, columns=[\"PC\"+str(i) for i in range(np_pca.shape[1] )])\n",
    "df_pca.index = indexes\n",
    "df_pca"
   ],
   "metadata": {
    "collapsed": false,
    "pycharm": {
     "name": "#%%\n"
    }
   }
  },
  {
   "cell_type": "code",
   "execution_count": 29,
   "outputs": [
    {
     "data": {
      "application/vnd.plotly.v1+json": {
       "config": {
        "plotlyServerURL": "https://plot.ly"
       },
       "data": [
        {
         "hovertemplate": "index=H223<br>PC1=%{x}<br>PC2=%{y}<extra></extra>",
         "legendgroup": "H223",
         "marker": {
          "color": "#636efa",
          "symbol": "circle"
         },
         "mode": "markers",
         "name": "H223",
         "orientation": "v",
         "showlegend": true,
         "type": "scatter",
         "x": [
          86.75149875908565
         ],
         "xaxis": "x",
         "y": [
          -70.66889064307226
         ],
         "yaxis": "y"
        },
        {
         "hovertemplate": "index=H224<br>PC1=%{x}<br>PC2=%{y}<extra></extra>",
         "legendgroup": "H224",
         "marker": {
          "color": "#EF553B",
          "symbol": "circle"
         },
         "mode": "markers",
         "name": "H224",
         "orientation": "v",
         "showlegend": true,
         "type": "scatter",
         "x": [
          106.81572534687312
         ],
         "xaxis": "x",
         "y": [
          -43.17018266156179
         ],
         "yaxis": "y"
        },
        {
         "hovertemplate": "index=H225<br>PC1=%{x}<br>PC2=%{y}<extra></extra>",
         "legendgroup": "H225",
         "marker": {
          "color": "#00cc96",
          "symbol": "circle"
         },
         "mode": "markers",
         "name": "H225",
         "orientation": "v",
         "showlegend": true,
         "type": "scatter",
         "x": [
          82.83510853274822
         ],
         "xaxis": "x",
         "y": [
          -9.129869266081876
         ],
         "yaxis": "y"
        },
        {
         "hovertemplate": "index=H226<br>PC1=%{x}<br>PC2=%{y}<extra></extra>",
         "legendgroup": "H226",
         "marker": {
          "color": "#ab63fa",
          "symbol": "circle"
         },
         "mode": "markers",
         "name": "H226",
         "orientation": "v",
         "showlegend": true,
         "type": "scatter",
         "x": [
          -64.25547015590763
         ],
         "xaxis": "x",
         "y": [
          -85.33176902145435
         ],
         "yaxis": "y"
        },
        {
         "hovertemplate": "index=H227<br>PC1=%{x}<br>PC2=%{y}<extra></extra>",
         "legendgroup": "H227",
         "marker": {
          "color": "#FFA15A",
          "symbol": "circle"
         },
         "mode": "markers",
         "name": "H227",
         "orientation": "v",
         "showlegend": true,
         "type": "scatter",
         "x": [
          -38.536572130245986
         ],
         "xaxis": "x",
         "y": [
          -42.26740505320525
         ],
         "yaxis": "y"
        },
        {
         "hovertemplate": "index=H228<br>PC1=%{x}<br>PC2=%{y}<extra></extra>",
         "legendgroup": "H228",
         "marker": {
          "color": "#19d3f3",
          "symbol": "circle"
         },
         "mode": "markers",
         "name": "H228",
         "orientation": "v",
         "showlegend": true,
         "type": "scatter",
         "x": [
          -29.81293429224097
         ],
         "xaxis": "x",
         "y": [
          -52.738250661374444
         ],
         "yaxis": "y"
        },
        {
         "hovertemplate": "index=H229<br>PC1=%{x}<br>PC2=%{y}<extra></extra>",
         "legendgroup": "H229",
         "marker": {
          "color": "#FF6692",
          "symbol": "circle"
         },
         "mode": "markers",
         "name": "H229",
         "orientation": "v",
         "showlegend": true,
         "type": "scatter",
         "x": [
          -35.09120699986395
         ],
         "xaxis": "x",
         "y": [
          -50.72837583534797
         ],
         "yaxis": "y"
        },
        {
         "hovertemplate": "index=H230<br>PC1=%{x}<br>PC2=%{y}<extra></extra>",
         "legendgroup": "H230",
         "marker": {
          "color": "#B6E880",
          "symbol": "circle"
         },
         "mode": "markers",
         "name": "H230",
         "orientation": "v",
         "showlegend": true,
         "type": "scatter",
         "x": [
          -59.114650691258255
         ],
         "xaxis": "x",
         "y": [
          -36.109495991765826
         ],
         "yaxis": "y"
        },
        {
         "hovertemplate": "index=H231<br>PC1=%{x}<br>PC2=%{y}<extra></extra>",
         "legendgroup": "H231",
         "marker": {
          "color": "#FF97FF",
          "symbol": "circle"
         },
         "mode": "markers",
         "name": "H231",
         "orientation": "v",
         "showlegend": true,
         "type": "scatter",
         "x": [
          -32.19966942165175
         ],
         "xaxis": "x",
         "y": [
          -23.082266238040802
         ],
         "yaxis": "y"
        },
        {
         "hovertemplate": "index=H232<br>PC1=%{x}<br>PC2=%{y}<extra></extra>",
         "legendgroup": "H232",
         "marker": {
          "color": "#FECB52",
          "symbol": "circle"
         },
         "mode": "markers",
         "name": "H232",
         "orientation": "v",
         "showlegend": true,
         "type": "scatter",
         "x": [
          -31.400601330260884
         ],
         "xaxis": "x",
         "y": [
          -6.74281020364594
         ],
         "yaxis": "y"
        },
        {
         "hovertemplate": "index=H233<br>PC1=%{x}<br>PC2=%{y}<extra></extra>",
         "legendgroup": "H233",
         "marker": {
          "color": "#636efa",
          "symbol": "circle"
         },
         "mode": "markers",
         "name": "H233",
         "orientation": "v",
         "showlegend": true,
         "type": "scatter",
         "x": [
          -40.51987307316592
         ],
         "xaxis": "x",
         "y": [
          -12.838563669062411
         ],
         "yaxis": "y"
        },
        {
         "hovertemplate": "index=H234<br>PC1=%{x}<br>PC2=%{y}<extra></extra>",
         "legendgroup": "H234",
         "marker": {
          "color": "#EF553B",
          "symbol": "circle"
         },
         "mode": "markers",
         "name": "H234",
         "orientation": "v",
         "showlegend": true,
         "type": "scatter",
         "x": [
          -27.407827211235592
         ],
         "xaxis": "x",
         "y": [
          -19.54327887567882
         ],
         "yaxis": "y"
        },
        {
         "hovertemplate": "index=H235<br>PC1=%{x}<br>PC2=%{y}<extra></extra>",
         "legendgroup": "H235",
         "marker": {
          "color": "#00cc96",
          "symbol": "circle"
         },
         "mode": "markers",
         "name": "H235",
         "orientation": "v",
         "showlegend": true,
         "type": "scatter",
         "x": [
          43.255769279535535
         ],
         "xaxis": "x",
         "y": [
          63.248823785304566
         ],
         "yaxis": "y"
        },
        {
         "hovertemplate": "index=H236<br>PC1=%{x}<br>PC2=%{y}<extra></extra>",
         "legendgroup": "H236",
         "marker": {
          "color": "#ab63fa",
          "symbol": "circle"
         },
         "mode": "markers",
         "name": "H236",
         "orientation": "v",
         "showlegend": true,
         "type": "scatter",
         "x": [
          71.55278661401424
         ],
         "xaxis": "x",
         "y": [
          69.22117095138887
         ],
         "yaxis": "y"
        },
        {
         "hovertemplate": "index=H237<br>PC1=%{x}<br>PC2=%{y}<extra></extra>",
         "legendgroup": "H237",
         "marker": {
          "color": "#FFA15A",
          "symbol": "circle"
         },
         "mode": "markers",
         "name": "H237",
         "orientation": "v",
         "showlegend": true,
         "type": "scatter",
         "x": [
          44.66261976072542
         ],
         "xaxis": "x",
         "y": [
          53.52871562545494
         ],
         "yaxis": "y"
        },
        {
         "hovertemplate": "index=H238<br>PC1=%{x}<br>PC2=%{y}<extra></extra>",
         "legendgroup": "H238",
         "marker": {
          "color": "#19d3f3",
          "symbol": "circle"
         },
         "mode": "markers",
         "name": "H238",
         "orientation": "v",
         "showlegend": true,
         "type": "scatter",
         "x": [
          -57.036773249106346
         ],
         "xaxis": "x",
         "y": [
          38.37352453386119
         ],
         "yaxis": "y"
        },
        {
         "hovertemplate": "index=H239<br>PC1=%{x}<br>PC2=%{y}<extra></extra>",
         "legendgroup": "H239",
         "marker": {
          "color": "#FF6692",
          "symbol": "circle"
         },
         "mode": "markers",
         "name": "H239",
         "orientation": "v",
         "showlegend": true,
         "type": "scatter",
         "x": [
          -29.50735187077869
         ],
         "xaxis": "x",
         "y": [
          26.01340207028658
         ],
         "yaxis": "y"
        },
        {
         "hovertemplate": "index=H240<br>PC1=%{x}<br>PC2=%{y}<extra></extra>",
         "legendgroup": "H240",
         "marker": {
          "color": "#B6E880",
          "symbol": "circle"
         },
         "mode": "markers",
         "name": "H240",
         "orientation": "v",
         "showlegend": true,
         "type": "scatter",
         "x": [
          -17.579014587009638
         ],
         "xaxis": "x",
         "y": [
          22.41432840792136
         ],
         "yaxis": "y"
        },
        {
         "hovertemplate": "index=H241<br>PC1=%{x}<br>PC2=%{y}<extra></extra>",
         "legendgroup": "H241",
         "marker": {
          "color": "#FF97FF",
          "symbol": "circle"
         },
         "mode": "markers",
         "name": "H241",
         "orientation": "v",
         "showlegend": true,
         "type": "scatter",
         "x": [
          -28.106673012315714
         ],
         "xaxis": "x",
         "y": [
          34.88010766229022
         ],
         "yaxis": "y"
        },
        {
         "hovertemplate": "index=H242<br>PC1=%{x}<br>PC2=%{y}<extra></extra>",
         "legendgroup": "H242",
         "marker": {
          "color": "#FECB52",
          "symbol": "circle"
         },
         "mode": "markers",
         "name": "H242",
         "orientation": "v",
         "showlegend": true,
         "type": "scatter",
         "x": [
          -39.46522995918265
         ],
         "xaxis": "x",
         "y": [
          81.86405020330245
         ],
         "yaxis": "y"
        },
        {
         "hovertemplate": "index=H243<br>PC1=%{x}<br>PC2=%{y}<extra></extra>",
         "legendgroup": "H243",
         "marker": {
          "color": "#636efa",
          "symbol": "circle"
         },
         "mode": "markers",
         "name": "H243",
         "orientation": "v",
         "showlegend": true,
         "type": "scatter",
         "x": [
          -31.051723882018482
         ],
         "xaxis": "x",
         "y": [
          23.957192055732378
         ],
         "yaxis": "y"
        },
        {
         "hovertemplate": "index=H244<br>PC1=%{x}<br>PC2=%{y}<extra></extra>",
         "legendgroup": "H244",
         "marker": {
          "color": "#EF553B",
          "symbol": "circle"
         },
         "mode": "markers",
         "name": "H244",
         "orientation": "v",
         "showlegend": true,
         "type": "scatter",
         "x": [
          -7.820901661763367
         ],
         "xaxis": "x",
         "y": [
          17.539319581822003
         ],
         "yaxis": "y"
        },
        {
         "hovertemplate": "index=H245<br>PC1=%{x}<br>PC2=%{y}<extra></extra>",
         "legendgroup": "H245",
         "marker": {
          "color": "#00cc96",
          "symbol": "circle"
         },
         "mode": "markers",
         "name": "H245",
         "orientation": "v",
         "showlegend": true,
         "type": "scatter",
         "x": [
          -24.270007884571207
         ],
         "xaxis": "x",
         "y": [
          22.00209227115524
         ],
         "yaxis": "y"
        },
        {
         "hovertemplate": "index=H246<br>PC1=%{x}<br>PC2=%{y}<extra></extra>",
         "legendgroup": "H246",
         "marker": {
          "color": "#ab63fa",
          "symbol": "circle"
         },
         "mode": "markers",
         "name": "H246",
         "orientation": "v",
         "showlegend": true,
         "type": "scatter",
         "x": [
          -32.70716152159685
         ],
         "xaxis": "x",
         "y": [
          120.5751263955257
         ],
         "yaxis": "y"
        },
        {
         "hovertemplate": "index=H247<br>PC1=%{x}<br>PC2=%{y}<extra></extra>",
         "legendgroup": "H247",
         "marker": {
          "color": "#FFA15A",
          "symbol": "circle"
         },
         "mode": "markers",
         "name": "H247",
         "orientation": "v",
         "showlegend": true,
         "type": "scatter",
         "x": [
          84.66316710968276
         ],
         "xaxis": "x",
         "y": [
          -1.1423453967544492
         ],
         "yaxis": "y"
        },
        {
         "hovertemplate": "index=H248<br>PC1=%{x}<br>PC2=%{y}<extra></extra>",
         "legendgroup": "H248",
         "marker": {
          "color": "#19d3f3",
          "symbol": "circle"
         },
         "mode": "markers",
         "name": "H248",
         "orientation": "v",
         "showlegend": true,
         "type": "scatter",
         "x": [
          99.8898492271111
         ],
         "xaxis": "x",
         "y": [
          -0.8118147288996707
         ],
         "yaxis": "y"
        },
        {
         "hovertemplate": "index=H249<br>PC1=%{x}<br>PC2=%{y}<extra></extra>",
         "legendgroup": "H249",
         "marker": {
          "color": "#FF6692",
          "symbol": "circle"
         },
         "mode": "markers",
         "name": "H249",
         "orientation": "v",
         "showlegend": true,
         "type": "scatter",
         "x": [
          109.19163315057715
         ],
         "xaxis": "x",
         "y": [
          24.877364327622658
         ],
         "yaxis": "y"
        },
        {
         "hovertemplate": "index=H250<br>PC1=%{x}<br>PC2=%{y}<extra></extra>",
         "legendgroup": "H250",
         "marker": {
          "color": "#B6E880",
          "symbol": "circle"
         },
         "mode": "markers",
         "name": "H250",
         "orientation": "v",
         "showlegend": true,
         "type": "scatter",
         "x": [
          -87.09754634090915
         ],
         "xaxis": "x",
         "y": [
          -8.747011881443377
         ],
         "yaxis": "y"
        },
        {
         "hovertemplate": "index=H251<br>PC1=%{x}<br>PC2=%{y}<extra></extra>",
         "legendgroup": "H251",
         "marker": {
          "color": "#FF97FF",
          "symbol": "circle"
         },
         "mode": "markers",
         "name": "H251",
         "orientation": "v",
         "showlegend": true,
         "type": "scatter",
         "x": [
          -16.990835745518396
         ],
         "xaxis": "x",
         "y": [
          -39.86049278478445
         ],
         "yaxis": "y"
        },
        {
         "hovertemplate": "index=H252<br>PC1=%{x}<br>PC2=%{y}<extra></extra>",
         "legendgroup": "H252",
         "marker": {
          "color": "#FECB52",
          "symbol": "circle"
         },
         "mode": "markers",
         "name": "H252",
         "orientation": "v",
         "showlegend": true,
         "type": "scatter",
         "x": [
          -1.3049222204768494
         ],
         "xaxis": "x",
         "y": [
          -45.89671526822834
         ],
         "yaxis": "y"
        },
        {
         "hovertemplate": "index=H253<br>PC1=%{x}<br>PC2=%{y}<extra></extra>",
         "legendgroup": "H253",
         "marker": {
          "color": "#636efa",
          "symbol": "circle"
         },
         "mode": "markers",
         "name": "H253",
         "orientation": "v",
         "showlegend": true,
         "type": "scatter",
         "x": [
          -3.074469815937599
         ],
         "xaxis": "x",
         "y": [
          -37.33684852942349
         ],
         "yaxis": "y"
        },
        {
         "hovertemplate": "index=H254<br>PC1=%{x}<br>PC2=%{y}<extra></extra>",
         "legendgroup": "H254",
         "marker": {
          "color": "#EF553B",
          "symbol": "circle"
         },
         "mode": "markers",
         "name": "H254",
         "orientation": "v",
         "showlegend": true,
         "type": "scatter",
         "x": [
          -69.50884968693829
         ],
         "xaxis": "x",
         "y": [
          59.61659397492125
         ],
         "yaxis": "y"
        },
        {
         "hovertemplate": "index=H255<br>PC1=%{x}<br>PC2=%{y}<extra></extra>",
         "legendgroup": "H255",
         "marker": {
          "color": "#00cc96",
          "symbol": "circle"
         },
         "mode": "markers",
         "name": "H255",
         "orientation": "v",
         "showlegend": true,
         "type": "scatter",
         "x": [
          -12.890430935850333
         ],
         "xaxis": "x",
         "y": [
          -11.543088333522702
         ],
         "yaxis": "y"
        },
        {
         "hovertemplate": "index=H256<br>PC1=%{x}<br>PC2=%{y}<extra></extra>",
         "legendgroup": "H256",
         "marker": {
          "color": "#ab63fa",
          "symbol": "circle"
         },
         "mode": "markers",
         "name": "H256",
         "orientation": "v",
         "showlegend": true,
         "type": "scatter",
         "x": [
          -0.23933093594726418
         ],
         "xaxis": "x",
         "y": [
          -23.519565224484555
         ],
         "yaxis": "y"
        },
        {
         "hovertemplate": "index=H257<br>PC1=%{x}<br>PC2=%{y}<extra></extra>",
         "legendgroup": "H257",
         "marker": {
          "color": "#FFA15A",
          "symbol": "circle"
         },
         "mode": "markers",
         "name": "H257",
         "orientation": "v",
         "showlegend": true,
         "type": "scatter",
         "x": [
          -18.0727271026828
         ],
         "xaxis": "x",
         "y": [
          -19.917609081626683
         ],
         "yaxis": "y"
        },
        {
         "hovertemplate": "index=H258<br>PC1=%{x}<br>PC2=%{y}<extra></extra>",
         "legendgroup": "H258",
         "marker": {
          "color": "#19d3f3",
          "symbol": "circle"
         },
         "mode": "markers",
         "name": "H258",
         "orientation": "v",
         "showlegend": true,
         "type": "scatter",
         "x": [
          -64.9304676627772
         ],
         "xaxis": "x",
         "y": [
          29.846329856132655
         ],
         "yaxis": "y"
        },
        {
         "hovertemplate": "index=H259<br>PC1=%{x}<br>PC2=%{y}<extra></extra>",
         "legendgroup": "H259",
         "marker": {
          "color": "#FF6692",
          "symbol": "circle"
         },
         "mode": "markers",
         "name": "H259",
         "orientation": "v",
         "showlegend": true,
         "type": "scatter",
         "x": [
          104.09850314462747
         ],
         "xaxis": "x",
         "y": [
          -38.16173722957356
         ],
         "yaxis": "y"
        },
        {
         "hovertemplate": "index=H260<br>PC1=%{x}<br>PC2=%{y}<extra></extra>",
         "legendgroup": "H260",
         "marker": {
          "color": "#B6E880",
          "symbol": "circle"
         },
         "mode": "markers",
         "name": "H260",
         "orientation": "v",
         "showlegend": true,
         "type": "scatter",
         "x": [
          112.9542101031332
         ],
         "xaxis": "x",
         "y": [
          17.189408927560176
         ],
         "yaxis": "y"
        },
        {
         "hovertemplate": "index=H261<br>PC1=%{x}<br>PC2=%{y}<extra></extra>",
         "legendgroup": "H261",
         "marker": {
          "color": "#FF97FF",
          "symbol": "circle"
         },
         "mode": "markers",
         "name": "H261",
         "orientation": "v",
         "showlegend": true,
         "type": "scatter",
         "x": [
          138.91277225174017
         ],
         "xaxis": "x",
         "y": [
          4.3022863855529305
         ],
         "yaxis": "y"
        },
        {
         "hovertemplate": "index=H262<br>PC1=%{x}<br>PC2=%{y}<extra></extra>",
         "legendgroup": "H262",
         "marker": {
          "color": "#FECB52",
          "symbol": "circle"
         },
         "mode": "markers",
         "name": "H262",
         "orientation": "v",
         "showlegend": true,
         "type": "scatter",
         "x": [
          -47.267837340662844
         ],
         "xaxis": "x",
         "y": [
          -92.37333955655112
         ],
         "yaxis": "y"
        },
        {
         "hovertemplate": "index=H263<br>PC1=%{x}<br>PC2=%{y}<extra></extra>",
         "legendgroup": "H263",
         "marker": {
          "color": "#636efa",
          "symbol": "circle"
         },
         "mode": "markers",
         "name": "H263",
         "orientation": "v",
         "showlegend": true,
         "type": "scatter",
         "x": [
          -23.962041822286324
         ],
         "xaxis": "x",
         "y": [
          8.825799787201015
         ],
         "yaxis": "y"
        },
        {
         "hovertemplate": "index=H264<br>PC1=%{x}<br>PC2=%{y}<extra></extra>",
         "legendgroup": "H264",
         "marker": {
          "color": "#EF553B",
          "symbol": "circle"
         },
         "mode": "markers",
         "name": "H264",
         "orientation": "v",
         "showlegend": true,
         "type": "scatter",
         "x": [
          -1.6384035467906852
         ],
         "xaxis": "x",
         "y": [
          9.608323508456458
         ],
         "yaxis": "y"
        },
        {
         "hovertemplate": "index=H265<br>PC1=%{x}<br>PC2=%{y}<extra></extra>",
         "legendgroup": "H265",
         "marker": {
          "color": "#00cc96",
          "symbol": "circle"
         },
         "mode": "markers",
         "name": "H265",
         "orientation": "v",
         "showlegend": true,
         "type": "scatter",
         "x": [
          -11.398276534299542
         ],
         "xaxis": "x",
         "y": [
          11.009521148894082
         ],
         "yaxis": "y"
        },
        {
         "hovertemplate": "index=H266<br>PC1=%{x}<br>PC2=%{y}<extra></extra>",
         "legendgroup": "H266",
         "marker": {
          "color": "#ab63fa",
          "symbol": "circle"
         },
         "mode": "markers",
         "name": "H266",
         "orientation": "v",
         "showlegend": true,
         "type": "scatter",
         "x": [
          -24.68858564767737
         ],
         "xaxis": "x",
         "y": [
          -40.08499292598671
         ],
         "yaxis": "y"
        },
        {
         "hovertemplate": "index=H267<br>PC1=%{x}<br>PC2=%{y}<extra></extra>",
         "legendgroup": "H267",
         "marker": {
          "color": "#FFA15A",
          "symbol": "circle"
         },
         "mode": "markers",
         "name": "H267",
         "orientation": "v",
         "showlegend": true,
         "type": "scatter",
         "x": [
          -11.729989895128858
         ],
         "xaxis": "x",
         "y": [
          -13.210091719201044
         ],
         "yaxis": "y"
        },
        {
         "hovertemplate": "index=H268<br>PC1=%{x}<br>PC2=%{y}<extra></extra>",
         "legendgroup": "H268",
         "marker": {
          "color": "#19d3f3",
          "symbol": "circle"
         },
         "mode": "markers",
         "name": "H268",
         "orientation": "v",
         "showlegend": true,
         "type": "scatter",
         "x": [
          -13.337888311828577
         ],
         "xaxis": "x",
         "y": [
          16.856068201600984
         ],
         "yaxis": "y"
        },
        {
         "hovertemplate": "index=H269<br>PC1=%{x}<br>PC2=%{y}<extra></extra>",
         "legendgroup": "H269",
         "marker": {
          "color": "#FF6692",
          "symbol": "circle"
         },
         "mode": "markers",
         "name": "H269",
         "orientation": "v",
         "showlegend": true,
         "type": "scatter",
         "x": [
          -17.048897189487125
         ],
         "xaxis": "x",
         "y": [
          1.8912435401261645
         ],
         "yaxis": "y"
        },
        {
         "hovertemplate": "index=H270<br>PC1=%{x}<br>PC2=%{y}<extra></extra>",
         "legendgroup": "H270",
         "marker": {
          "color": "#B6E880",
          "symbol": "circle"
         },
         "mode": "markers",
         "name": "H270",
         "orientation": "v",
         "showlegend": true,
         "type": "scatter",
         "x": [
          -34.51849961047291
         ],
         "xaxis": "x",
         "y": [
          67.31601757866567
         ],
         "yaxis": "y"
        }
       ],
       "layout": {
        "legend": {
         "title": {
          "text": "index"
         },
         "tracegroupgap": 0
        },
        "margin": {
         "t": 60
        },
        "template": {
         "data": {
          "bar": [
           {
            "error_x": {
             "color": "#f2f5fa"
            },
            "error_y": {
             "color": "#f2f5fa"
            },
            "marker": {
             "line": {
              "color": "rgb(17,17,17)",
              "width": 0.5
             },
             "pattern": {
              "fillmode": "overlay",
              "size": 10,
              "solidity": 0.2
             }
            },
            "type": "bar"
           }
          ],
          "barpolar": [
           {
            "marker": {
             "line": {
              "color": "rgb(17,17,17)",
              "width": 0.5
             },
             "pattern": {
              "fillmode": "overlay",
              "size": 10,
              "solidity": 0.2
             }
            },
            "type": "barpolar"
           }
          ],
          "carpet": [
           {
            "aaxis": {
             "endlinecolor": "#A2B1C6",
             "gridcolor": "#506784",
             "linecolor": "#506784",
             "minorgridcolor": "#506784",
             "startlinecolor": "#A2B1C6"
            },
            "baxis": {
             "endlinecolor": "#A2B1C6",
             "gridcolor": "#506784",
             "linecolor": "#506784",
             "minorgridcolor": "#506784",
             "startlinecolor": "#A2B1C6"
            },
            "type": "carpet"
           }
          ],
          "choropleth": [
           {
            "colorbar": {
             "outlinewidth": 0,
             "ticks": ""
            },
            "type": "choropleth"
           }
          ],
          "contour": [
           {
            "colorbar": {
             "outlinewidth": 0,
             "ticks": ""
            },
            "colorscale": [
             [
              0.0,
              "#0d0887"
             ],
             [
              0.1111111111111111,
              "#46039f"
             ],
             [
              0.2222222222222222,
              "#7201a8"
             ],
             [
              0.3333333333333333,
              "#9c179e"
             ],
             [
              0.4444444444444444,
              "#bd3786"
             ],
             [
              0.5555555555555556,
              "#d8576b"
             ],
             [
              0.6666666666666666,
              "#ed7953"
             ],
             [
              0.7777777777777778,
              "#fb9f3a"
             ],
             [
              0.8888888888888888,
              "#fdca26"
             ],
             [
              1.0,
              "#f0f921"
             ]
            ],
            "type": "contour"
           }
          ],
          "contourcarpet": [
           {
            "colorbar": {
             "outlinewidth": 0,
             "ticks": ""
            },
            "type": "contourcarpet"
           }
          ],
          "heatmap": [
           {
            "colorbar": {
             "outlinewidth": 0,
             "ticks": ""
            },
            "colorscale": [
             [
              0.0,
              "#0d0887"
             ],
             [
              0.1111111111111111,
              "#46039f"
             ],
             [
              0.2222222222222222,
              "#7201a8"
             ],
             [
              0.3333333333333333,
              "#9c179e"
             ],
             [
              0.4444444444444444,
              "#bd3786"
             ],
             [
              0.5555555555555556,
              "#d8576b"
             ],
             [
              0.6666666666666666,
              "#ed7953"
             ],
             [
              0.7777777777777778,
              "#fb9f3a"
             ],
             [
              0.8888888888888888,
              "#fdca26"
             ],
             [
              1.0,
              "#f0f921"
             ]
            ],
            "type": "heatmap"
           }
          ],
          "heatmapgl": [
           {
            "colorbar": {
             "outlinewidth": 0,
             "ticks": ""
            },
            "colorscale": [
             [
              0.0,
              "#0d0887"
             ],
             [
              0.1111111111111111,
              "#46039f"
             ],
             [
              0.2222222222222222,
              "#7201a8"
             ],
             [
              0.3333333333333333,
              "#9c179e"
             ],
             [
              0.4444444444444444,
              "#bd3786"
             ],
             [
              0.5555555555555556,
              "#d8576b"
             ],
             [
              0.6666666666666666,
              "#ed7953"
             ],
             [
              0.7777777777777778,
              "#fb9f3a"
             ],
             [
              0.8888888888888888,
              "#fdca26"
             ],
             [
              1.0,
              "#f0f921"
             ]
            ],
            "type": "heatmapgl"
           }
          ],
          "histogram": [
           {
            "marker": {
             "pattern": {
              "fillmode": "overlay",
              "size": 10,
              "solidity": 0.2
             }
            },
            "type": "histogram"
           }
          ],
          "histogram2d": [
           {
            "colorbar": {
             "outlinewidth": 0,
             "ticks": ""
            },
            "colorscale": [
             [
              0.0,
              "#0d0887"
             ],
             [
              0.1111111111111111,
              "#46039f"
             ],
             [
              0.2222222222222222,
              "#7201a8"
             ],
             [
              0.3333333333333333,
              "#9c179e"
             ],
             [
              0.4444444444444444,
              "#bd3786"
             ],
             [
              0.5555555555555556,
              "#d8576b"
             ],
             [
              0.6666666666666666,
              "#ed7953"
             ],
             [
              0.7777777777777778,
              "#fb9f3a"
             ],
             [
              0.8888888888888888,
              "#fdca26"
             ],
             [
              1.0,
              "#f0f921"
             ]
            ],
            "type": "histogram2d"
           }
          ],
          "histogram2dcontour": [
           {
            "colorbar": {
             "outlinewidth": 0,
             "ticks": ""
            },
            "colorscale": [
             [
              0.0,
              "#0d0887"
             ],
             [
              0.1111111111111111,
              "#46039f"
             ],
             [
              0.2222222222222222,
              "#7201a8"
             ],
             [
              0.3333333333333333,
              "#9c179e"
             ],
             [
              0.4444444444444444,
              "#bd3786"
             ],
             [
              0.5555555555555556,
              "#d8576b"
             ],
             [
              0.6666666666666666,
              "#ed7953"
             ],
             [
              0.7777777777777778,
              "#fb9f3a"
             ],
             [
              0.8888888888888888,
              "#fdca26"
             ],
             [
              1.0,
              "#f0f921"
             ]
            ],
            "type": "histogram2dcontour"
           }
          ],
          "mesh3d": [
           {
            "colorbar": {
             "outlinewidth": 0,
             "ticks": ""
            },
            "type": "mesh3d"
           }
          ],
          "parcoords": [
           {
            "line": {
             "colorbar": {
              "outlinewidth": 0,
              "ticks": ""
             }
            },
            "type": "parcoords"
           }
          ],
          "pie": [
           {
            "automargin": true,
            "type": "pie"
           }
          ],
          "scatter": [
           {
            "marker": {
             "line": {
              "color": "#283442"
             }
            },
            "type": "scatter"
           }
          ],
          "scatter3d": [
           {
            "line": {
             "colorbar": {
              "outlinewidth": 0,
              "ticks": ""
             }
            },
            "marker": {
             "colorbar": {
              "outlinewidth": 0,
              "ticks": ""
             }
            },
            "type": "scatter3d"
           }
          ],
          "scattercarpet": [
           {
            "marker": {
             "colorbar": {
              "outlinewidth": 0,
              "ticks": ""
             }
            },
            "type": "scattercarpet"
           }
          ],
          "scattergeo": [
           {
            "marker": {
             "colorbar": {
              "outlinewidth": 0,
              "ticks": ""
             }
            },
            "type": "scattergeo"
           }
          ],
          "scattergl": [
           {
            "marker": {
             "line": {
              "color": "#283442"
             }
            },
            "type": "scattergl"
           }
          ],
          "scattermapbox": [
           {
            "marker": {
             "colorbar": {
              "outlinewidth": 0,
              "ticks": ""
             }
            },
            "type": "scattermapbox"
           }
          ],
          "scatterpolar": [
           {
            "marker": {
             "colorbar": {
              "outlinewidth": 0,
              "ticks": ""
             }
            },
            "type": "scatterpolar"
           }
          ],
          "scatterpolargl": [
           {
            "marker": {
             "colorbar": {
              "outlinewidth": 0,
              "ticks": ""
             }
            },
            "type": "scatterpolargl"
           }
          ],
          "scatterternary": [
           {
            "marker": {
             "colorbar": {
              "outlinewidth": 0,
              "ticks": ""
             }
            },
            "type": "scatterternary"
           }
          ],
          "surface": [
           {
            "colorbar": {
             "outlinewidth": 0,
             "ticks": ""
            },
            "colorscale": [
             [
              0.0,
              "#0d0887"
             ],
             [
              0.1111111111111111,
              "#46039f"
             ],
             [
              0.2222222222222222,
              "#7201a8"
             ],
             [
              0.3333333333333333,
              "#9c179e"
             ],
             [
              0.4444444444444444,
              "#bd3786"
             ],
             [
              0.5555555555555556,
              "#d8576b"
             ],
             [
              0.6666666666666666,
              "#ed7953"
             ],
             [
              0.7777777777777778,
              "#fb9f3a"
             ],
             [
              0.8888888888888888,
              "#fdca26"
             ],
             [
              1.0,
              "#f0f921"
             ]
            ],
            "type": "surface"
           }
          ],
          "table": [
           {
            "cells": {
             "fill": {
              "color": "#506784"
             },
             "line": {
              "color": "rgb(17,17,17)"
             }
            },
            "header": {
             "fill": {
              "color": "#2a3f5f"
             },
             "line": {
              "color": "rgb(17,17,17)"
             }
            },
            "type": "table"
           }
          ]
         },
         "layout": {
          "annotationdefaults": {
           "arrowcolor": "#f2f5fa",
           "arrowhead": 0,
           "arrowwidth": 1
          },
          "autotypenumbers": "strict",
          "coloraxis": {
           "colorbar": {
            "outlinewidth": 0,
            "ticks": ""
           }
          },
          "colorscale": {
           "diverging": [
            [
             0,
             "#8e0152"
            ],
            [
             0.1,
             "#c51b7d"
            ],
            [
             0.2,
             "#de77ae"
            ],
            [
             0.3,
             "#f1b6da"
            ],
            [
             0.4,
             "#fde0ef"
            ],
            [
             0.5,
             "#f7f7f7"
            ],
            [
             0.6,
             "#e6f5d0"
            ],
            [
             0.7,
             "#b8e186"
            ],
            [
             0.8,
             "#7fbc41"
            ],
            [
             0.9,
             "#4d9221"
            ],
            [
             1,
             "#276419"
            ]
           ],
           "sequential": [
            [
             0.0,
             "#0d0887"
            ],
            [
             0.1111111111111111,
             "#46039f"
            ],
            [
             0.2222222222222222,
             "#7201a8"
            ],
            [
             0.3333333333333333,
             "#9c179e"
            ],
            [
             0.4444444444444444,
             "#bd3786"
            ],
            [
             0.5555555555555556,
             "#d8576b"
            ],
            [
             0.6666666666666666,
             "#ed7953"
            ],
            [
             0.7777777777777778,
             "#fb9f3a"
            ],
            [
             0.8888888888888888,
             "#fdca26"
            ],
            [
             1.0,
             "#f0f921"
            ]
           ],
           "sequentialminus": [
            [
             0.0,
             "#0d0887"
            ],
            [
             0.1111111111111111,
             "#46039f"
            ],
            [
             0.2222222222222222,
             "#7201a8"
            ],
            [
             0.3333333333333333,
             "#9c179e"
            ],
            [
             0.4444444444444444,
             "#bd3786"
            ],
            [
             0.5555555555555556,
             "#d8576b"
            ],
            [
             0.6666666666666666,
             "#ed7953"
            ],
            [
             0.7777777777777778,
             "#fb9f3a"
            ],
            [
             0.8888888888888888,
             "#fdca26"
            ],
            [
             1.0,
             "#f0f921"
            ]
           ]
          },
          "colorway": [
           "#636efa",
           "#EF553B",
           "#00cc96",
           "#ab63fa",
           "#FFA15A",
           "#19d3f3",
           "#FF6692",
           "#B6E880",
           "#FF97FF",
           "#FECB52"
          ],
          "font": {
           "color": "#f2f5fa"
          },
          "geo": {
           "bgcolor": "rgb(17,17,17)",
           "lakecolor": "rgb(17,17,17)",
           "landcolor": "rgb(17,17,17)",
           "showlakes": true,
           "showland": true,
           "subunitcolor": "#506784"
          },
          "hoverlabel": {
           "align": "left"
          },
          "hovermode": "closest",
          "mapbox": {
           "style": "dark"
          },
          "paper_bgcolor": "rgb(17,17,17)",
          "plot_bgcolor": "rgb(17,17,17)",
          "polar": {
           "angularaxis": {
            "gridcolor": "#506784",
            "linecolor": "#506784",
            "ticks": ""
           },
           "bgcolor": "rgb(17,17,17)",
           "radialaxis": {
            "gridcolor": "#506784",
            "linecolor": "#506784",
            "ticks": ""
           }
          },
          "scene": {
           "xaxis": {
            "backgroundcolor": "rgb(17,17,17)",
            "gridcolor": "#506784",
            "gridwidth": 2,
            "linecolor": "#506784",
            "showbackground": true,
            "ticks": "",
            "zerolinecolor": "#C8D4E3"
           },
           "yaxis": {
            "backgroundcolor": "rgb(17,17,17)",
            "gridcolor": "#506784",
            "gridwidth": 2,
            "linecolor": "#506784",
            "showbackground": true,
            "ticks": "",
            "zerolinecolor": "#C8D4E3"
           },
           "zaxis": {
            "backgroundcolor": "rgb(17,17,17)",
            "gridcolor": "#506784",
            "gridwidth": 2,
            "linecolor": "#506784",
            "showbackground": true,
            "ticks": "",
            "zerolinecolor": "#C8D4E3"
           }
          },
          "shapedefaults": {
           "line": {
            "color": "#f2f5fa"
           }
          },
          "sliderdefaults": {
           "bgcolor": "#C8D4E3",
           "bordercolor": "rgb(17,17,17)",
           "borderwidth": 1,
           "tickwidth": 0
          },
          "ternary": {
           "aaxis": {
            "gridcolor": "#506784",
            "linecolor": "#506784",
            "ticks": ""
           },
           "baxis": {
            "gridcolor": "#506784",
            "linecolor": "#506784",
            "ticks": ""
           },
           "bgcolor": "rgb(17,17,17)",
           "caxis": {
            "gridcolor": "#506784",
            "linecolor": "#506784",
            "ticks": ""
           }
          },
          "title": {
           "x": 0.05
          },
          "updatemenudefaults": {
           "bgcolor": "#506784",
           "borderwidth": 0
          },
          "xaxis": {
           "automargin": true,
           "gridcolor": "#283442",
           "linecolor": "#506784",
           "ticks": "",
           "title": {
            "standoff": 15
           },
           "zerolinecolor": "#283442",
           "zerolinewidth": 2
          },
          "yaxis": {
           "automargin": true,
           "gridcolor": "#283442",
           "linecolor": "#506784",
           "ticks": "",
           "title": {
            "standoff": 15
           },
           "zerolinecolor": "#283442",
           "zerolinewidth": 2
          }
         }
        },
        "xaxis": {
         "anchor": "y",
         "domain": [
          0.0,
          1.0
         ],
         "title": {
          "text": "PC1"
         }
        },
        "yaxis": {
         "anchor": "x",
         "domain": [
          0.0,
          1.0
         ],
         "title": {
          "text": "PC2"
         }
        }
       }
      },
      "text/html": "<div>                            <div id=\"9a12cc3c-edf1-4809-a723-c5ea558e2733\" class=\"plotly-graph-div\" style=\"height:525px; width:100%;\"></div>            <script type=\"text/javascript\">                require([\"plotly\"], function(Plotly) {                    window.PLOTLYENV=window.PLOTLYENV || {};                                    if (document.getElementById(\"9a12cc3c-edf1-4809-a723-c5ea558e2733\")) {                    Plotly.newPlot(                        \"9a12cc3c-edf1-4809-a723-c5ea558e2733\",                        [{\"hovertemplate\":\"index=H223<br>PC1=%{x}<br>PC2=%{y}<extra></extra>\",\"legendgroup\":\"H223\",\"marker\":{\"color\":\"#636efa\",\"symbol\":\"circle\"},\"mode\":\"markers\",\"name\":\"H223\",\"orientation\":\"v\",\"showlegend\":true,\"type\":\"scatter\",\"x\":[86.75149875908565],\"xaxis\":\"x\",\"y\":[-70.66889064307226],\"yaxis\":\"y\"},{\"hovertemplate\":\"index=H224<br>PC1=%{x}<br>PC2=%{y}<extra></extra>\",\"legendgroup\":\"H224\",\"marker\":{\"color\":\"#EF553B\",\"symbol\":\"circle\"},\"mode\":\"markers\",\"name\":\"H224\",\"orientation\":\"v\",\"showlegend\":true,\"type\":\"scatter\",\"x\":[106.81572534687312],\"xaxis\":\"x\",\"y\":[-43.17018266156179],\"yaxis\":\"y\"},{\"hovertemplate\":\"index=H225<br>PC1=%{x}<br>PC2=%{y}<extra></extra>\",\"legendgroup\":\"H225\",\"marker\":{\"color\":\"#00cc96\",\"symbol\":\"circle\"},\"mode\":\"markers\",\"name\":\"H225\",\"orientation\":\"v\",\"showlegend\":true,\"type\":\"scatter\",\"x\":[82.83510853274822],\"xaxis\":\"x\",\"y\":[-9.129869266081876],\"yaxis\":\"y\"},{\"hovertemplate\":\"index=H226<br>PC1=%{x}<br>PC2=%{y}<extra></extra>\",\"legendgroup\":\"H226\",\"marker\":{\"color\":\"#ab63fa\",\"symbol\":\"circle\"},\"mode\":\"markers\",\"name\":\"H226\",\"orientation\":\"v\",\"showlegend\":true,\"type\":\"scatter\",\"x\":[-64.25547015590763],\"xaxis\":\"x\",\"y\":[-85.33176902145435],\"yaxis\":\"y\"},{\"hovertemplate\":\"index=H227<br>PC1=%{x}<br>PC2=%{y}<extra></extra>\",\"legendgroup\":\"H227\",\"marker\":{\"color\":\"#FFA15A\",\"symbol\":\"circle\"},\"mode\":\"markers\",\"name\":\"H227\",\"orientation\":\"v\",\"showlegend\":true,\"type\":\"scatter\",\"x\":[-38.536572130245986],\"xaxis\":\"x\",\"y\":[-42.26740505320525],\"yaxis\":\"y\"},{\"hovertemplate\":\"index=H228<br>PC1=%{x}<br>PC2=%{y}<extra></extra>\",\"legendgroup\":\"H228\",\"marker\":{\"color\":\"#19d3f3\",\"symbol\":\"circle\"},\"mode\":\"markers\",\"name\":\"H228\",\"orientation\":\"v\",\"showlegend\":true,\"type\":\"scatter\",\"x\":[-29.81293429224097],\"xaxis\":\"x\",\"y\":[-52.738250661374444],\"yaxis\":\"y\"},{\"hovertemplate\":\"index=H229<br>PC1=%{x}<br>PC2=%{y}<extra></extra>\",\"legendgroup\":\"H229\",\"marker\":{\"color\":\"#FF6692\",\"symbol\":\"circle\"},\"mode\":\"markers\",\"name\":\"H229\",\"orientation\":\"v\",\"showlegend\":true,\"type\":\"scatter\",\"x\":[-35.09120699986395],\"xaxis\":\"x\",\"y\":[-50.72837583534797],\"yaxis\":\"y\"},{\"hovertemplate\":\"index=H230<br>PC1=%{x}<br>PC2=%{y}<extra></extra>\",\"legendgroup\":\"H230\",\"marker\":{\"color\":\"#B6E880\",\"symbol\":\"circle\"},\"mode\":\"markers\",\"name\":\"H230\",\"orientation\":\"v\",\"showlegend\":true,\"type\":\"scatter\",\"x\":[-59.114650691258255],\"xaxis\":\"x\",\"y\":[-36.109495991765826],\"yaxis\":\"y\"},{\"hovertemplate\":\"index=H231<br>PC1=%{x}<br>PC2=%{y}<extra></extra>\",\"legendgroup\":\"H231\",\"marker\":{\"color\":\"#FF97FF\",\"symbol\":\"circle\"},\"mode\":\"markers\",\"name\":\"H231\",\"orientation\":\"v\",\"showlegend\":true,\"type\":\"scatter\",\"x\":[-32.19966942165175],\"xaxis\":\"x\",\"y\":[-23.082266238040802],\"yaxis\":\"y\"},{\"hovertemplate\":\"index=H232<br>PC1=%{x}<br>PC2=%{y}<extra></extra>\",\"legendgroup\":\"H232\",\"marker\":{\"color\":\"#FECB52\",\"symbol\":\"circle\"},\"mode\":\"markers\",\"name\":\"H232\",\"orientation\":\"v\",\"showlegend\":true,\"type\":\"scatter\",\"x\":[-31.400601330260884],\"xaxis\":\"x\",\"y\":[-6.74281020364594],\"yaxis\":\"y\"},{\"hovertemplate\":\"index=H233<br>PC1=%{x}<br>PC2=%{y}<extra></extra>\",\"legendgroup\":\"H233\",\"marker\":{\"color\":\"#636efa\",\"symbol\":\"circle\"},\"mode\":\"markers\",\"name\":\"H233\",\"orientation\":\"v\",\"showlegend\":true,\"type\":\"scatter\",\"x\":[-40.51987307316592],\"xaxis\":\"x\",\"y\":[-12.838563669062411],\"yaxis\":\"y\"},{\"hovertemplate\":\"index=H234<br>PC1=%{x}<br>PC2=%{y}<extra></extra>\",\"legendgroup\":\"H234\",\"marker\":{\"color\":\"#EF553B\",\"symbol\":\"circle\"},\"mode\":\"markers\",\"name\":\"H234\",\"orientation\":\"v\",\"showlegend\":true,\"type\":\"scatter\",\"x\":[-27.407827211235592],\"xaxis\":\"x\",\"y\":[-19.54327887567882],\"yaxis\":\"y\"},{\"hovertemplate\":\"index=H235<br>PC1=%{x}<br>PC2=%{y}<extra></extra>\",\"legendgroup\":\"H235\",\"marker\":{\"color\":\"#00cc96\",\"symbol\":\"circle\"},\"mode\":\"markers\",\"name\":\"H235\",\"orientation\":\"v\",\"showlegend\":true,\"type\":\"scatter\",\"x\":[43.255769279535535],\"xaxis\":\"x\",\"y\":[63.248823785304566],\"yaxis\":\"y\"},{\"hovertemplate\":\"index=H236<br>PC1=%{x}<br>PC2=%{y}<extra></extra>\",\"legendgroup\":\"H236\",\"marker\":{\"color\":\"#ab63fa\",\"symbol\":\"circle\"},\"mode\":\"markers\",\"name\":\"H236\",\"orientation\":\"v\",\"showlegend\":true,\"type\":\"scatter\",\"x\":[71.55278661401424],\"xaxis\":\"x\",\"y\":[69.22117095138887],\"yaxis\":\"y\"},{\"hovertemplate\":\"index=H237<br>PC1=%{x}<br>PC2=%{y}<extra></extra>\",\"legendgroup\":\"H237\",\"marker\":{\"color\":\"#FFA15A\",\"symbol\":\"circle\"},\"mode\":\"markers\",\"name\":\"H237\",\"orientation\":\"v\",\"showlegend\":true,\"type\":\"scatter\",\"x\":[44.66261976072542],\"xaxis\":\"x\",\"y\":[53.52871562545494],\"yaxis\":\"y\"},{\"hovertemplate\":\"index=H238<br>PC1=%{x}<br>PC2=%{y}<extra></extra>\",\"legendgroup\":\"H238\",\"marker\":{\"color\":\"#19d3f3\",\"symbol\":\"circle\"},\"mode\":\"markers\",\"name\":\"H238\",\"orientation\":\"v\",\"showlegend\":true,\"type\":\"scatter\",\"x\":[-57.036773249106346],\"xaxis\":\"x\",\"y\":[38.37352453386119],\"yaxis\":\"y\"},{\"hovertemplate\":\"index=H239<br>PC1=%{x}<br>PC2=%{y}<extra></extra>\",\"legendgroup\":\"H239\",\"marker\":{\"color\":\"#FF6692\",\"symbol\":\"circle\"},\"mode\":\"markers\",\"name\":\"H239\",\"orientation\":\"v\",\"showlegend\":true,\"type\":\"scatter\",\"x\":[-29.50735187077869],\"xaxis\":\"x\",\"y\":[26.01340207028658],\"yaxis\":\"y\"},{\"hovertemplate\":\"index=H240<br>PC1=%{x}<br>PC2=%{y}<extra></extra>\",\"legendgroup\":\"H240\",\"marker\":{\"color\":\"#B6E880\",\"symbol\":\"circle\"},\"mode\":\"markers\",\"name\":\"H240\",\"orientation\":\"v\",\"showlegend\":true,\"type\":\"scatter\",\"x\":[-17.579014587009638],\"xaxis\":\"x\",\"y\":[22.41432840792136],\"yaxis\":\"y\"},{\"hovertemplate\":\"index=H241<br>PC1=%{x}<br>PC2=%{y}<extra></extra>\",\"legendgroup\":\"H241\",\"marker\":{\"color\":\"#FF97FF\",\"symbol\":\"circle\"},\"mode\":\"markers\",\"name\":\"H241\",\"orientation\":\"v\",\"showlegend\":true,\"type\":\"scatter\",\"x\":[-28.106673012315714],\"xaxis\":\"x\",\"y\":[34.88010766229022],\"yaxis\":\"y\"},{\"hovertemplate\":\"index=H242<br>PC1=%{x}<br>PC2=%{y}<extra></extra>\",\"legendgroup\":\"H242\",\"marker\":{\"color\":\"#FECB52\",\"symbol\":\"circle\"},\"mode\":\"markers\",\"name\":\"H242\",\"orientation\":\"v\",\"showlegend\":true,\"type\":\"scatter\",\"x\":[-39.46522995918265],\"xaxis\":\"x\",\"y\":[81.86405020330245],\"yaxis\":\"y\"},{\"hovertemplate\":\"index=H243<br>PC1=%{x}<br>PC2=%{y}<extra></extra>\",\"legendgroup\":\"H243\",\"marker\":{\"color\":\"#636efa\",\"symbol\":\"circle\"},\"mode\":\"markers\",\"name\":\"H243\",\"orientation\":\"v\",\"showlegend\":true,\"type\":\"scatter\",\"x\":[-31.051723882018482],\"xaxis\":\"x\",\"y\":[23.957192055732378],\"yaxis\":\"y\"},{\"hovertemplate\":\"index=H244<br>PC1=%{x}<br>PC2=%{y}<extra></extra>\",\"legendgroup\":\"H244\",\"marker\":{\"color\":\"#EF553B\",\"symbol\":\"circle\"},\"mode\":\"markers\",\"name\":\"H244\",\"orientation\":\"v\",\"showlegend\":true,\"type\":\"scatter\",\"x\":[-7.820901661763367],\"xaxis\":\"x\",\"y\":[17.539319581822003],\"yaxis\":\"y\"},{\"hovertemplate\":\"index=H245<br>PC1=%{x}<br>PC2=%{y}<extra></extra>\",\"legendgroup\":\"H245\",\"marker\":{\"color\":\"#00cc96\",\"symbol\":\"circle\"},\"mode\":\"markers\",\"name\":\"H245\",\"orientation\":\"v\",\"showlegend\":true,\"type\":\"scatter\",\"x\":[-24.270007884571207],\"xaxis\":\"x\",\"y\":[22.00209227115524],\"yaxis\":\"y\"},{\"hovertemplate\":\"index=H246<br>PC1=%{x}<br>PC2=%{y}<extra></extra>\",\"legendgroup\":\"H246\",\"marker\":{\"color\":\"#ab63fa\",\"symbol\":\"circle\"},\"mode\":\"markers\",\"name\":\"H246\",\"orientation\":\"v\",\"showlegend\":true,\"type\":\"scatter\",\"x\":[-32.70716152159685],\"xaxis\":\"x\",\"y\":[120.5751263955257],\"yaxis\":\"y\"},{\"hovertemplate\":\"index=H247<br>PC1=%{x}<br>PC2=%{y}<extra></extra>\",\"legendgroup\":\"H247\",\"marker\":{\"color\":\"#FFA15A\",\"symbol\":\"circle\"},\"mode\":\"markers\",\"name\":\"H247\",\"orientation\":\"v\",\"showlegend\":true,\"type\":\"scatter\",\"x\":[84.66316710968276],\"xaxis\":\"x\",\"y\":[-1.1423453967544492],\"yaxis\":\"y\"},{\"hovertemplate\":\"index=H248<br>PC1=%{x}<br>PC2=%{y}<extra></extra>\",\"legendgroup\":\"H248\",\"marker\":{\"color\":\"#19d3f3\",\"symbol\":\"circle\"},\"mode\":\"markers\",\"name\":\"H248\",\"orientation\":\"v\",\"showlegend\":true,\"type\":\"scatter\",\"x\":[99.8898492271111],\"xaxis\":\"x\",\"y\":[-0.8118147288996707],\"yaxis\":\"y\"},{\"hovertemplate\":\"index=H249<br>PC1=%{x}<br>PC2=%{y}<extra></extra>\",\"legendgroup\":\"H249\",\"marker\":{\"color\":\"#FF6692\",\"symbol\":\"circle\"},\"mode\":\"markers\",\"name\":\"H249\",\"orientation\":\"v\",\"showlegend\":true,\"type\":\"scatter\",\"x\":[109.19163315057715],\"xaxis\":\"x\",\"y\":[24.877364327622658],\"yaxis\":\"y\"},{\"hovertemplate\":\"index=H250<br>PC1=%{x}<br>PC2=%{y}<extra></extra>\",\"legendgroup\":\"H250\",\"marker\":{\"color\":\"#B6E880\",\"symbol\":\"circle\"},\"mode\":\"markers\",\"name\":\"H250\",\"orientation\":\"v\",\"showlegend\":true,\"type\":\"scatter\",\"x\":[-87.09754634090915],\"xaxis\":\"x\",\"y\":[-8.747011881443377],\"yaxis\":\"y\"},{\"hovertemplate\":\"index=H251<br>PC1=%{x}<br>PC2=%{y}<extra></extra>\",\"legendgroup\":\"H251\",\"marker\":{\"color\":\"#FF97FF\",\"symbol\":\"circle\"},\"mode\":\"markers\",\"name\":\"H251\",\"orientation\":\"v\",\"showlegend\":true,\"type\":\"scatter\",\"x\":[-16.990835745518396],\"xaxis\":\"x\",\"y\":[-39.86049278478445],\"yaxis\":\"y\"},{\"hovertemplate\":\"index=H252<br>PC1=%{x}<br>PC2=%{y}<extra></extra>\",\"legendgroup\":\"H252\",\"marker\":{\"color\":\"#FECB52\",\"symbol\":\"circle\"},\"mode\":\"markers\",\"name\":\"H252\",\"orientation\":\"v\",\"showlegend\":true,\"type\":\"scatter\",\"x\":[-1.3049222204768494],\"xaxis\":\"x\",\"y\":[-45.89671526822834],\"yaxis\":\"y\"},{\"hovertemplate\":\"index=H253<br>PC1=%{x}<br>PC2=%{y}<extra></extra>\",\"legendgroup\":\"H253\",\"marker\":{\"color\":\"#636efa\",\"symbol\":\"circle\"},\"mode\":\"markers\",\"name\":\"H253\",\"orientation\":\"v\",\"showlegend\":true,\"type\":\"scatter\",\"x\":[-3.074469815937599],\"xaxis\":\"x\",\"y\":[-37.33684852942349],\"yaxis\":\"y\"},{\"hovertemplate\":\"index=H254<br>PC1=%{x}<br>PC2=%{y}<extra></extra>\",\"legendgroup\":\"H254\",\"marker\":{\"color\":\"#EF553B\",\"symbol\":\"circle\"},\"mode\":\"markers\",\"name\":\"H254\",\"orientation\":\"v\",\"showlegend\":true,\"type\":\"scatter\",\"x\":[-69.50884968693829],\"xaxis\":\"x\",\"y\":[59.61659397492125],\"yaxis\":\"y\"},{\"hovertemplate\":\"index=H255<br>PC1=%{x}<br>PC2=%{y}<extra></extra>\",\"legendgroup\":\"H255\",\"marker\":{\"color\":\"#00cc96\",\"symbol\":\"circle\"},\"mode\":\"markers\",\"name\":\"H255\",\"orientation\":\"v\",\"showlegend\":true,\"type\":\"scatter\",\"x\":[-12.890430935850333],\"xaxis\":\"x\",\"y\":[-11.543088333522702],\"yaxis\":\"y\"},{\"hovertemplate\":\"index=H256<br>PC1=%{x}<br>PC2=%{y}<extra></extra>\",\"legendgroup\":\"H256\",\"marker\":{\"color\":\"#ab63fa\",\"symbol\":\"circle\"},\"mode\":\"markers\",\"name\":\"H256\",\"orientation\":\"v\",\"showlegend\":true,\"type\":\"scatter\",\"x\":[-0.23933093594726418],\"xaxis\":\"x\",\"y\":[-23.519565224484555],\"yaxis\":\"y\"},{\"hovertemplate\":\"index=H257<br>PC1=%{x}<br>PC2=%{y}<extra></extra>\",\"legendgroup\":\"H257\",\"marker\":{\"color\":\"#FFA15A\",\"symbol\":\"circle\"},\"mode\":\"markers\",\"name\":\"H257\",\"orientation\":\"v\",\"showlegend\":true,\"type\":\"scatter\",\"x\":[-18.0727271026828],\"xaxis\":\"x\",\"y\":[-19.917609081626683],\"yaxis\":\"y\"},{\"hovertemplate\":\"index=H258<br>PC1=%{x}<br>PC2=%{y}<extra></extra>\",\"legendgroup\":\"H258\",\"marker\":{\"color\":\"#19d3f3\",\"symbol\":\"circle\"},\"mode\":\"markers\",\"name\":\"H258\",\"orientation\":\"v\",\"showlegend\":true,\"type\":\"scatter\",\"x\":[-64.9304676627772],\"xaxis\":\"x\",\"y\":[29.846329856132655],\"yaxis\":\"y\"},{\"hovertemplate\":\"index=H259<br>PC1=%{x}<br>PC2=%{y}<extra></extra>\",\"legendgroup\":\"H259\",\"marker\":{\"color\":\"#FF6692\",\"symbol\":\"circle\"},\"mode\":\"markers\",\"name\":\"H259\",\"orientation\":\"v\",\"showlegend\":true,\"type\":\"scatter\",\"x\":[104.09850314462747],\"xaxis\":\"x\",\"y\":[-38.16173722957356],\"yaxis\":\"y\"},{\"hovertemplate\":\"index=H260<br>PC1=%{x}<br>PC2=%{y}<extra></extra>\",\"legendgroup\":\"H260\",\"marker\":{\"color\":\"#B6E880\",\"symbol\":\"circle\"},\"mode\":\"markers\",\"name\":\"H260\",\"orientation\":\"v\",\"showlegend\":true,\"type\":\"scatter\",\"x\":[112.9542101031332],\"xaxis\":\"x\",\"y\":[17.189408927560176],\"yaxis\":\"y\"},{\"hovertemplate\":\"index=H261<br>PC1=%{x}<br>PC2=%{y}<extra></extra>\",\"legendgroup\":\"H261\",\"marker\":{\"color\":\"#FF97FF\",\"symbol\":\"circle\"},\"mode\":\"markers\",\"name\":\"H261\",\"orientation\":\"v\",\"showlegend\":true,\"type\":\"scatter\",\"x\":[138.91277225174017],\"xaxis\":\"x\",\"y\":[4.3022863855529305],\"yaxis\":\"y\"},{\"hovertemplate\":\"index=H262<br>PC1=%{x}<br>PC2=%{y}<extra></extra>\",\"legendgroup\":\"H262\",\"marker\":{\"color\":\"#FECB52\",\"symbol\":\"circle\"},\"mode\":\"markers\",\"name\":\"H262\",\"orientation\":\"v\",\"showlegend\":true,\"type\":\"scatter\",\"x\":[-47.267837340662844],\"xaxis\":\"x\",\"y\":[-92.37333955655112],\"yaxis\":\"y\"},{\"hovertemplate\":\"index=H263<br>PC1=%{x}<br>PC2=%{y}<extra></extra>\",\"legendgroup\":\"H263\",\"marker\":{\"color\":\"#636efa\",\"symbol\":\"circle\"},\"mode\":\"markers\",\"name\":\"H263\",\"orientation\":\"v\",\"showlegend\":true,\"type\":\"scatter\",\"x\":[-23.962041822286324],\"xaxis\":\"x\",\"y\":[8.825799787201015],\"yaxis\":\"y\"},{\"hovertemplate\":\"index=H264<br>PC1=%{x}<br>PC2=%{y}<extra></extra>\",\"legendgroup\":\"H264\",\"marker\":{\"color\":\"#EF553B\",\"symbol\":\"circle\"},\"mode\":\"markers\",\"name\":\"H264\",\"orientation\":\"v\",\"showlegend\":true,\"type\":\"scatter\",\"x\":[-1.6384035467906852],\"xaxis\":\"x\",\"y\":[9.608323508456458],\"yaxis\":\"y\"},{\"hovertemplate\":\"index=H265<br>PC1=%{x}<br>PC2=%{y}<extra></extra>\",\"legendgroup\":\"H265\",\"marker\":{\"color\":\"#00cc96\",\"symbol\":\"circle\"},\"mode\":\"markers\",\"name\":\"H265\",\"orientation\":\"v\",\"showlegend\":true,\"type\":\"scatter\",\"x\":[-11.398276534299542],\"xaxis\":\"x\",\"y\":[11.009521148894082],\"yaxis\":\"y\"},{\"hovertemplate\":\"index=H266<br>PC1=%{x}<br>PC2=%{y}<extra></extra>\",\"legendgroup\":\"H266\",\"marker\":{\"color\":\"#ab63fa\",\"symbol\":\"circle\"},\"mode\":\"markers\",\"name\":\"H266\",\"orientation\":\"v\",\"showlegend\":true,\"type\":\"scatter\",\"x\":[-24.68858564767737],\"xaxis\":\"x\",\"y\":[-40.08499292598671],\"yaxis\":\"y\"},{\"hovertemplate\":\"index=H267<br>PC1=%{x}<br>PC2=%{y}<extra></extra>\",\"legendgroup\":\"H267\",\"marker\":{\"color\":\"#FFA15A\",\"symbol\":\"circle\"},\"mode\":\"markers\",\"name\":\"H267\",\"orientation\":\"v\",\"showlegend\":true,\"type\":\"scatter\",\"x\":[-11.729989895128858],\"xaxis\":\"x\",\"y\":[-13.210091719201044],\"yaxis\":\"y\"},{\"hovertemplate\":\"index=H268<br>PC1=%{x}<br>PC2=%{y}<extra></extra>\",\"legendgroup\":\"H268\",\"marker\":{\"color\":\"#19d3f3\",\"symbol\":\"circle\"},\"mode\":\"markers\",\"name\":\"H268\",\"orientation\":\"v\",\"showlegend\":true,\"type\":\"scatter\",\"x\":[-13.337888311828577],\"xaxis\":\"x\",\"y\":[16.856068201600984],\"yaxis\":\"y\"},{\"hovertemplate\":\"index=H269<br>PC1=%{x}<br>PC2=%{y}<extra></extra>\",\"legendgroup\":\"H269\",\"marker\":{\"color\":\"#FF6692\",\"symbol\":\"circle\"},\"mode\":\"markers\",\"name\":\"H269\",\"orientation\":\"v\",\"showlegend\":true,\"type\":\"scatter\",\"x\":[-17.048897189487125],\"xaxis\":\"x\",\"y\":[1.8912435401261645],\"yaxis\":\"y\"},{\"hovertemplate\":\"index=H270<br>PC1=%{x}<br>PC2=%{y}<extra></extra>\",\"legendgroup\":\"H270\",\"marker\":{\"color\":\"#B6E880\",\"symbol\":\"circle\"},\"mode\":\"markers\",\"name\":\"H270\",\"orientation\":\"v\",\"showlegend\":true,\"type\":\"scatter\",\"x\":[-34.51849961047291],\"xaxis\":\"x\",\"y\":[67.31601757866567],\"yaxis\":\"y\"}],                        {\"legend\":{\"title\":{\"text\":\"index\"},\"tracegroupgap\":0},\"margin\":{\"t\":60},\"template\":{\"data\":{\"bar\":[{\"error_x\":{\"color\":\"#f2f5fa\"},\"error_y\":{\"color\":\"#f2f5fa\"},\"marker\":{\"line\":{\"color\":\"rgb(17,17,17)\",\"width\":0.5},\"pattern\":{\"fillmode\":\"overlay\",\"size\":10,\"solidity\":0.2}},\"type\":\"bar\"}],\"barpolar\":[{\"marker\":{\"line\":{\"color\":\"rgb(17,17,17)\",\"width\":0.5},\"pattern\":{\"fillmode\":\"overlay\",\"size\":10,\"solidity\":0.2}},\"type\":\"barpolar\"}],\"carpet\":[{\"aaxis\":{\"endlinecolor\":\"#A2B1C6\",\"gridcolor\":\"#506784\",\"linecolor\":\"#506784\",\"minorgridcolor\":\"#506784\",\"startlinecolor\":\"#A2B1C6\"},\"baxis\":{\"endlinecolor\":\"#A2B1C6\",\"gridcolor\":\"#506784\",\"linecolor\":\"#506784\",\"minorgridcolor\":\"#506784\",\"startlinecolor\":\"#A2B1C6\"},\"type\":\"carpet\"}],\"choropleth\":[{\"colorbar\":{\"outlinewidth\":0,\"ticks\":\"\"},\"type\":\"choropleth\"}],\"contour\":[{\"colorbar\":{\"outlinewidth\":0,\"ticks\":\"\"},\"colorscale\":[[0.0,\"#0d0887\"],[0.1111111111111111,\"#46039f\"],[0.2222222222222222,\"#7201a8\"],[0.3333333333333333,\"#9c179e\"],[0.4444444444444444,\"#bd3786\"],[0.5555555555555556,\"#d8576b\"],[0.6666666666666666,\"#ed7953\"],[0.7777777777777778,\"#fb9f3a\"],[0.8888888888888888,\"#fdca26\"],[1.0,\"#f0f921\"]],\"type\":\"contour\"}],\"contourcarpet\":[{\"colorbar\":{\"outlinewidth\":0,\"ticks\":\"\"},\"type\":\"contourcarpet\"}],\"heatmap\":[{\"colorbar\":{\"outlinewidth\":0,\"ticks\":\"\"},\"colorscale\":[[0.0,\"#0d0887\"],[0.1111111111111111,\"#46039f\"],[0.2222222222222222,\"#7201a8\"],[0.3333333333333333,\"#9c179e\"],[0.4444444444444444,\"#bd3786\"],[0.5555555555555556,\"#d8576b\"],[0.6666666666666666,\"#ed7953\"],[0.7777777777777778,\"#fb9f3a\"],[0.8888888888888888,\"#fdca26\"],[1.0,\"#f0f921\"]],\"type\":\"heatmap\"}],\"heatmapgl\":[{\"colorbar\":{\"outlinewidth\":0,\"ticks\":\"\"},\"colorscale\":[[0.0,\"#0d0887\"],[0.1111111111111111,\"#46039f\"],[0.2222222222222222,\"#7201a8\"],[0.3333333333333333,\"#9c179e\"],[0.4444444444444444,\"#bd3786\"],[0.5555555555555556,\"#d8576b\"],[0.6666666666666666,\"#ed7953\"],[0.7777777777777778,\"#fb9f3a\"],[0.8888888888888888,\"#fdca26\"],[1.0,\"#f0f921\"]],\"type\":\"heatmapgl\"}],\"histogram\":[{\"marker\":{\"pattern\":{\"fillmode\":\"overlay\",\"size\":10,\"solidity\":0.2}},\"type\":\"histogram\"}],\"histogram2d\":[{\"colorbar\":{\"outlinewidth\":0,\"ticks\":\"\"},\"colorscale\":[[0.0,\"#0d0887\"],[0.1111111111111111,\"#46039f\"],[0.2222222222222222,\"#7201a8\"],[0.3333333333333333,\"#9c179e\"],[0.4444444444444444,\"#bd3786\"],[0.5555555555555556,\"#d8576b\"],[0.6666666666666666,\"#ed7953\"],[0.7777777777777778,\"#fb9f3a\"],[0.8888888888888888,\"#fdca26\"],[1.0,\"#f0f921\"]],\"type\":\"histogram2d\"}],\"histogram2dcontour\":[{\"colorbar\":{\"outlinewidth\":0,\"ticks\":\"\"},\"colorscale\":[[0.0,\"#0d0887\"],[0.1111111111111111,\"#46039f\"],[0.2222222222222222,\"#7201a8\"],[0.3333333333333333,\"#9c179e\"],[0.4444444444444444,\"#bd3786\"],[0.5555555555555556,\"#d8576b\"],[0.6666666666666666,\"#ed7953\"],[0.7777777777777778,\"#fb9f3a\"],[0.8888888888888888,\"#fdca26\"],[1.0,\"#f0f921\"]],\"type\":\"histogram2dcontour\"}],\"mesh3d\":[{\"colorbar\":{\"outlinewidth\":0,\"ticks\":\"\"},\"type\":\"mesh3d\"}],\"parcoords\":[{\"line\":{\"colorbar\":{\"outlinewidth\":0,\"ticks\":\"\"}},\"type\":\"parcoords\"}],\"pie\":[{\"automargin\":true,\"type\":\"pie\"}],\"scatter\":[{\"marker\":{\"line\":{\"color\":\"#283442\"}},\"type\":\"scatter\"}],\"scatter3d\":[{\"line\":{\"colorbar\":{\"outlinewidth\":0,\"ticks\":\"\"}},\"marker\":{\"colorbar\":{\"outlinewidth\":0,\"ticks\":\"\"}},\"type\":\"scatter3d\"}],\"scattercarpet\":[{\"marker\":{\"colorbar\":{\"outlinewidth\":0,\"ticks\":\"\"}},\"type\":\"scattercarpet\"}],\"scattergeo\":[{\"marker\":{\"colorbar\":{\"outlinewidth\":0,\"ticks\":\"\"}},\"type\":\"scattergeo\"}],\"scattergl\":[{\"marker\":{\"line\":{\"color\":\"#283442\"}},\"type\":\"scattergl\"}],\"scattermapbox\":[{\"marker\":{\"colorbar\":{\"outlinewidth\":0,\"ticks\":\"\"}},\"type\":\"scattermapbox\"}],\"scatterpolar\":[{\"marker\":{\"colorbar\":{\"outlinewidth\":0,\"ticks\":\"\"}},\"type\":\"scatterpolar\"}],\"scatterpolargl\":[{\"marker\":{\"colorbar\":{\"outlinewidth\":0,\"ticks\":\"\"}},\"type\":\"scatterpolargl\"}],\"scatterternary\":[{\"marker\":{\"colorbar\":{\"outlinewidth\":0,\"ticks\":\"\"}},\"type\":\"scatterternary\"}],\"surface\":[{\"colorbar\":{\"outlinewidth\":0,\"ticks\":\"\"},\"colorscale\":[[0.0,\"#0d0887\"],[0.1111111111111111,\"#46039f\"],[0.2222222222222222,\"#7201a8\"],[0.3333333333333333,\"#9c179e\"],[0.4444444444444444,\"#bd3786\"],[0.5555555555555556,\"#d8576b\"],[0.6666666666666666,\"#ed7953\"],[0.7777777777777778,\"#fb9f3a\"],[0.8888888888888888,\"#fdca26\"],[1.0,\"#f0f921\"]],\"type\":\"surface\"}],\"table\":[{\"cells\":{\"fill\":{\"color\":\"#506784\"},\"line\":{\"color\":\"rgb(17,17,17)\"}},\"header\":{\"fill\":{\"color\":\"#2a3f5f\"},\"line\":{\"color\":\"rgb(17,17,17)\"}},\"type\":\"table\"}]},\"layout\":{\"annotationdefaults\":{\"arrowcolor\":\"#f2f5fa\",\"arrowhead\":0,\"arrowwidth\":1},\"autotypenumbers\":\"strict\",\"coloraxis\":{\"colorbar\":{\"outlinewidth\":0,\"ticks\":\"\"}},\"colorscale\":{\"diverging\":[[0,\"#8e0152\"],[0.1,\"#c51b7d\"],[0.2,\"#de77ae\"],[0.3,\"#f1b6da\"],[0.4,\"#fde0ef\"],[0.5,\"#f7f7f7\"],[0.6,\"#e6f5d0\"],[0.7,\"#b8e186\"],[0.8,\"#7fbc41\"],[0.9,\"#4d9221\"],[1,\"#276419\"]],\"sequential\":[[0.0,\"#0d0887\"],[0.1111111111111111,\"#46039f\"],[0.2222222222222222,\"#7201a8\"],[0.3333333333333333,\"#9c179e\"],[0.4444444444444444,\"#bd3786\"],[0.5555555555555556,\"#d8576b\"],[0.6666666666666666,\"#ed7953\"],[0.7777777777777778,\"#fb9f3a\"],[0.8888888888888888,\"#fdca26\"],[1.0,\"#f0f921\"]],\"sequentialminus\":[[0.0,\"#0d0887\"],[0.1111111111111111,\"#46039f\"],[0.2222222222222222,\"#7201a8\"],[0.3333333333333333,\"#9c179e\"],[0.4444444444444444,\"#bd3786\"],[0.5555555555555556,\"#d8576b\"],[0.6666666666666666,\"#ed7953\"],[0.7777777777777778,\"#fb9f3a\"],[0.8888888888888888,\"#fdca26\"],[1.0,\"#f0f921\"]]},\"colorway\":[\"#636efa\",\"#EF553B\",\"#00cc96\",\"#ab63fa\",\"#FFA15A\",\"#19d3f3\",\"#FF6692\",\"#B6E880\",\"#FF97FF\",\"#FECB52\"],\"font\":{\"color\":\"#f2f5fa\"},\"geo\":{\"bgcolor\":\"rgb(17,17,17)\",\"lakecolor\":\"rgb(17,17,17)\",\"landcolor\":\"rgb(17,17,17)\",\"showlakes\":true,\"showland\":true,\"subunitcolor\":\"#506784\"},\"hoverlabel\":{\"align\":\"left\"},\"hovermode\":\"closest\",\"mapbox\":{\"style\":\"dark\"},\"paper_bgcolor\":\"rgb(17,17,17)\",\"plot_bgcolor\":\"rgb(17,17,17)\",\"polar\":{\"angularaxis\":{\"gridcolor\":\"#506784\",\"linecolor\":\"#506784\",\"ticks\":\"\"},\"bgcolor\":\"rgb(17,17,17)\",\"radialaxis\":{\"gridcolor\":\"#506784\",\"linecolor\":\"#506784\",\"ticks\":\"\"}},\"scene\":{\"xaxis\":{\"backgroundcolor\":\"rgb(17,17,17)\",\"gridcolor\":\"#506784\",\"gridwidth\":2,\"linecolor\":\"#506784\",\"showbackground\":true,\"ticks\":\"\",\"zerolinecolor\":\"#C8D4E3\"},\"yaxis\":{\"backgroundcolor\":\"rgb(17,17,17)\",\"gridcolor\":\"#506784\",\"gridwidth\":2,\"linecolor\":\"#506784\",\"showbackground\":true,\"ticks\":\"\",\"zerolinecolor\":\"#C8D4E3\"},\"zaxis\":{\"backgroundcolor\":\"rgb(17,17,17)\",\"gridcolor\":\"#506784\",\"gridwidth\":2,\"linecolor\":\"#506784\",\"showbackground\":true,\"ticks\":\"\",\"zerolinecolor\":\"#C8D4E3\"}},\"shapedefaults\":{\"line\":{\"color\":\"#f2f5fa\"}},\"sliderdefaults\":{\"bgcolor\":\"#C8D4E3\",\"bordercolor\":\"rgb(17,17,17)\",\"borderwidth\":1,\"tickwidth\":0},\"ternary\":{\"aaxis\":{\"gridcolor\":\"#506784\",\"linecolor\":\"#506784\",\"ticks\":\"\"},\"baxis\":{\"gridcolor\":\"#506784\",\"linecolor\":\"#506784\",\"ticks\":\"\"},\"bgcolor\":\"rgb(17,17,17)\",\"caxis\":{\"gridcolor\":\"#506784\",\"linecolor\":\"#506784\",\"ticks\":\"\"}},\"title\":{\"x\":0.05},\"updatemenudefaults\":{\"bgcolor\":\"#506784\",\"borderwidth\":0},\"xaxis\":{\"automargin\":true,\"gridcolor\":\"#283442\",\"linecolor\":\"#506784\",\"ticks\":\"\",\"title\":{\"standoff\":15},\"zerolinecolor\":\"#283442\",\"zerolinewidth\":2},\"yaxis\":{\"automargin\":true,\"gridcolor\":\"#283442\",\"linecolor\":\"#506784\",\"ticks\":\"\",\"title\":{\"standoff\":15},\"zerolinecolor\":\"#283442\",\"zerolinewidth\":2}}},\"xaxis\":{\"anchor\":\"y\",\"domain\":[0.0,1.0],\"title\":{\"text\":\"PC1\"}},\"yaxis\":{\"anchor\":\"x\",\"domain\":[0.0,1.0],\"title\":{\"text\":\"PC2\"}}},                        {\"responsive\": true}                    ).then(function(){\n                            \nvar gd = document.getElementById('9a12cc3c-edf1-4809-a723-c5ea558e2733');\nvar x = new MutationObserver(function (mutations, observer) {{\n        var display = window.getComputedStyle(gd).display;\n        if (!display || display === 'none') {{\n            console.log([gd, 'removed!']);\n            Plotly.purge(gd);\n            observer.disconnect();\n        }}\n}});\n\n// Listen for the removal of the full notebook cells\nvar notebookContainer = gd.closest('#notebook-container');\nif (notebookContainer) {{\n    x.observe(notebookContainer, {childList: true});\n}}\n\n// Listen for the clearing of the current output cell\nvar outputEl = gd.closest('.output');\nif (outputEl) {{\n    x.observe(outputEl, {childList: true});\n}}\n\n                        })                };                });            </script>        </div>"
     },
     "metadata": {},
     "output_type": "display_data"
    }
   ],
   "source": [
    "import plotly.express as px\n",
    "fig = px.scatter(df_pca, x=\"PC1\", y=\"PC2\", color=df_pca.index, template=\"plotly_dark\")\n",
    "fig.show()"
   ],
   "metadata": {
    "collapsed": false,
    "pycharm": {
     "name": "#%%\n"
    }
   }
  },
  {
   "cell_type": "code",
   "execution_count": 32,
   "outputs": [
    {
     "data": {
      "application/vnd.plotly.v1+json": {
       "config": {
        "plotlyServerURL": "https://plot.ly"
       },
       "data": [
        {
         "hovertemplate": "index=H223<br>PC0=%{x}<br>PC1=%{y}<br>PC2=%{z}<extra></extra>",
         "legendgroup": "H223",
         "marker": {
          "color": "#636efa",
          "symbol": "circle"
         },
         "mode": "markers",
         "name": "H223",
         "scene": "scene",
         "showlegend": true,
         "type": "scatter3d",
         "x": [
          68.19539611117283
         ],
         "y": [
          86.75149875908565
         ],
         "z": [
          -70.66889064307226
         ]
        },
        {
         "hovertemplate": "index=H224<br>PC0=%{x}<br>PC1=%{y}<br>PC2=%{z}<extra></extra>",
         "legendgroup": "H224",
         "marker": {
          "color": "#EF553B",
          "symbol": "circle"
         },
         "mode": "markers",
         "name": "H224",
         "scene": "scene",
         "showlegend": true,
         "type": "scatter3d",
         "x": [
          43.35941231397529
         ],
         "y": [
          106.81572534687312
         ],
         "z": [
          -43.17018266156179
         ]
        },
        {
         "hovertemplate": "index=H225<br>PC0=%{x}<br>PC1=%{y}<br>PC2=%{z}<extra></extra>",
         "legendgroup": "H225",
         "marker": {
          "color": "#00cc96",
          "symbol": "circle"
         },
         "mode": "markers",
         "name": "H225",
         "scene": "scene",
         "showlegend": true,
         "type": "scatter3d",
         "x": [
          27.17906694804048
         ],
         "y": [
          82.83510853274822
         ],
         "z": [
          -9.129869266081876
         ]
        },
        {
         "hovertemplate": "index=H226<br>PC0=%{x}<br>PC1=%{y}<br>PC2=%{z}<extra></extra>",
         "legendgroup": "H226",
         "marker": {
          "color": "#ab63fa",
          "symbol": "circle"
         },
         "mode": "markers",
         "name": "H226",
         "scene": "scene",
         "showlegend": true,
         "type": "scatter3d",
         "x": [
          141.70148008576683
         ],
         "y": [
          -64.25547015590763
         ],
         "z": [
          -85.33176902145435
         ]
        },
        {
         "hovertemplate": "index=H227<br>PC0=%{x}<br>PC1=%{y}<br>PC2=%{z}<extra></extra>",
         "legendgroup": "H227",
         "marker": {
          "color": "#FFA15A",
          "symbol": "circle"
         },
         "mode": "markers",
         "name": "H227",
         "scene": "scene",
         "showlegend": true,
         "type": "scatter3d",
         "x": [
          -92.45978907856335
         ],
         "y": [
          -38.536572130245986
         ],
         "z": [
          -42.26740505320525
         ]
        },
        {
         "hovertemplate": "index=H228<br>PC0=%{x}<br>PC1=%{y}<br>PC2=%{z}<extra></extra>",
         "legendgroup": "H228",
         "marker": {
          "color": "#19d3f3",
          "symbol": "circle"
         },
         "mode": "markers",
         "name": "H228",
         "scene": "scene",
         "showlegend": true,
         "type": "scatter3d",
         "x": [
          -96.23466481002532
         ],
         "y": [
          -29.81293429224097
         ],
         "z": [
          -52.738250661374444
         ]
        },
        {
         "hovertemplate": "index=H229<br>PC0=%{x}<br>PC1=%{y}<br>PC2=%{z}<extra></extra>",
         "legendgroup": "H229",
         "marker": {
          "color": "#FF6692",
          "symbol": "circle"
         },
         "mode": "markers",
         "name": "H229",
         "scene": "scene",
         "showlegend": true,
         "type": "scatter3d",
         "x": [
          -94.29535792705151
         ],
         "y": [
          -35.09120699986395
         ],
         "z": [
          -50.72837583534797
         ]
        },
        {
         "hovertemplate": "index=H230<br>PC0=%{x}<br>PC1=%{y}<br>PC2=%{z}<extra></extra>",
         "legendgroup": "H230",
         "marker": {
          "color": "#B6E880",
          "symbol": "circle"
         },
         "mode": "markers",
         "name": "H230",
         "scene": "scene",
         "showlegend": true,
         "type": "scatter3d",
         "x": [
          94.81782958308675
         ],
         "y": [
          -59.114650691258255
         ],
         "z": [
          -36.109495991765826
         ]
        },
        {
         "hovertemplate": "index=H231<br>PC0=%{x}<br>PC1=%{y}<br>PC2=%{z}<extra></extra>",
         "legendgroup": "H231",
         "marker": {
          "color": "#FF97FF",
          "symbol": "circle"
         },
         "mode": "markers",
         "name": "H231",
         "scene": "scene",
         "showlegend": true,
         "type": "scatter3d",
         "x": [
          -71.44503397656875
         ],
         "y": [
          -32.19966942165175
         ],
         "z": [
          -23.082266238040802
         ]
        },
        {
         "hovertemplate": "index=H232<br>PC0=%{x}<br>PC1=%{y}<br>PC2=%{z}<extra></extra>",
         "legendgroup": "H232",
         "marker": {
          "color": "#FECB52",
          "symbol": "circle"
         },
         "mode": "markers",
         "name": "H232",
         "scene": "scene",
         "showlegend": true,
         "type": "scatter3d",
         "x": [
          -110.40315882674008
         ],
         "y": [
          -31.400601330260884
         ],
         "z": [
          -6.74281020364594
         ]
        },
        {
         "hovertemplate": "index=H233<br>PC0=%{x}<br>PC1=%{y}<br>PC2=%{z}<extra></extra>",
         "legendgroup": "H233",
         "marker": {
          "color": "#636efa",
          "symbol": "circle"
         },
         "mode": "markers",
         "name": "H233",
         "scene": "scene",
         "showlegend": true,
         "type": "scatter3d",
         "x": [
          -103.45534421252721
         ],
         "y": [
          -40.51987307316592
         ],
         "z": [
          -12.838563669062411
         ]
        },
        {
         "hovertemplate": "index=H234<br>PC0=%{x}<br>PC1=%{y}<br>PC2=%{z}<extra></extra>",
         "legendgroup": "H234",
         "marker": {
          "color": "#EF553B",
          "symbol": "circle"
         },
         "mode": "markers",
         "name": "H234",
         "scene": "scene",
         "showlegend": true,
         "type": "scatter3d",
         "x": [
          167.98700576757574
         ],
         "y": [
          -27.407827211235592
         ],
         "z": [
          -19.54327887567882
         ]
        },
        {
         "hovertemplate": "index=H235<br>PC0=%{x}<br>PC1=%{y}<br>PC2=%{z}<extra></extra>",
         "legendgroup": "H235",
         "marker": {
          "color": "#00cc96",
          "symbol": "circle"
         },
         "mode": "markers",
         "name": "H235",
         "scene": "scene",
         "showlegend": true,
         "type": "scatter3d",
         "x": [
          5.461771162290015
         ],
         "y": [
          43.255769279535535
         ],
         "z": [
          63.248823785304566
         ]
        },
        {
         "hovertemplate": "index=H236<br>PC0=%{x}<br>PC1=%{y}<br>PC2=%{z}<extra></extra>",
         "legendgroup": "H236",
         "marker": {
          "color": "#ab63fa",
          "symbol": "circle"
         },
         "mode": "markers",
         "name": "H236",
         "scene": "scene",
         "showlegend": true,
         "type": "scatter3d",
         "x": [
          8.558119925681165
         ],
         "y": [
          71.55278661401424
         ],
         "z": [
          69.22117095138887
         ]
        },
        {
         "hovertemplate": "index=H237<br>PC0=%{x}<br>PC1=%{y}<br>PC2=%{z}<extra></extra>",
         "legendgroup": "H237",
         "marker": {
          "color": "#FFA15A",
          "symbol": "circle"
         },
         "mode": "markers",
         "name": "H237",
         "scene": "scene",
         "showlegend": true,
         "type": "scatter3d",
         "x": [
          -23.410706556400786
         ],
         "y": [
          44.66261976072542
         ],
         "z": [
          53.52871562545494
         ]
        },
        {
         "hovertemplate": "index=H238<br>PC0=%{x}<br>PC1=%{y}<br>PC2=%{z}<extra></extra>",
         "legendgroup": "H238",
         "marker": {
          "color": "#19d3f3",
          "symbol": "circle"
         },
         "mode": "markers",
         "name": "H238",
         "scene": "scene",
         "showlegend": true,
         "type": "scatter3d",
         "x": [
          79.00763137625398
         ],
         "y": [
          -57.036773249106346
         ],
         "z": [
          38.37352453386119
         ]
        },
        {
         "hovertemplate": "index=H239<br>PC0=%{x}<br>PC1=%{y}<br>PC2=%{z}<extra></extra>",
         "legendgroup": "H239",
         "marker": {
          "color": "#FF6692",
          "symbol": "circle"
         },
         "mode": "markers",
         "name": "H239",
         "scene": "scene",
         "showlegend": true,
         "type": "scatter3d",
         "x": [
          -91.15329126015936
         ],
         "y": [
          -29.50735187077869
         ],
         "z": [
          26.01340207028658
         ]
        },
        {
         "hovertemplate": "index=H240<br>PC0=%{x}<br>PC1=%{y}<br>PC2=%{z}<extra></extra>",
         "legendgroup": "H240",
         "marker": {
          "color": "#B6E880",
          "symbol": "circle"
         },
         "mode": "markers",
         "name": "H240",
         "scene": "scene",
         "showlegend": true,
         "type": "scatter3d",
         "x": [
          -95.1465932266564
         ],
         "y": [
          -17.579014587009638
         ],
         "z": [
          22.41432840792136
         ]
        },
        {
         "hovertemplate": "index=H241<br>PC0=%{x}<br>PC1=%{y}<br>PC2=%{z}<extra></extra>",
         "legendgroup": "H241",
         "marker": {
          "color": "#FF97FF",
          "symbol": "circle"
         },
         "mode": "markers",
         "name": "H241",
         "scene": "scene",
         "showlegend": true,
         "type": "scatter3d",
         "x": [
          -103.4454276067811
         ],
         "y": [
          -28.106673012315714
         ],
         "z": [
          34.88010766229022
         ]
        },
        {
         "hovertemplate": "index=H242<br>PC0=%{x}<br>PC1=%{y}<br>PC2=%{z}<extra></extra>",
         "legendgroup": "H242",
         "marker": {
          "color": "#FECB52",
          "symbol": "circle"
         },
         "mode": "markers",
         "name": "H242",
         "scene": "scene",
         "showlegend": true,
         "type": "scatter3d",
         "x": [
          98.46022824328647
         ],
         "y": [
          -39.46522995918265
         ],
         "z": [
          81.86405020330245
         ]
        },
        {
         "hovertemplate": "index=H243<br>PC0=%{x}<br>PC1=%{y}<br>PC2=%{z}<extra></extra>",
         "legendgroup": "H243",
         "marker": {
          "color": "#636efa",
          "symbol": "circle"
         },
         "mode": "markers",
         "name": "H243",
         "scene": "scene",
         "showlegend": true,
         "type": "scatter3d",
         "x": [
          -64.52276448798098
         ],
         "y": [
          -31.051723882018482
         ],
         "z": [
          23.957192055732378
         ]
        },
        {
         "hovertemplate": "index=H244<br>PC0=%{x}<br>PC1=%{y}<br>PC2=%{z}<extra></extra>",
         "legendgroup": "H244",
         "marker": {
          "color": "#EF553B",
          "symbol": "circle"
         },
         "mode": "markers",
         "name": "H244",
         "scene": "scene",
         "showlegend": true,
         "type": "scatter3d",
         "x": [
          -81.01517662793748
         ],
         "y": [
          -7.820901661763367
         ],
         "z": [
          17.539319581822003
         ]
        },
        {
         "hovertemplate": "index=H245<br>PC0=%{x}<br>PC1=%{y}<br>PC2=%{z}<extra></extra>",
         "legendgroup": "H245",
         "marker": {
          "color": "#00cc96",
          "symbol": "circle"
         },
         "mode": "markers",
         "name": "H245",
         "scene": "scene",
         "showlegend": true,
         "type": "scatter3d",
         "x": [
          -73.85055299809416
         ],
         "y": [
          -24.270007884571207
         ],
         "z": [
          22.00209227115524
         ]
        },
        {
         "hovertemplate": "index=H246<br>PC0=%{x}<br>PC1=%{y}<br>PC2=%{z}<extra></extra>",
         "legendgroup": "H246",
         "marker": {
          "color": "#ab63fa",
          "symbol": "circle"
         },
         "mode": "markers",
         "name": "H246",
         "scene": "scene",
         "showlegend": true,
         "type": "scatter3d",
         "x": [
          130.91506266296142
         ],
         "y": [
          -32.70716152159685
         ],
         "z": [
          120.5751263955257
         ]
        },
        {
         "hovertemplate": "index=H247<br>PC0=%{x}<br>PC1=%{y}<br>PC2=%{z}<extra></extra>",
         "legendgroup": "H247",
         "marker": {
          "color": "#FFA15A",
          "symbol": "circle"
         },
         "mode": "markers",
         "name": "H247",
         "scene": "scene",
         "showlegend": true,
         "type": "scatter3d",
         "x": [
          43.41008104575376
         ],
         "y": [
          84.66316710968276
         ],
         "z": [
          -1.1423453967544492
         ]
        },
        {
         "hovertemplate": "index=H248<br>PC0=%{x}<br>PC1=%{y}<br>PC2=%{z}<extra></extra>",
         "legendgroup": "H248",
         "marker": {
          "color": "#19d3f3",
          "symbol": "circle"
         },
         "mode": "markers",
         "name": "H248",
         "scene": "scene",
         "showlegend": true,
         "type": "scatter3d",
         "x": [
          19.937520694148848
         ],
         "y": [
          99.8898492271111
         ],
         "z": [
          -0.8118147288996707
         ]
        },
        {
         "hovertemplate": "index=H249<br>PC0=%{x}<br>PC1=%{y}<br>PC2=%{z}<extra></extra>",
         "legendgroup": "H249",
         "marker": {
          "color": "#FF6692",
          "symbol": "circle"
         },
         "mode": "markers",
         "name": "H249",
         "scene": "scene",
         "showlegend": true,
         "type": "scatter3d",
         "x": [
          37.37725846401408
         ],
         "y": [
          109.19163315057715
         ],
         "z": [
          24.877364327622658
         ]
        },
        {
         "hovertemplate": "index=H250<br>PC0=%{x}<br>PC1=%{y}<br>PC2=%{z}<extra></extra>",
         "legendgroup": "H250",
         "marker": {
          "color": "#B6E880",
          "symbol": "circle"
         },
         "mode": "markers",
         "name": "H250",
         "scene": "scene",
         "showlegend": true,
         "type": "scatter3d",
         "x": [
          155.75316841499932
         ],
         "y": [
          -87.09754634090915
         ],
         "z": [
          -8.747011881443377
         ]
        },
        {
         "hovertemplate": "index=H251<br>PC0=%{x}<br>PC1=%{y}<br>PC2=%{z}<extra></extra>",
         "legendgroup": "H251",
         "marker": {
          "color": "#FF97FF",
          "symbol": "circle"
         },
         "mode": "markers",
         "name": "H251",
         "scene": "scene",
         "showlegend": true,
         "type": "scatter3d",
         "x": [
          -67.38816652138298
         ],
         "y": [
          -16.990835745518396
         ],
         "z": [
          -39.86049278478445
         ]
        },
        {
         "hovertemplate": "index=H252<br>PC0=%{x}<br>PC1=%{y}<br>PC2=%{z}<extra></extra>",
         "legendgroup": "H252",
         "marker": {
          "color": "#FECB52",
          "symbol": "circle"
         },
         "mode": "markers",
         "name": "H252",
         "scene": "scene",
         "showlegend": true,
         "type": "scatter3d",
         "x": [
          -67.22739271671696
         ],
         "y": [
          -1.3049222204768494
         ],
         "z": [
          -45.89671526822834
         ]
        },
        {
         "hovertemplate": "index=H253<br>PC0=%{x}<br>PC1=%{y}<br>PC2=%{z}<extra></extra>",
         "legendgroup": "H253",
         "marker": {
          "color": "#636efa",
          "symbol": "circle"
         },
         "mode": "markers",
         "name": "H253",
         "scene": "scene",
         "showlegend": true,
         "type": "scatter3d",
         "x": [
          -66.73434622903294
         ],
         "y": [
          -3.074469815937599
         ],
         "z": [
          -37.33684852942349
         ]
        },
        {
         "hovertemplate": "index=H254<br>PC0=%{x}<br>PC1=%{y}<br>PC2=%{z}<extra></extra>",
         "legendgroup": "H254",
         "marker": {
          "color": "#EF553B",
          "symbol": "circle"
         },
         "mode": "markers",
         "name": "H254",
         "scene": "scene",
         "showlegend": true,
         "type": "scatter3d",
         "x": [
          53.95043468752198
         ],
         "y": [
          -69.50884968693829
         ],
         "z": [
          59.61659397492125
         ]
        },
        {
         "hovertemplate": "index=H255<br>PC0=%{x}<br>PC1=%{y}<br>PC2=%{z}<extra></extra>",
         "legendgroup": "H255",
         "marker": {
          "color": "#00cc96",
          "symbol": "circle"
         },
         "mode": "markers",
         "name": "H255",
         "scene": "scene",
         "showlegend": true,
         "type": "scatter3d",
         "x": [
          -41.16350031504273
         ],
         "y": [
          -12.890430935850333
         ],
         "z": [
          -11.543088333522702
         ]
        },
        {
         "hovertemplate": "index=H256<br>PC0=%{x}<br>PC1=%{y}<br>PC2=%{z}<extra></extra>",
         "legendgroup": "H256",
         "marker": {
          "color": "#ab63fa",
          "symbol": "circle"
         },
         "mode": "markers",
         "name": "H256",
         "scene": "scene",
         "showlegend": true,
         "type": "scatter3d",
         "x": [
          -75.46507451276496
         ],
         "y": [
          -0.23933093594726418
         ],
         "z": [
          -23.519565224484555
         ]
        },
        {
         "hovertemplate": "index=H257<br>PC0=%{x}<br>PC1=%{y}<br>PC2=%{z}<extra></extra>",
         "legendgroup": "H257",
         "marker": {
          "color": "#FFA15A",
          "symbol": "circle"
         },
         "mode": "markers",
         "name": "H257",
         "scene": "scene",
         "showlegend": true,
         "type": "scatter3d",
         "x": [
          -73.4196888459436
         ],
         "y": [
          -18.0727271026828
         ],
         "z": [
          -19.917609081626683
         ]
        },
        {
         "hovertemplate": "index=H258<br>PC0=%{x}<br>PC1=%{y}<br>PC2=%{z}<extra></extra>",
         "legendgroup": "H258",
         "marker": {
          "color": "#19d3f3",
          "symbol": "circle"
         },
         "mode": "markers",
         "name": "H258",
         "scene": "scene",
         "showlegend": true,
         "type": "scatter3d",
         "x": [
          246.62497910531152
         ],
         "y": [
          -64.9304676627772
         ],
         "z": [
          29.846329856132655
         ]
        },
        {
         "hovertemplate": "index=H259<br>PC0=%{x}<br>PC1=%{y}<br>PC2=%{z}<extra></extra>",
         "legendgroup": "H259",
         "marker": {
          "color": "#FF6692",
          "symbol": "circle"
         },
         "mode": "markers",
         "name": "H259",
         "scene": "scene",
         "showlegend": true,
         "type": "scatter3d",
         "x": [
          61.02631847347798
         ],
         "y": [
          104.09850314462747
         ],
         "z": [
          -38.16173722957356
         ]
        },
        {
         "hovertemplate": "index=H260<br>PC0=%{x}<br>PC1=%{y}<br>PC2=%{z}<extra></extra>",
         "legendgroup": "H260",
         "marker": {
          "color": "#B6E880",
          "symbol": "circle"
         },
         "mode": "markers",
         "name": "H260",
         "scene": "scene",
         "showlegend": true,
         "type": "scatter3d",
         "x": [
          20.630610648516058
         ],
         "y": [
          112.9542101031332
         ],
         "z": [
          17.189408927560176
         ]
        },
        {
         "hovertemplate": "index=H261<br>PC0=%{x}<br>PC1=%{y}<br>PC2=%{z}<extra></extra>",
         "legendgroup": "H261",
         "marker": {
          "color": "#FF97FF",
          "symbol": "circle"
         },
         "mode": "markers",
         "name": "H261",
         "scene": "scene",
         "showlegend": true,
         "type": "scatter3d",
         "x": [
          59.92107123488511
         ],
         "y": [
          138.91277225174017
         ],
         "z": [
          4.3022863855529305
         ]
        },
        {
         "hovertemplate": "index=H262<br>PC0=%{x}<br>PC1=%{y}<br>PC2=%{z}<extra></extra>",
         "legendgroup": "H262",
         "marker": {
          "color": "#FECB52",
          "symbol": "circle"
         },
         "mode": "markers",
         "name": "H262",
         "scene": "scene",
         "showlegend": true,
         "type": "scatter3d",
         "x": [
          200.91122235913724
         ],
         "y": [
          -47.267837340662844
         ],
         "z": [
          -92.37333955655112
         ]
        },
        {
         "hovertemplate": "index=H263<br>PC0=%{x}<br>PC1=%{y}<br>PC2=%{z}<extra></extra>",
         "legendgroup": "H263",
         "marker": {
          "color": "#636efa",
          "symbol": "circle"
         },
         "mode": "markers",
         "name": "H263",
         "scene": "scene",
         "showlegend": true,
         "type": "scatter3d",
         "x": [
          -83.80050554613719
         ],
         "y": [
          -23.962041822286324
         ],
         "z": [
          8.825799787201015
         ]
        },
        {
         "hovertemplate": "index=H264<br>PC0=%{x}<br>PC1=%{y}<br>PC2=%{z}<extra></extra>",
         "legendgroup": "H264",
         "marker": {
          "color": "#EF553B",
          "symbol": "circle"
         },
         "mode": "markers",
         "name": "H264",
         "scene": "scene",
         "showlegend": true,
         "type": "scatter3d",
         "x": [
          -76.59615273429053
         ],
         "y": [
          -1.6384035467906852
         ],
         "z": [
          9.608323508456458
         ]
        },
        {
         "hovertemplate": "index=H265<br>PC0=%{x}<br>PC1=%{y}<br>PC2=%{z}<extra></extra>",
         "legendgroup": "H265",
         "marker": {
          "color": "#00cc96",
          "symbol": "circle"
         },
         "mode": "markers",
         "name": "H265",
         "scene": "scene",
         "showlegend": true,
         "type": "scatter3d",
         "x": [
          -77.01876617666035
         ],
         "y": [
          -11.398276534299542
         ],
         "z": [
          11.009521148894082
         ]
        },
        {
         "hovertemplate": "index=H266<br>PC0=%{x}<br>PC1=%{y}<br>PC2=%{z}<extra></extra>",
         "legendgroup": "H266",
         "marker": {
          "color": "#ab63fa",
          "symbol": "circle"
         },
         "mode": "markers",
         "name": "H266",
         "scene": "scene",
         "showlegend": true,
         "type": "scatter3d",
         "x": [
          176.15797011434285
         ],
         "y": [
          -24.68858564767737
         ],
         "z": [
          -40.08499292598671
         ]
        },
        {
         "hovertemplate": "index=H267<br>PC0=%{x}<br>PC1=%{y}<br>PC2=%{z}<extra></extra>",
         "legendgroup": "H267",
         "marker": {
          "color": "#FFA15A",
          "symbol": "circle"
         },
         "mode": "markers",
         "name": "H267",
         "scene": "scene",
         "showlegend": true,
         "type": "scatter3d",
         "x": [
          -63.71790505984008
         ],
         "y": [
          -11.729989895128858
         ],
         "z": [
          -13.210091719201044
         ]
        },
        {
         "hovertemplate": "index=H268<br>PC0=%{x}<br>PC1=%{y}<br>PC2=%{z}<extra></extra>",
         "legendgroup": "H268",
         "marker": {
          "color": "#19d3f3",
          "symbol": "circle"
         },
         "mode": "markers",
         "name": "H268",
         "scene": "scene",
         "showlegend": true,
         "type": "scatter3d",
         "x": [
          -104.47387249182107
         ],
         "y": [
          -13.337888311828577
         ],
         "z": [
          16.856068201600984
         ]
        },
        {
         "hovertemplate": "index=H269<br>PC0=%{x}<br>PC1=%{y}<br>PC2=%{z}<extra></extra>",
         "legendgroup": "H269",
         "marker": {
          "color": "#FF6692",
          "symbol": "circle"
         },
         "mode": "markers",
         "name": "H269",
         "scene": "scene",
         "showlegend": true,
         "type": "scatter3d",
         "x": [
          -89.32404761905984
         ],
         "y": [
          -17.048897189487125
         ],
         "z": [
          1.8912435401261645
         ]
        },
        {
         "hovertemplate": "index=H270<br>PC0=%{x}<br>PC1=%{y}<br>PC2=%{z}<extra></extra>",
         "legendgroup": "H270",
         "marker": {
          "color": "#B6E880",
          "symbol": "circle"
         },
         "mode": "markers",
         "name": "H270",
         "scene": "scene",
         "showlegend": true,
         "type": "scatter3d",
         "x": [
          45.82364094196149
         ],
         "y": [
          -34.51849961047291
         ],
         "z": [
          67.31601757866567
         ]
        }
       ],
       "layout": {
        "legend": {
         "title": {
          "text": "index"
         },
         "tracegroupgap": 0
        },
        "margin": {
         "t": 60
        },
        "scene": {
         "domain": {
          "x": [
           0.0,
           1.0
          ],
          "y": [
           0.0,
           1.0
          ]
         },
         "xaxis": {
          "title": {
           "text": "PC0"
          }
         },
         "yaxis": {
          "title": {
           "text": "PC1"
          }
         },
         "zaxis": {
          "title": {
           "text": "PC2"
          }
         }
        },
        "template": {
         "data": {
          "bar": [
           {
            "error_x": {
             "color": "#f2f5fa"
            },
            "error_y": {
             "color": "#f2f5fa"
            },
            "marker": {
             "line": {
              "color": "rgb(17,17,17)",
              "width": 0.5
             },
             "pattern": {
              "fillmode": "overlay",
              "size": 10,
              "solidity": 0.2
             }
            },
            "type": "bar"
           }
          ],
          "barpolar": [
           {
            "marker": {
             "line": {
              "color": "rgb(17,17,17)",
              "width": 0.5
             },
             "pattern": {
              "fillmode": "overlay",
              "size": 10,
              "solidity": 0.2
             }
            },
            "type": "barpolar"
           }
          ],
          "carpet": [
           {
            "aaxis": {
             "endlinecolor": "#A2B1C6",
             "gridcolor": "#506784",
             "linecolor": "#506784",
             "minorgridcolor": "#506784",
             "startlinecolor": "#A2B1C6"
            },
            "baxis": {
             "endlinecolor": "#A2B1C6",
             "gridcolor": "#506784",
             "linecolor": "#506784",
             "minorgridcolor": "#506784",
             "startlinecolor": "#A2B1C6"
            },
            "type": "carpet"
           }
          ],
          "choropleth": [
           {
            "colorbar": {
             "outlinewidth": 0,
             "ticks": ""
            },
            "type": "choropleth"
           }
          ],
          "contour": [
           {
            "colorbar": {
             "outlinewidth": 0,
             "ticks": ""
            },
            "colorscale": [
             [
              0.0,
              "#0d0887"
             ],
             [
              0.1111111111111111,
              "#46039f"
             ],
             [
              0.2222222222222222,
              "#7201a8"
             ],
             [
              0.3333333333333333,
              "#9c179e"
             ],
             [
              0.4444444444444444,
              "#bd3786"
             ],
             [
              0.5555555555555556,
              "#d8576b"
             ],
             [
              0.6666666666666666,
              "#ed7953"
             ],
             [
              0.7777777777777778,
              "#fb9f3a"
             ],
             [
              0.8888888888888888,
              "#fdca26"
             ],
             [
              1.0,
              "#f0f921"
             ]
            ],
            "type": "contour"
           }
          ],
          "contourcarpet": [
           {
            "colorbar": {
             "outlinewidth": 0,
             "ticks": ""
            },
            "type": "contourcarpet"
           }
          ],
          "heatmap": [
           {
            "colorbar": {
             "outlinewidth": 0,
             "ticks": ""
            },
            "colorscale": [
             [
              0.0,
              "#0d0887"
             ],
             [
              0.1111111111111111,
              "#46039f"
             ],
             [
              0.2222222222222222,
              "#7201a8"
             ],
             [
              0.3333333333333333,
              "#9c179e"
             ],
             [
              0.4444444444444444,
              "#bd3786"
             ],
             [
              0.5555555555555556,
              "#d8576b"
             ],
             [
              0.6666666666666666,
              "#ed7953"
             ],
             [
              0.7777777777777778,
              "#fb9f3a"
             ],
             [
              0.8888888888888888,
              "#fdca26"
             ],
             [
              1.0,
              "#f0f921"
             ]
            ],
            "type": "heatmap"
           }
          ],
          "heatmapgl": [
           {
            "colorbar": {
             "outlinewidth": 0,
             "ticks": ""
            },
            "colorscale": [
             [
              0.0,
              "#0d0887"
             ],
             [
              0.1111111111111111,
              "#46039f"
             ],
             [
              0.2222222222222222,
              "#7201a8"
             ],
             [
              0.3333333333333333,
              "#9c179e"
             ],
             [
              0.4444444444444444,
              "#bd3786"
             ],
             [
              0.5555555555555556,
              "#d8576b"
             ],
             [
              0.6666666666666666,
              "#ed7953"
             ],
             [
              0.7777777777777778,
              "#fb9f3a"
             ],
             [
              0.8888888888888888,
              "#fdca26"
             ],
             [
              1.0,
              "#f0f921"
             ]
            ],
            "type": "heatmapgl"
           }
          ],
          "histogram": [
           {
            "marker": {
             "pattern": {
              "fillmode": "overlay",
              "size": 10,
              "solidity": 0.2
             }
            },
            "type": "histogram"
           }
          ],
          "histogram2d": [
           {
            "colorbar": {
             "outlinewidth": 0,
             "ticks": ""
            },
            "colorscale": [
             [
              0.0,
              "#0d0887"
             ],
             [
              0.1111111111111111,
              "#46039f"
             ],
             [
              0.2222222222222222,
              "#7201a8"
             ],
             [
              0.3333333333333333,
              "#9c179e"
             ],
             [
              0.4444444444444444,
              "#bd3786"
             ],
             [
              0.5555555555555556,
              "#d8576b"
             ],
             [
              0.6666666666666666,
              "#ed7953"
             ],
             [
              0.7777777777777778,
              "#fb9f3a"
             ],
             [
              0.8888888888888888,
              "#fdca26"
             ],
             [
              1.0,
              "#f0f921"
             ]
            ],
            "type": "histogram2d"
           }
          ],
          "histogram2dcontour": [
           {
            "colorbar": {
             "outlinewidth": 0,
             "ticks": ""
            },
            "colorscale": [
             [
              0.0,
              "#0d0887"
             ],
             [
              0.1111111111111111,
              "#46039f"
             ],
             [
              0.2222222222222222,
              "#7201a8"
             ],
             [
              0.3333333333333333,
              "#9c179e"
             ],
             [
              0.4444444444444444,
              "#bd3786"
             ],
             [
              0.5555555555555556,
              "#d8576b"
             ],
             [
              0.6666666666666666,
              "#ed7953"
             ],
             [
              0.7777777777777778,
              "#fb9f3a"
             ],
             [
              0.8888888888888888,
              "#fdca26"
             ],
             [
              1.0,
              "#f0f921"
             ]
            ],
            "type": "histogram2dcontour"
           }
          ],
          "mesh3d": [
           {
            "colorbar": {
             "outlinewidth": 0,
             "ticks": ""
            },
            "type": "mesh3d"
           }
          ],
          "parcoords": [
           {
            "line": {
             "colorbar": {
              "outlinewidth": 0,
              "ticks": ""
             }
            },
            "type": "parcoords"
           }
          ],
          "pie": [
           {
            "automargin": true,
            "type": "pie"
           }
          ],
          "scatter": [
           {
            "marker": {
             "line": {
              "color": "#283442"
             }
            },
            "type": "scatter"
           }
          ],
          "scatter3d": [
           {
            "line": {
             "colorbar": {
              "outlinewidth": 0,
              "ticks": ""
             }
            },
            "marker": {
             "colorbar": {
              "outlinewidth": 0,
              "ticks": ""
             }
            },
            "type": "scatter3d"
           }
          ],
          "scattercarpet": [
           {
            "marker": {
             "colorbar": {
              "outlinewidth": 0,
              "ticks": ""
             }
            },
            "type": "scattercarpet"
           }
          ],
          "scattergeo": [
           {
            "marker": {
             "colorbar": {
              "outlinewidth": 0,
              "ticks": ""
             }
            },
            "type": "scattergeo"
           }
          ],
          "scattergl": [
           {
            "marker": {
             "line": {
              "color": "#283442"
             }
            },
            "type": "scattergl"
           }
          ],
          "scattermapbox": [
           {
            "marker": {
             "colorbar": {
              "outlinewidth": 0,
              "ticks": ""
             }
            },
            "type": "scattermapbox"
           }
          ],
          "scatterpolar": [
           {
            "marker": {
             "colorbar": {
              "outlinewidth": 0,
              "ticks": ""
             }
            },
            "type": "scatterpolar"
           }
          ],
          "scatterpolargl": [
           {
            "marker": {
             "colorbar": {
              "outlinewidth": 0,
              "ticks": ""
             }
            },
            "type": "scatterpolargl"
           }
          ],
          "scatterternary": [
           {
            "marker": {
             "colorbar": {
              "outlinewidth": 0,
              "ticks": ""
             }
            },
            "type": "scatterternary"
           }
          ],
          "surface": [
           {
            "colorbar": {
             "outlinewidth": 0,
             "ticks": ""
            },
            "colorscale": [
             [
              0.0,
              "#0d0887"
             ],
             [
              0.1111111111111111,
              "#46039f"
             ],
             [
              0.2222222222222222,
              "#7201a8"
             ],
             [
              0.3333333333333333,
              "#9c179e"
             ],
             [
              0.4444444444444444,
              "#bd3786"
             ],
             [
              0.5555555555555556,
              "#d8576b"
             ],
             [
              0.6666666666666666,
              "#ed7953"
             ],
             [
              0.7777777777777778,
              "#fb9f3a"
             ],
             [
              0.8888888888888888,
              "#fdca26"
             ],
             [
              1.0,
              "#f0f921"
             ]
            ],
            "type": "surface"
           }
          ],
          "table": [
           {
            "cells": {
             "fill": {
              "color": "#506784"
             },
             "line": {
              "color": "rgb(17,17,17)"
             }
            },
            "header": {
             "fill": {
              "color": "#2a3f5f"
             },
             "line": {
              "color": "rgb(17,17,17)"
             }
            },
            "type": "table"
           }
          ]
         },
         "layout": {
          "annotationdefaults": {
           "arrowcolor": "#f2f5fa",
           "arrowhead": 0,
           "arrowwidth": 1
          },
          "autotypenumbers": "strict",
          "coloraxis": {
           "colorbar": {
            "outlinewidth": 0,
            "ticks": ""
           }
          },
          "colorscale": {
           "diverging": [
            [
             0,
             "#8e0152"
            ],
            [
             0.1,
             "#c51b7d"
            ],
            [
             0.2,
             "#de77ae"
            ],
            [
             0.3,
             "#f1b6da"
            ],
            [
             0.4,
             "#fde0ef"
            ],
            [
             0.5,
             "#f7f7f7"
            ],
            [
             0.6,
             "#e6f5d0"
            ],
            [
             0.7,
             "#b8e186"
            ],
            [
             0.8,
             "#7fbc41"
            ],
            [
             0.9,
             "#4d9221"
            ],
            [
             1,
             "#276419"
            ]
           ],
           "sequential": [
            [
             0.0,
             "#0d0887"
            ],
            [
             0.1111111111111111,
             "#46039f"
            ],
            [
             0.2222222222222222,
             "#7201a8"
            ],
            [
             0.3333333333333333,
             "#9c179e"
            ],
            [
             0.4444444444444444,
             "#bd3786"
            ],
            [
             0.5555555555555556,
             "#d8576b"
            ],
            [
             0.6666666666666666,
             "#ed7953"
            ],
            [
             0.7777777777777778,
             "#fb9f3a"
            ],
            [
             0.8888888888888888,
             "#fdca26"
            ],
            [
             1.0,
             "#f0f921"
            ]
           ],
           "sequentialminus": [
            [
             0.0,
             "#0d0887"
            ],
            [
             0.1111111111111111,
             "#46039f"
            ],
            [
             0.2222222222222222,
             "#7201a8"
            ],
            [
             0.3333333333333333,
             "#9c179e"
            ],
            [
             0.4444444444444444,
             "#bd3786"
            ],
            [
             0.5555555555555556,
             "#d8576b"
            ],
            [
             0.6666666666666666,
             "#ed7953"
            ],
            [
             0.7777777777777778,
             "#fb9f3a"
            ],
            [
             0.8888888888888888,
             "#fdca26"
            ],
            [
             1.0,
             "#f0f921"
            ]
           ]
          },
          "colorway": [
           "#636efa",
           "#EF553B",
           "#00cc96",
           "#ab63fa",
           "#FFA15A",
           "#19d3f3",
           "#FF6692",
           "#B6E880",
           "#FF97FF",
           "#FECB52"
          ],
          "font": {
           "color": "#f2f5fa"
          },
          "geo": {
           "bgcolor": "rgb(17,17,17)",
           "lakecolor": "rgb(17,17,17)",
           "landcolor": "rgb(17,17,17)",
           "showlakes": true,
           "showland": true,
           "subunitcolor": "#506784"
          },
          "hoverlabel": {
           "align": "left"
          },
          "hovermode": "closest",
          "mapbox": {
           "style": "dark"
          },
          "paper_bgcolor": "rgb(17,17,17)",
          "plot_bgcolor": "rgb(17,17,17)",
          "polar": {
           "angularaxis": {
            "gridcolor": "#506784",
            "linecolor": "#506784",
            "ticks": ""
           },
           "bgcolor": "rgb(17,17,17)",
           "radialaxis": {
            "gridcolor": "#506784",
            "linecolor": "#506784",
            "ticks": ""
           }
          },
          "scene": {
           "xaxis": {
            "backgroundcolor": "rgb(17,17,17)",
            "gridcolor": "#506784",
            "gridwidth": 2,
            "linecolor": "#506784",
            "showbackground": true,
            "ticks": "",
            "zerolinecolor": "#C8D4E3"
           },
           "yaxis": {
            "backgroundcolor": "rgb(17,17,17)",
            "gridcolor": "#506784",
            "gridwidth": 2,
            "linecolor": "#506784",
            "showbackground": true,
            "ticks": "",
            "zerolinecolor": "#C8D4E3"
           },
           "zaxis": {
            "backgroundcolor": "rgb(17,17,17)",
            "gridcolor": "#506784",
            "gridwidth": 2,
            "linecolor": "#506784",
            "showbackground": true,
            "ticks": "",
            "zerolinecolor": "#C8D4E3"
           }
          },
          "shapedefaults": {
           "line": {
            "color": "#f2f5fa"
           }
          },
          "sliderdefaults": {
           "bgcolor": "#C8D4E3",
           "bordercolor": "rgb(17,17,17)",
           "borderwidth": 1,
           "tickwidth": 0
          },
          "ternary": {
           "aaxis": {
            "gridcolor": "#506784",
            "linecolor": "#506784",
            "ticks": ""
           },
           "baxis": {
            "gridcolor": "#506784",
            "linecolor": "#506784",
            "ticks": ""
           },
           "bgcolor": "rgb(17,17,17)",
           "caxis": {
            "gridcolor": "#506784",
            "linecolor": "#506784",
            "ticks": ""
           }
          },
          "title": {
           "x": 0.05
          },
          "updatemenudefaults": {
           "bgcolor": "#506784",
           "borderwidth": 0
          },
          "xaxis": {
           "automargin": true,
           "gridcolor": "#283442",
           "linecolor": "#506784",
           "ticks": "",
           "title": {
            "standoff": 15
           },
           "zerolinecolor": "#283442",
           "zerolinewidth": 2
          },
          "yaxis": {
           "automargin": true,
           "gridcolor": "#283442",
           "linecolor": "#506784",
           "ticks": "",
           "title": {
            "standoff": 15
           },
           "zerolinecolor": "#283442",
           "zerolinewidth": 2
          }
         }
        }
       }
      },
      "text/html": "<div>                            <div id=\"96490f72-e86c-44f8-a3f0-3f2deeec6dd3\" class=\"plotly-graph-div\" style=\"height:525px; width:100%;\"></div>            <script type=\"text/javascript\">                require([\"plotly\"], function(Plotly) {                    window.PLOTLYENV=window.PLOTLYENV || {};                                    if (document.getElementById(\"96490f72-e86c-44f8-a3f0-3f2deeec6dd3\")) {                    Plotly.newPlot(                        \"96490f72-e86c-44f8-a3f0-3f2deeec6dd3\",                        [{\"hovertemplate\":\"index=H223<br>PC0=%{x}<br>PC1=%{y}<br>PC2=%{z}<extra></extra>\",\"legendgroup\":\"H223\",\"marker\":{\"color\":\"#636efa\",\"symbol\":\"circle\"},\"mode\":\"markers\",\"name\":\"H223\",\"scene\":\"scene\",\"showlegend\":true,\"type\":\"scatter3d\",\"x\":[68.19539611117283],\"y\":[86.75149875908565],\"z\":[-70.66889064307226]},{\"hovertemplate\":\"index=H224<br>PC0=%{x}<br>PC1=%{y}<br>PC2=%{z}<extra></extra>\",\"legendgroup\":\"H224\",\"marker\":{\"color\":\"#EF553B\",\"symbol\":\"circle\"},\"mode\":\"markers\",\"name\":\"H224\",\"scene\":\"scene\",\"showlegend\":true,\"type\":\"scatter3d\",\"x\":[43.35941231397529],\"y\":[106.81572534687312],\"z\":[-43.17018266156179]},{\"hovertemplate\":\"index=H225<br>PC0=%{x}<br>PC1=%{y}<br>PC2=%{z}<extra></extra>\",\"legendgroup\":\"H225\",\"marker\":{\"color\":\"#00cc96\",\"symbol\":\"circle\"},\"mode\":\"markers\",\"name\":\"H225\",\"scene\":\"scene\",\"showlegend\":true,\"type\":\"scatter3d\",\"x\":[27.17906694804048],\"y\":[82.83510853274822],\"z\":[-9.129869266081876]},{\"hovertemplate\":\"index=H226<br>PC0=%{x}<br>PC1=%{y}<br>PC2=%{z}<extra></extra>\",\"legendgroup\":\"H226\",\"marker\":{\"color\":\"#ab63fa\",\"symbol\":\"circle\"},\"mode\":\"markers\",\"name\":\"H226\",\"scene\":\"scene\",\"showlegend\":true,\"type\":\"scatter3d\",\"x\":[141.70148008576683],\"y\":[-64.25547015590763],\"z\":[-85.33176902145435]},{\"hovertemplate\":\"index=H227<br>PC0=%{x}<br>PC1=%{y}<br>PC2=%{z}<extra></extra>\",\"legendgroup\":\"H227\",\"marker\":{\"color\":\"#FFA15A\",\"symbol\":\"circle\"},\"mode\":\"markers\",\"name\":\"H227\",\"scene\":\"scene\",\"showlegend\":true,\"type\":\"scatter3d\",\"x\":[-92.45978907856335],\"y\":[-38.536572130245986],\"z\":[-42.26740505320525]},{\"hovertemplate\":\"index=H228<br>PC0=%{x}<br>PC1=%{y}<br>PC2=%{z}<extra></extra>\",\"legendgroup\":\"H228\",\"marker\":{\"color\":\"#19d3f3\",\"symbol\":\"circle\"},\"mode\":\"markers\",\"name\":\"H228\",\"scene\":\"scene\",\"showlegend\":true,\"type\":\"scatter3d\",\"x\":[-96.23466481002532],\"y\":[-29.81293429224097],\"z\":[-52.738250661374444]},{\"hovertemplate\":\"index=H229<br>PC0=%{x}<br>PC1=%{y}<br>PC2=%{z}<extra></extra>\",\"legendgroup\":\"H229\",\"marker\":{\"color\":\"#FF6692\",\"symbol\":\"circle\"},\"mode\":\"markers\",\"name\":\"H229\",\"scene\":\"scene\",\"showlegend\":true,\"type\":\"scatter3d\",\"x\":[-94.29535792705151],\"y\":[-35.09120699986395],\"z\":[-50.72837583534797]},{\"hovertemplate\":\"index=H230<br>PC0=%{x}<br>PC1=%{y}<br>PC2=%{z}<extra></extra>\",\"legendgroup\":\"H230\",\"marker\":{\"color\":\"#B6E880\",\"symbol\":\"circle\"},\"mode\":\"markers\",\"name\":\"H230\",\"scene\":\"scene\",\"showlegend\":true,\"type\":\"scatter3d\",\"x\":[94.81782958308675],\"y\":[-59.114650691258255],\"z\":[-36.109495991765826]},{\"hovertemplate\":\"index=H231<br>PC0=%{x}<br>PC1=%{y}<br>PC2=%{z}<extra></extra>\",\"legendgroup\":\"H231\",\"marker\":{\"color\":\"#FF97FF\",\"symbol\":\"circle\"},\"mode\":\"markers\",\"name\":\"H231\",\"scene\":\"scene\",\"showlegend\":true,\"type\":\"scatter3d\",\"x\":[-71.44503397656875],\"y\":[-32.19966942165175],\"z\":[-23.082266238040802]},{\"hovertemplate\":\"index=H232<br>PC0=%{x}<br>PC1=%{y}<br>PC2=%{z}<extra></extra>\",\"legendgroup\":\"H232\",\"marker\":{\"color\":\"#FECB52\",\"symbol\":\"circle\"},\"mode\":\"markers\",\"name\":\"H232\",\"scene\":\"scene\",\"showlegend\":true,\"type\":\"scatter3d\",\"x\":[-110.40315882674008],\"y\":[-31.400601330260884],\"z\":[-6.74281020364594]},{\"hovertemplate\":\"index=H233<br>PC0=%{x}<br>PC1=%{y}<br>PC2=%{z}<extra></extra>\",\"legendgroup\":\"H233\",\"marker\":{\"color\":\"#636efa\",\"symbol\":\"circle\"},\"mode\":\"markers\",\"name\":\"H233\",\"scene\":\"scene\",\"showlegend\":true,\"type\":\"scatter3d\",\"x\":[-103.45534421252721],\"y\":[-40.51987307316592],\"z\":[-12.838563669062411]},{\"hovertemplate\":\"index=H234<br>PC0=%{x}<br>PC1=%{y}<br>PC2=%{z}<extra></extra>\",\"legendgroup\":\"H234\",\"marker\":{\"color\":\"#EF553B\",\"symbol\":\"circle\"},\"mode\":\"markers\",\"name\":\"H234\",\"scene\":\"scene\",\"showlegend\":true,\"type\":\"scatter3d\",\"x\":[167.98700576757574],\"y\":[-27.407827211235592],\"z\":[-19.54327887567882]},{\"hovertemplate\":\"index=H235<br>PC0=%{x}<br>PC1=%{y}<br>PC2=%{z}<extra></extra>\",\"legendgroup\":\"H235\",\"marker\":{\"color\":\"#00cc96\",\"symbol\":\"circle\"},\"mode\":\"markers\",\"name\":\"H235\",\"scene\":\"scene\",\"showlegend\":true,\"type\":\"scatter3d\",\"x\":[5.461771162290015],\"y\":[43.255769279535535],\"z\":[63.248823785304566]},{\"hovertemplate\":\"index=H236<br>PC0=%{x}<br>PC1=%{y}<br>PC2=%{z}<extra></extra>\",\"legendgroup\":\"H236\",\"marker\":{\"color\":\"#ab63fa\",\"symbol\":\"circle\"},\"mode\":\"markers\",\"name\":\"H236\",\"scene\":\"scene\",\"showlegend\":true,\"type\":\"scatter3d\",\"x\":[8.558119925681165],\"y\":[71.55278661401424],\"z\":[69.22117095138887]},{\"hovertemplate\":\"index=H237<br>PC0=%{x}<br>PC1=%{y}<br>PC2=%{z}<extra></extra>\",\"legendgroup\":\"H237\",\"marker\":{\"color\":\"#FFA15A\",\"symbol\":\"circle\"},\"mode\":\"markers\",\"name\":\"H237\",\"scene\":\"scene\",\"showlegend\":true,\"type\":\"scatter3d\",\"x\":[-23.410706556400786],\"y\":[44.66261976072542],\"z\":[53.52871562545494]},{\"hovertemplate\":\"index=H238<br>PC0=%{x}<br>PC1=%{y}<br>PC2=%{z}<extra></extra>\",\"legendgroup\":\"H238\",\"marker\":{\"color\":\"#19d3f3\",\"symbol\":\"circle\"},\"mode\":\"markers\",\"name\":\"H238\",\"scene\":\"scene\",\"showlegend\":true,\"type\":\"scatter3d\",\"x\":[79.00763137625398],\"y\":[-57.036773249106346],\"z\":[38.37352453386119]},{\"hovertemplate\":\"index=H239<br>PC0=%{x}<br>PC1=%{y}<br>PC2=%{z}<extra></extra>\",\"legendgroup\":\"H239\",\"marker\":{\"color\":\"#FF6692\",\"symbol\":\"circle\"},\"mode\":\"markers\",\"name\":\"H239\",\"scene\":\"scene\",\"showlegend\":true,\"type\":\"scatter3d\",\"x\":[-91.15329126015936],\"y\":[-29.50735187077869],\"z\":[26.01340207028658]},{\"hovertemplate\":\"index=H240<br>PC0=%{x}<br>PC1=%{y}<br>PC2=%{z}<extra></extra>\",\"legendgroup\":\"H240\",\"marker\":{\"color\":\"#B6E880\",\"symbol\":\"circle\"},\"mode\":\"markers\",\"name\":\"H240\",\"scene\":\"scene\",\"showlegend\":true,\"type\":\"scatter3d\",\"x\":[-95.1465932266564],\"y\":[-17.579014587009638],\"z\":[22.41432840792136]},{\"hovertemplate\":\"index=H241<br>PC0=%{x}<br>PC1=%{y}<br>PC2=%{z}<extra></extra>\",\"legendgroup\":\"H241\",\"marker\":{\"color\":\"#FF97FF\",\"symbol\":\"circle\"},\"mode\":\"markers\",\"name\":\"H241\",\"scene\":\"scene\",\"showlegend\":true,\"type\":\"scatter3d\",\"x\":[-103.4454276067811],\"y\":[-28.106673012315714],\"z\":[34.88010766229022]},{\"hovertemplate\":\"index=H242<br>PC0=%{x}<br>PC1=%{y}<br>PC2=%{z}<extra></extra>\",\"legendgroup\":\"H242\",\"marker\":{\"color\":\"#FECB52\",\"symbol\":\"circle\"},\"mode\":\"markers\",\"name\":\"H242\",\"scene\":\"scene\",\"showlegend\":true,\"type\":\"scatter3d\",\"x\":[98.46022824328647],\"y\":[-39.46522995918265],\"z\":[81.86405020330245]},{\"hovertemplate\":\"index=H243<br>PC0=%{x}<br>PC1=%{y}<br>PC2=%{z}<extra></extra>\",\"legendgroup\":\"H243\",\"marker\":{\"color\":\"#636efa\",\"symbol\":\"circle\"},\"mode\":\"markers\",\"name\":\"H243\",\"scene\":\"scene\",\"showlegend\":true,\"type\":\"scatter3d\",\"x\":[-64.52276448798098],\"y\":[-31.051723882018482],\"z\":[23.957192055732378]},{\"hovertemplate\":\"index=H244<br>PC0=%{x}<br>PC1=%{y}<br>PC2=%{z}<extra></extra>\",\"legendgroup\":\"H244\",\"marker\":{\"color\":\"#EF553B\",\"symbol\":\"circle\"},\"mode\":\"markers\",\"name\":\"H244\",\"scene\":\"scene\",\"showlegend\":true,\"type\":\"scatter3d\",\"x\":[-81.01517662793748],\"y\":[-7.820901661763367],\"z\":[17.539319581822003]},{\"hovertemplate\":\"index=H245<br>PC0=%{x}<br>PC1=%{y}<br>PC2=%{z}<extra></extra>\",\"legendgroup\":\"H245\",\"marker\":{\"color\":\"#00cc96\",\"symbol\":\"circle\"},\"mode\":\"markers\",\"name\":\"H245\",\"scene\":\"scene\",\"showlegend\":true,\"type\":\"scatter3d\",\"x\":[-73.85055299809416],\"y\":[-24.270007884571207],\"z\":[22.00209227115524]},{\"hovertemplate\":\"index=H246<br>PC0=%{x}<br>PC1=%{y}<br>PC2=%{z}<extra></extra>\",\"legendgroup\":\"H246\",\"marker\":{\"color\":\"#ab63fa\",\"symbol\":\"circle\"},\"mode\":\"markers\",\"name\":\"H246\",\"scene\":\"scene\",\"showlegend\":true,\"type\":\"scatter3d\",\"x\":[130.91506266296142],\"y\":[-32.70716152159685],\"z\":[120.5751263955257]},{\"hovertemplate\":\"index=H247<br>PC0=%{x}<br>PC1=%{y}<br>PC2=%{z}<extra></extra>\",\"legendgroup\":\"H247\",\"marker\":{\"color\":\"#FFA15A\",\"symbol\":\"circle\"},\"mode\":\"markers\",\"name\":\"H247\",\"scene\":\"scene\",\"showlegend\":true,\"type\":\"scatter3d\",\"x\":[43.41008104575376],\"y\":[84.66316710968276],\"z\":[-1.1423453967544492]},{\"hovertemplate\":\"index=H248<br>PC0=%{x}<br>PC1=%{y}<br>PC2=%{z}<extra></extra>\",\"legendgroup\":\"H248\",\"marker\":{\"color\":\"#19d3f3\",\"symbol\":\"circle\"},\"mode\":\"markers\",\"name\":\"H248\",\"scene\":\"scene\",\"showlegend\":true,\"type\":\"scatter3d\",\"x\":[19.937520694148848],\"y\":[99.8898492271111],\"z\":[-0.8118147288996707]},{\"hovertemplate\":\"index=H249<br>PC0=%{x}<br>PC1=%{y}<br>PC2=%{z}<extra></extra>\",\"legendgroup\":\"H249\",\"marker\":{\"color\":\"#FF6692\",\"symbol\":\"circle\"},\"mode\":\"markers\",\"name\":\"H249\",\"scene\":\"scene\",\"showlegend\":true,\"type\":\"scatter3d\",\"x\":[37.37725846401408],\"y\":[109.19163315057715],\"z\":[24.877364327622658]},{\"hovertemplate\":\"index=H250<br>PC0=%{x}<br>PC1=%{y}<br>PC2=%{z}<extra></extra>\",\"legendgroup\":\"H250\",\"marker\":{\"color\":\"#B6E880\",\"symbol\":\"circle\"},\"mode\":\"markers\",\"name\":\"H250\",\"scene\":\"scene\",\"showlegend\":true,\"type\":\"scatter3d\",\"x\":[155.75316841499932],\"y\":[-87.09754634090915],\"z\":[-8.747011881443377]},{\"hovertemplate\":\"index=H251<br>PC0=%{x}<br>PC1=%{y}<br>PC2=%{z}<extra></extra>\",\"legendgroup\":\"H251\",\"marker\":{\"color\":\"#FF97FF\",\"symbol\":\"circle\"},\"mode\":\"markers\",\"name\":\"H251\",\"scene\":\"scene\",\"showlegend\":true,\"type\":\"scatter3d\",\"x\":[-67.38816652138298],\"y\":[-16.990835745518396],\"z\":[-39.86049278478445]},{\"hovertemplate\":\"index=H252<br>PC0=%{x}<br>PC1=%{y}<br>PC2=%{z}<extra></extra>\",\"legendgroup\":\"H252\",\"marker\":{\"color\":\"#FECB52\",\"symbol\":\"circle\"},\"mode\":\"markers\",\"name\":\"H252\",\"scene\":\"scene\",\"showlegend\":true,\"type\":\"scatter3d\",\"x\":[-67.22739271671696],\"y\":[-1.3049222204768494],\"z\":[-45.89671526822834]},{\"hovertemplate\":\"index=H253<br>PC0=%{x}<br>PC1=%{y}<br>PC2=%{z}<extra></extra>\",\"legendgroup\":\"H253\",\"marker\":{\"color\":\"#636efa\",\"symbol\":\"circle\"},\"mode\":\"markers\",\"name\":\"H253\",\"scene\":\"scene\",\"showlegend\":true,\"type\":\"scatter3d\",\"x\":[-66.73434622903294],\"y\":[-3.074469815937599],\"z\":[-37.33684852942349]},{\"hovertemplate\":\"index=H254<br>PC0=%{x}<br>PC1=%{y}<br>PC2=%{z}<extra></extra>\",\"legendgroup\":\"H254\",\"marker\":{\"color\":\"#EF553B\",\"symbol\":\"circle\"},\"mode\":\"markers\",\"name\":\"H254\",\"scene\":\"scene\",\"showlegend\":true,\"type\":\"scatter3d\",\"x\":[53.95043468752198],\"y\":[-69.50884968693829],\"z\":[59.61659397492125]},{\"hovertemplate\":\"index=H255<br>PC0=%{x}<br>PC1=%{y}<br>PC2=%{z}<extra></extra>\",\"legendgroup\":\"H255\",\"marker\":{\"color\":\"#00cc96\",\"symbol\":\"circle\"},\"mode\":\"markers\",\"name\":\"H255\",\"scene\":\"scene\",\"showlegend\":true,\"type\":\"scatter3d\",\"x\":[-41.16350031504273],\"y\":[-12.890430935850333],\"z\":[-11.543088333522702]},{\"hovertemplate\":\"index=H256<br>PC0=%{x}<br>PC1=%{y}<br>PC2=%{z}<extra></extra>\",\"legendgroup\":\"H256\",\"marker\":{\"color\":\"#ab63fa\",\"symbol\":\"circle\"},\"mode\":\"markers\",\"name\":\"H256\",\"scene\":\"scene\",\"showlegend\":true,\"type\":\"scatter3d\",\"x\":[-75.46507451276496],\"y\":[-0.23933093594726418],\"z\":[-23.519565224484555]},{\"hovertemplate\":\"index=H257<br>PC0=%{x}<br>PC1=%{y}<br>PC2=%{z}<extra></extra>\",\"legendgroup\":\"H257\",\"marker\":{\"color\":\"#FFA15A\",\"symbol\":\"circle\"},\"mode\":\"markers\",\"name\":\"H257\",\"scene\":\"scene\",\"showlegend\":true,\"type\":\"scatter3d\",\"x\":[-73.4196888459436],\"y\":[-18.0727271026828],\"z\":[-19.917609081626683]},{\"hovertemplate\":\"index=H258<br>PC0=%{x}<br>PC1=%{y}<br>PC2=%{z}<extra></extra>\",\"legendgroup\":\"H258\",\"marker\":{\"color\":\"#19d3f3\",\"symbol\":\"circle\"},\"mode\":\"markers\",\"name\":\"H258\",\"scene\":\"scene\",\"showlegend\":true,\"type\":\"scatter3d\",\"x\":[246.62497910531152],\"y\":[-64.9304676627772],\"z\":[29.846329856132655]},{\"hovertemplate\":\"index=H259<br>PC0=%{x}<br>PC1=%{y}<br>PC2=%{z}<extra></extra>\",\"legendgroup\":\"H259\",\"marker\":{\"color\":\"#FF6692\",\"symbol\":\"circle\"},\"mode\":\"markers\",\"name\":\"H259\",\"scene\":\"scene\",\"showlegend\":true,\"type\":\"scatter3d\",\"x\":[61.02631847347798],\"y\":[104.09850314462747],\"z\":[-38.16173722957356]},{\"hovertemplate\":\"index=H260<br>PC0=%{x}<br>PC1=%{y}<br>PC2=%{z}<extra></extra>\",\"legendgroup\":\"H260\",\"marker\":{\"color\":\"#B6E880\",\"symbol\":\"circle\"},\"mode\":\"markers\",\"name\":\"H260\",\"scene\":\"scene\",\"showlegend\":true,\"type\":\"scatter3d\",\"x\":[20.630610648516058],\"y\":[112.9542101031332],\"z\":[17.189408927560176]},{\"hovertemplate\":\"index=H261<br>PC0=%{x}<br>PC1=%{y}<br>PC2=%{z}<extra></extra>\",\"legendgroup\":\"H261\",\"marker\":{\"color\":\"#FF97FF\",\"symbol\":\"circle\"},\"mode\":\"markers\",\"name\":\"H261\",\"scene\":\"scene\",\"showlegend\":true,\"type\":\"scatter3d\",\"x\":[59.92107123488511],\"y\":[138.91277225174017],\"z\":[4.3022863855529305]},{\"hovertemplate\":\"index=H262<br>PC0=%{x}<br>PC1=%{y}<br>PC2=%{z}<extra></extra>\",\"legendgroup\":\"H262\",\"marker\":{\"color\":\"#FECB52\",\"symbol\":\"circle\"},\"mode\":\"markers\",\"name\":\"H262\",\"scene\":\"scene\",\"showlegend\":true,\"type\":\"scatter3d\",\"x\":[200.91122235913724],\"y\":[-47.267837340662844],\"z\":[-92.37333955655112]},{\"hovertemplate\":\"index=H263<br>PC0=%{x}<br>PC1=%{y}<br>PC2=%{z}<extra></extra>\",\"legendgroup\":\"H263\",\"marker\":{\"color\":\"#636efa\",\"symbol\":\"circle\"},\"mode\":\"markers\",\"name\":\"H263\",\"scene\":\"scene\",\"showlegend\":true,\"type\":\"scatter3d\",\"x\":[-83.80050554613719],\"y\":[-23.962041822286324],\"z\":[8.825799787201015]},{\"hovertemplate\":\"index=H264<br>PC0=%{x}<br>PC1=%{y}<br>PC2=%{z}<extra></extra>\",\"legendgroup\":\"H264\",\"marker\":{\"color\":\"#EF553B\",\"symbol\":\"circle\"},\"mode\":\"markers\",\"name\":\"H264\",\"scene\":\"scene\",\"showlegend\":true,\"type\":\"scatter3d\",\"x\":[-76.59615273429053],\"y\":[-1.6384035467906852],\"z\":[9.608323508456458]},{\"hovertemplate\":\"index=H265<br>PC0=%{x}<br>PC1=%{y}<br>PC2=%{z}<extra></extra>\",\"legendgroup\":\"H265\",\"marker\":{\"color\":\"#00cc96\",\"symbol\":\"circle\"},\"mode\":\"markers\",\"name\":\"H265\",\"scene\":\"scene\",\"showlegend\":true,\"type\":\"scatter3d\",\"x\":[-77.01876617666035],\"y\":[-11.398276534299542],\"z\":[11.009521148894082]},{\"hovertemplate\":\"index=H266<br>PC0=%{x}<br>PC1=%{y}<br>PC2=%{z}<extra></extra>\",\"legendgroup\":\"H266\",\"marker\":{\"color\":\"#ab63fa\",\"symbol\":\"circle\"},\"mode\":\"markers\",\"name\":\"H266\",\"scene\":\"scene\",\"showlegend\":true,\"type\":\"scatter3d\",\"x\":[176.15797011434285],\"y\":[-24.68858564767737],\"z\":[-40.08499292598671]},{\"hovertemplate\":\"index=H267<br>PC0=%{x}<br>PC1=%{y}<br>PC2=%{z}<extra></extra>\",\"legendgroup\":\"H267\",\"marker\":{\"color\":\"#FFA15A\",\"symbol\":\"circle\"},\"mode\":\"markers\",\"name\":\"H267\",\"scene\":\"scene\",\"showlegend\":true,\"type\":\"scatter3d\",\"x\":[-63.71790505984008],\"y\":[-11.729989895128858],\"z\":[-13.210091719201044]},{\"hovertemplate\":\"index=H268<br>PC0=%{x}<br>PC1=%{y}<br>PC2=%{z}<extra></extra>\",\"legendgroup\":\"H268\",\"marker\":{\"color\":\"#19d3f3\",\"symbol\":\"circle\"},\"mode\":\"markers\",\"name\":\"H268\",\"scene\":\"scene\",\"showlegend\":true,\"type\":\"scatter3d\",\"x\":[-104.47387249182107],\"y\":[-13.337888311828577],\"z\":[16.856068201600984]},{\"hovertemplate\":\"index=H269<br>PC0=%{x}<br>PC1=%{y}<br>PC2=%{z}<extra></extra>\",\"legendgroup\":\"H269\",\"marker\":{\"color\":\"#FF6692\",\"symbol\":\"circle\"},\"mode\":\"markers\",\"name\":\"H269\",\"scene\":\"scene\",\"showlegend\":true,\"type\":\"scatter3d\",\"x\":[-89.32404761905984],\"y\":[-17.048897189487125],\"z\":[1.8912435401261645]},{\"hovertemplate\":\"index=H270<br>PC0=%{x}<br>PC1=%{y}<br>PC2=%{z}<extra></extra>\",\"legendgroup\":\"H270\",\"marker\":{\"color\":\"#B6E880\",\"symbol\":\"circle\"},\"mode\":\"markers\",\"name\":\"H270\",\"scene\":\"scene\",\"showlegend\":true,\"type\":\"scatter3d\",\"x\":[45.82364094196149],\"y\":[-34.51849961047291],\"z\":[67.31601757866567]}],                        {\"legend\":{\"title\":{\"text\":\"index\"},\"tracegroupgap\":0},\"margin\":{\"t\":60},\"scene\":{\"domain\":{\"x\":[0.0,1.0],\"y\":[0.0,1.0]},\"xaxis\":{\"title\":{\"text\":\"PC0\"}},\"yaxis\":{\"title\":{\"text\":\"PC1\"}},\"zaxis\":{\"title\":{\"text\":\"PC2\"}}},\"template\":{\"data\":{\"bar\":[{\"error_x\":{\"color\":\"#f2f5fa\"},\"error_y\":{\"color\":\"#f2f5fa\"},\"marker\":{\"line\":{\"color\":\"rgb(17,17,17)\",\"width\":0.5},\"pattern\":{\"fillmode\":\"overlay\",\"size\":10,\"solidity\":0.2}},\"type\":\"bar\"}],\"barpolar\":[{\"marker\":{\"line\":{\"color\":\"rgb(17,17,17)\",\"width\":0.5},\"pattern\":{\"fillmode\":\"overlay\",\"size\":10,\"solidity\":0.2}},\"type\":\"barpolar\"}],\"carpet\":[{\"aaxis\":{\"endlinecolor\":\"#A2B1C6\",\"gridcolor\":\"#506784\",\"linecolor\":\"#506784\",\"minorgridcolor\":\"#506784\",\"startlinecolor\":\"#A2B1C6\"},\"baxis\":{\"endlinecolor\":\"#A2B1C6\",\"gridcolor\":\"#506784\",\"linecolor\":\"#506784\",\"minorgridcolor\":\"#506784\",\"startlinecolor\":\"#A2B1C6\"},\"type\":\"carpet\"}],\"choropleth\":[{\"colorbar\":{\"outlinewidth\":0,\"ticks\":\"\"},\"type\":\"choropleth\"}],\"contour\":[{\"colorbar\":{\"outlinewidth\":0,\"ticks\":\"\"},\"colorscale\":[[0.0,\"#0d0887\"],[0.1111111111111111,\"#46039f\"],[0.2222222222222222,\"#7201a8\"],[0.3333333333333333,\"#9c179e\"],[0.4444444444444444,\"#bd3786\"],[0.5555555555555556,\"#d8576b\"],[0.6666666666666666,\"#ed7953\"],[0.7777777777777778,\"#fb9f3a\"],[0.8888888888888888,\"#fdca26\"],[1.0,\"#f0f921\"]],\"type\":\"contour\"}],\"contourcarpet\":[{\"colorbar\":{\"outlinewidth\":0,\"ticks\":\"\"},\"type\":\"contourcarpet\"}],\"heatmap\":[{\"colorbar\":{\"outlinewidth\":0,\"ticks\":\"\"},\"colorscale\":[[0.0,\"#0d0887\"],[0.1111111111111111,\"#46039f\"],[0.2222222222222222,\"#7201a8\"],[0.3333333333333333,\"#9c179e\"],[0.4444444444444444,\"#bd3786\"],[0.5555555555555556,\"#d8576b\"],[0.6666666666666666,\"#ed7953\"],[0.7777777777777778,\"#fb9f3a\"],[0.8888888888888888,\"#fdca26\"],[1.0,\"#f0f921\"]],\"type\":\"heatmap\"}],\"heatmapgl\":[{\"colorbar\":{\"outlinewidth\":0,\"ticks\":\"\"},\"colorscale\":[[0.0,\"#0d0887\"],[0.1111111111111111,\"#46039f\"],[0.2222222222222222,\"#7201a8\"],[0.3333333333333333,\"#9c179e\"],[0.4444444444444444,\"#bd3786\"],[0.5555555555555556,\"#d8576b\"],[0.6666666666666666,\"#ed7953\"],[0.7777777777777778,\"#fb9f3a\"],[0.8888888888888888,\"#fdca26\"],[1.0,\"#f0f921\"]],\"type\":\"heatmapgl\"}],\"histogram\":[{\"marker\":{\"pattern\":{\"fillmode\":\"overlay\",\"size\":10,\"solidity\":0.2}},\"type\":\"histogram\"}],\"histogram2d\":[{\"colorbar\":{\"outlinewidth\":0,\"ticks\":\"\"},\"colorscale\":[[0.0,\"#0d0887\"],[0.1111111111111111,\"#46039f\"],[0.2222222222222222,\"#7201a8\"],[0.3333333333333333,\"#9c179e\"],[0.4444444444444444,\"#bd3786\"],[0.5555555555555556,\"#d8576b\"],[0.6666666666666666,\"#ed7953\"],[0.7777777777777778,\"#fb9f3a\"],[0.8888888888888888,\"#fdca26\"],[1.0,\"#f0f921\"]],\"type\":\"histogram2d\"}],\"histogram2dcontour\":[{\"colorbar\":{\"outlinewidth\":0,\"ticks\":\"\"},\"colorscale\":[[0.0,\"#0d0887\"],[0.1111111111111111,\"#46039f\"],[0.2222222222222222,\"#7201a8\"],[0.3333333333333333,\"#9c179e\"],[0.4444444444444444,\"#bd3786\"],[0.5555555555555556,\"#d8576b\"],[0.6666666666666666,\"#ed7953\"],[0.7777777777777778,\"#fb9f3a\"],[0.8888888888888888,\"#fdca26\"],[1.0,\"#f0f921\"]],\"type\":\"histogram2dcontour\"}],\"mesh3d\":[{\"colorbar\":{\"outlinewidth\":0,\"ticks\":\"\"},\"type\":\"mesh3d\"}],\"parcoords\":[{\"line\":{\"colorbar\":{\"outlinewidth\":0,\"ticks\":\"\"}},\"type\":\"parcoords\"}],\"pie\":[{\"automargin\":true,\"type\":\"pie\"}],\"scatter\":[{\"marker\":{\"line\":{\"color\":\"#283442\"}},\"type\":\"scatter\"}],\"scatter3d\":[{\"line\":{\"colorbar\":{\"outlinewidth\":0,\"ticks\":\"\"}},\"marker\":{\"colorbar\":{\"outlinewidth\":0,\"ticks\":\"\"}},\"type\":\"scatter3d\"}],\"scattercarpet\":[{\"marker\":{\"colorbar\":{\"outlinewidth\":0,\"ticks\":\"\"}},\"type\":\"scattercarpet\"}],\"scattergeo\":[{\"marker\":{\"colorbar\":{\"outlinewidth\":0,\"ticks\":\"\"}},\"type\":\"scattergeo\"}],\"scattergl\":[{\"marker\":{\"line\":{\"color\":\"#283442\"}},\"type\":\"scattergl\"}],\"scattermapbox\":[{\"marker\":{\"colorbar\":{\"outlinewidth\":0,\"ticks\":\"\"}},\"type\":\"scattermapbox\"}],\"scatterpolar\":[{\"marker\":{\"colorbar\":{\"outlinewidth\":0,\"ticks\":\"\"}},\"type\":\"scatterpolar\"}],\"scatterpolargl\":[{\"marker\":{\"colorbar\":{\"outlinewidth\":0,\"ticks\":\"\"}},\"type\":\"scatterpolargl\"}],\"scatterternary\":[{\"marker\":{\"colorbar\":{\"outlinewidth\":0,\"ticks\":\"\"}},\"type\":\"scatterternary\"}],\"surface\":[{\"colorbar\":{\"outlinewidth\":0,\"ticks\":\"\"},\"colorscale\":[[0.0,\"#0d0887\"],[0.1111111111111111,\"#46039f\"],[0.2222222222222222,\"#7201a8\"],[0.3333333333333333,\"#9c179e\"],[0.4444444444444444,\"#bd3786\"],[0.5555555555555556,\"#d8576b\"],[0.6666666666666666,\"#ed7953\"],[0.7777777777777778,\"#fb9f3a\"],[0.8888888888888888,\"#fdca26\"],[1.0,\"#f0f921\"]],\"type\":\"surface\"}],\"table\":[{\"cells\":{\"fill\":{\"color\":\"#506784\"},\"line\":{\"color\":\"rgb(17,17,17)\"}},\"header\":{\"fill\":{\"color\":\"#2a3f5f\"},\"line\":{\"color\":\"rgb(17,17,17)\"}},\"type\":\"table\"}]},\"layout\":{\"annotationdefaults\":{\"arrowcolor\":\"#f2f5fa\",\"arrowhead\":0,\"arrowwidth\":1},\"autotypenumbers\":\"strict\",\"coloraxis\":{\"colorbar\":{\"outlinewidth\":0,\"ticks\":\"\"}},\"colorscale\":{\"diverging\":[[0,\"#8e0152\"],[0.1,\"#c51b7d\"],[0.2,\"#de77ae\"],[0.3,\"#f1b6da\"],[0.4,\"#fde0ef\"],[0.5,\"#f7f7f7\"],[0.6,\"#e6f5d0\"],[0.7,\"#b8e186\"],[0.8,\"#7fbc41\"],[0.9,\"#4d9221\"],[1,\"#276419\"]],\"sequential\":[[0.0,\"#0d0887\"],[0.1111111111111111,\"#46039f\"],[0.2222222222222222,\"#7201a8\"],[0.3333333333333333,\"#9c179e\"],[0.4444444444444444,\"#bd3786\"],[0.5555555555555556,\"#d8576b\"],[0.6666666666666666,\"#ed7953\"],[0.7777777777777778,\"#fb9f3a\"],[0.8888888888888888,\"#fdca26\"],[1.0,\"#f0f921\"]],\"sequentialminus\":[[0.0,\"#0d0887\"],[0.1111111111111111,\"#46039f\"],[0.2222222222222222,\"#7201a8\"],[0.3333333333333333,\"#9c179e\"],[0.4444444444444444,\"#bd3786\"],[0.5555555555555556,\"#d8576b\"],[0.6666666666666666,\"#ed7953\"],[0.7777777777777778,\"#fb9f3a\"],[0.8888888888888888,\"#fdca26\"],[1.0,\"#f0f921\"]]},\"colorway\":[\"#636efa\",\"#EF553B\",\"#00cc96\",\"#ab63fa\",\"#FFA15A\",\"#19d3f3\",\"#FF6692\",\"#B6E880\",\"#FF97FF\",\"#FECB52\"],\"font\":{\"color\":\"#f2f5fa\"},\"geo\":{\"bgcolor\":\"rgb(17,17,17)\",\"lakecolor\":\"rgb(17,17,17)\",\"landcolor\":\"rgb(17,17,17)\",\"showlakes\":true,\"showland\":true,\"subunitcolor\":\"#506784\"},\"hoverlabel\":{\"align\":\"left\"},\"hovermode\":\"closest\",\"mapbox\":{\"style\":\"dark\"},\"paper_bgcolor\":\"rgb(17,17,17)\",\"plot_bgcolor\":\"rgb(17,17,17)\",\"polar\":{\"angularaxis\":{\"gridcolor\":\"#506784\",\"linecolor\":\"#506784\",\"ticks\":\"\"},\"bgcolor\":\"rgb(17,17,17)\",\"radialaxis\":{\"gridcolor\":\"#506784\",\"linecolor\":\"#506784\",\"ticks\":\"\"}},\"scene\":{\"xaxis\":{\"backgroundcolor\":\"rgb(17,17,17)\",\"gridcolor\":\"#506784\",\"gridwidth\":2,\"linecolor\":\"#506784\",\"showbackground\":true,\"ticks\":\"\",\"zerolinecolor\":\"#C8D4E3\"},\"yaxis\":{\"backgroundcolor\":\"rgb(17,17,17)\",\"gridcolor\":\"#506784\",\"gridwidth\":2,\"linecolor\":\"#506784\",\"showbackground\":true,\"ticks\":\"\",\"zerolinecolor\":\"#C8D4E3\"},\"zaxis\":{\"backgroundcolor\":\"rgb(17,17,17)\",\"gridcolor\":\"#506784\",\"gridwidth\":2,\"linecolor\":\"#506784\",\"showbackground\":true,\"ticks\":\"\",\"zerolinecolor\":\"#C8D4E3\"}},\"shapedefaults\":{\"line\":{\"color\":\"#f2f5fa\"}},\"sliderdefaults\":{\"bgcolor\":\"#C8D4E3\",\"bordercolor\":\"rgb(17,17,17)\",\"borderwidth\":1,\"tickwidth\":0},\"ternary\":{\"aaxis\":{\"gridcolor\":\"#506784\",\"linecolor\":\"#506784\",\"ticks\":\"\"},\"baxis\":{\"gridcolor\":\"#506784\",\"linecolor\":\"#506784\",\"ticks\":\"\"},\"bgcolor\":\"rgb(17,17,17)\",\"caxis\":{\"gridcolor\":\"#506784\",\"linecolor\":\"#506784\",\"ticks\":\"\"}},\"title\":{\"x\":0.05},\"updatemenudefaults\":{\"bgcolor\":\"#506784\",\"borderwidth\":0},\"xaxis\":{\"automargin\":true,\"gridcolor\":\"#283442\",\"linecolor\":\"#506784\",\"ticks\":\"\",\"title\":{\"standoff\":15},\"zerolinecolor\":\"#283442\",\"zerolinewidth\":2},\"yaxis\":{\"automargin\":true,\"gridcolor\":\"#283442\",\"linecolor\":\"#506784\",\"ticks\":\"\",\"title\":{\"standoff\":15},\"zerolinecolor\":\"#283442\",\"zerolinewidth\":2}}}},                        {\"responsive\": true}                    ).then(function(){\n                            \nvar gd = document.getElementById('96490f72-e86c-44f8-a3f0-3f2deeec6dd3');\nvar x = new MutationObserver(function (mutations, observer) {{\n        var display = window.getComputedStyle(gd).display;\n        if (!display || display === 'none') {{\n            console.log([gd, 'removed!']);\n            Plotly.purge(gd);\n            observer.disconnect();\n        }}\n}});\n\n// Listen for the removal of the full notebook cells\nvar notebookContainer = gd.closest('#notebook-container');\nif (notebookContainer) {{\n    x.observe(notebookContainer, {childList: true});\n}}\n\n// Listen for the clearing of the current output cell\nvar outputEl = gd.closest('.output');\nif (outputEl) {{\n    x.observe(outputEl, {childList: true});\n}}\n\n                        })                };                });            </script>        </div>"
     },
     "metadata": {},
     "output_type": "display_data"
    }
   ],
   "source": [
    "var = pca.explained_variance_ratio_.sum()\n",
    "fig = px.scatter_3d(df_pca, x=\"PC0\", y=\"PC1\", z=\"PC2\", color=df_pca.index, labels={'0':'PC1', '1':'PC2', '2':'PC3'}, template=\"plotly_dark\")\n",
    "fig.show()"
   ],
   "metadata": {
    "collapsed": false,
    "pycharm": {
     "name": "#%%\n"
    }
   }
  },
  {
   "cell_type": "code",
   "execution_count": 33,
   "outputs": [],
   "source": [
    "from sklearn.metrics.pairwise import cosine_similarity\n",
    "simi = cosine_similarity(np_pca, np_pca)"
   ],
   "metadata": {
    "collapsed": false,
    "pycharm": {
     "name": "#%%\n"
    }
   }
  },
  {
   "cell_type": "code",
   "execution_count": 34,
   "outputs": [
    {
     "name": "stdout",
     "output_type": "stream",
     "text": [
      "min: -0.5648680067668476\n",
      "max: 1.0000000000000009\n"
     ]
    }
   ],
   "source": [
    "print(f\"min: {np.min(simi)}\")\n",
    "print(f\"max: {np.max(simi)}\")"
   ],
   "metadata": {
    "collapsed": false,
    "pycharm": {
     "name": "#%%\n"
    }
   }
  },
  {
   "cell_type": "code",
   "execution_count": 19,
   "outputs": [
    {
     "data": {
      "text/plain": "<AxesSubplot:>"
     },
     "execution_count": 19,
     "metadata": {},
     "output_type": "execute_result"
    },
    {
     "data": {
      "text/plain": "<Figure size 3600x3600 with 2 Axes>",
      "image/png": "[encoded data removed]"
     },
     "metadata": {
      "needs_background": "light"
     },
     "output_type": "display_data"
    }
   ],
   "source": [
    "import seaborn as sns\n",
    "import matplotlib.pyplot as plt\n",
    "\n",
    "mask = np.zeros_like(simi)\n",
    "mask[np.triu_indices_from(mask)] = True\n",
    "fig, ax = plt.subplots(figsize=(50,50))\n",
    "cmap = sns.diverging_palette(250, 20, as_cmap=True)\n",
    "sns.heatmap(simi, xticklabels=indexes, yticklabels=indexes, linewidths=.8, ax=ax, mask=mask, cmap=cmap, vmin=-1, vmax=1)"
   ],
   "metadata": {
    "collapsed": false,
    "pycharm": {
     "name": "#%%\n"
    }
   }
  },
  {
   "cell_type": "code",
   "execution_count": 20,
   "outputs": [
    {
     "data": {
      "text/plain": "<Figure size 2160x2160 with 1 Axes>",
      "image/png": "[encoded data removed]"
     },
     "metadata": {
      "needs_background": "light"
     },
     "output_type": "display_data"
    }
   ],
   "source": [
    "from sklearn.cluster import AgglomerativeClustering\n",
    "from matplotlib import pyplot as plt\n",
    "from scipy.cluster.hierarchy import dendrogram\n",
    "\n",
    "def plot_dendrogram(model, **kwargs):\n",
    "    # Create linkage matrix and then plot the dendrogram\n",
    "\n",
    "    # create the counts of samples under each node\n",
    "    counts = np.zeros(model.children_.shape[0])\n",
    "    n_samples = len(model.labels_)\n",
    "    for i, merge in enumerate(model.children_):\n",
    "        current_count = 0\n",
    "        for child_idx in merge:\n",
    "            if child_idx < n_samples:\n",
    "                current_count += 1  # leaf node\n",
    "            else:\n",
    "                current_count += counts[child_idx - n_samples]\n",
    "        counts[i] = current_count\n",
    "\n",
    "    linkage_matrix = np.column_stack([model.children_, model.distances_,\n",
    "                                      counts]).astype(float)\n",
    "\n",
    "    # Plot the corresponding dendrogram\n",
    "    dendrogram(linkage_matrix, **kwargs)\n",
    "\n",
    "clustering = AgglomerativeClustering(affinity=\"euclidean\", distance_threshold=0, n_clusters=None, linkage=\"ward\")\n",
    "\n",
    "clustering = clustering.fit(df_pca)\n",
    "fig, ax = plt.subplots(figsize=(30,30))\n",
    "plt.title('Hierarchical Clustering Dendrogram')\n",
    "# plot the top three levels of the dendrogram\n",
    "plot_dendrogram(clustering, truncate_mode='level', p=3)\n",
    "plt.xlabel(\"Number of points in node (or index of point if no parenthesis).\")\n",
    "plt.show()"
   ],
   "metadata": {
    "collapsed": false,
    "pycharm": {
     "name": "#%%\n"
    }
   }
  },
  {
   "cell_type": "code",
   "execution_count": 21,
   "outputs": [
    {
     "name": "stdout",
     "output_type": "stream",
     "text": [
      "number of estimated clusters : 4\n"
     ]
    }
   ],
   "source": [
    "from sklearn.cluster import MeanShift\n",
    "\n",
    "ms = MeanShift(bin_seeding=True, cluster_all=False)\n",
    "ms.fit(np_pca)\n",
    "labels = ms.labels_\n",
    "cluster_centers = ms.cluster_centers_\n",
    "\n",
    "labels_unique = np.unique(labels)\n",
    "n_clusters_ = len(labels_unique) - 1\n",
    "\n",
    "print(\"number of estimated clusters : %d\" % n_clusters_)"
   ],
   "metadata": {
    "collapsed": false,
    "pycharm": {
     "name": "#%%\n"
    }
   }
  },
  {
   "cell_type": "code",
   "execution_count": 22,
   "outputs": [
    {
     "data": {
      "text/plain": "array([-1,  0,  0, -1,  0,  0,  0, -1,  0,  0,  0, -1,  0,  0,  0, -1,  0,\n        0,  0, -1,  0,  0,  0, -1,  0,  0, -1,  3,  0,  0, -1,  0,  0,  0,\n        0,  1, -1, -1, -1,  2,  0,  0,  0, -1,  0,  0,  0,  0])"
     },
     "execution_count": 22,
     "metadata": {},
     "output_type": "execute_result"
    }
   ],
   "source": [
    "labels"
   ],
   "metadata": {
    "collapsed": false,
    "pycharm": {
     "name": "#%%\n"
    }
   }
  },
  {
   "cell_type": "code",
   "execution_count": 23,
   "outputs": [
    {
     "data": {
      "text/plain": "array([[-5.22735277e+01, -1.40195618e+00,  3.47903981e+00,\n         3.94152228e+00, -1.34932614e+00,  3.86885525e-02,\n         3.65989639e+00,  2.98098276e+00,  5.64624648e-01,\n         3.54656412e+00, -2.65004451e+00, -2.53619677e+00,\n         1.19737553e+00, -4.31176191e+00, -1.06915853e+00,\n         6.00650419e-02,  1.04420866e+00, -5.55537157e+00,\n        -2.02637970e+00,  1.90554972e+00, -1.23689550e+00,\n         1.57648276e+00,  1.91810016e+00, -1.47264902e+00,\n         1.23811816e+00],\n       [ 2.46624979e+02, -6.49304677e+01,  2.98463299e+01,\n        -2.51171451e+01, -6.56511746e+01,  1.20295912e+02,\n        -5.71636523e+01,  6.15374524e+01, -5.46825639e+01,\n         9.19279565e+01, -2.94446344e+01, -2.35571301e+01,\n        -5.31785850e+01, -1.74028308e+00,  1.73749559e+01,\n         1.84106002e+01, -1.13551160e+01, -4.41219609e+00,\n        -2.83431444e+00, -1.05191215e+01, -1.78598879e+00,\n        -3.27805556e+00, -6.02912963e+00, -6.88288368e+00,\n         1.26598249e+01],\n       [ 2.00911222e+02, -4.72678373e+01, -9.23733396e+01,\n         1.63081330e-01,  1.21685157e+02, -5.76560493e+01,\n        -5.32073064e+01, -2.13219063e+01, -4.40534421e+01,\n        -3.74258529e+01, -7.04052783e+01, -7.47281748e+01,\n        -1.48513010e+01, -5.04483979e+01, -3.15024506e+01,\n         1.10051327e+01,  3.11180929e+01,  3.51492985e+00,\n        -5.96700393e+00, -1.68836332e+00,  1.86837600e+00,\n         9.96686454e-01,  5.33915522e+00, -4.90779231e+00,\n        -3.04603339e+00],\n       [ 1.55753168e+02, -8.70975463e+01, -8.74701188e+00,\n        -8.55923014e+00,  7.34248061e+00, -3.80378937e+01,\n        -4.68743778e+01,  1.22852619e+02,  4.54074243e+01,\n        -3.47293868e+01, -4.30532181e+00,  1.10187873e+02,\n         4.96958686e+01, -2.81933179e+01, -4.29842078e+01,\n        -3.79249312e+00, -1.17322938e+01,  1.86837587e+00,\n         6.63988750e+00,  4.88989260e+00, -1.14581322e+01,\n        -1.05700725e+01, -8.24593181e+00, -2.30711356e+00,\n        -1.30615165e+00]])"
     },
     "execution_count": 23,
     "metadata": {},
     "output_type": "execute_result"
    }
   ],
   "source": [
    "cluster_centers"
   ],
   "metadata": {
    "collapsed": false,
    "pycharm": {
     "name": "#%%\n"
    }
   }
  },
  {
   "cell_type": "code",
   "execution_count": 24,
   "outputs": [
    {
     "data": {
      "text/plain": "Text(0.5, 1.0, 'Estimated number of clusters: 4')"
     },
     "execution_count": 24,
     "metadata": {},
     "output_type": "execute_result"
    },
    {
     "data": {
      "text/plain": "<Figure size 1080x1080 with 1 Axes>",
      "image/png": "[encoded data removed]"
     },
     "metadata": {
      "needs_background": "light"
     },
     "output_type": "display_data"
    }
   ],
   "source": [
    "from itertools import cycle\n",
    "\n",
    "fig, ax = plt.subplots(figsize=(15,15))\n",
    "\n",
    "colors = cycle('bgrcmykbgrcmykbgrcmykbgrcmyk')\n",
    "for k, col in zip(range(n_clusters_), colors):\n",
    "    my_members = labels == k\n",
    "    cluster_center = cluster_centers[k]\n",
    "    plt.plot(np_pca[my_members, 0], np_pca[my_members, 1], col + '.')\n",
    "    plt.plot(cluster_center[0], cluster_center[1], 'o', markerfacecolor=col,\n",
    "             markeredgecolor='k', markersize=14)\n",
    "plt.title('Estimated number of clusters: %d' % n_clusters_)\n",
    "# plt.show()"
   ],
   "metadata": {
    "collapsed": false,
    "pycharm": {
     "name": "#%%\n"
    }
   }
  }
 ]
}